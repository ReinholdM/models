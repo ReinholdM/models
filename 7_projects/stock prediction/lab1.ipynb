{
  "cells": [
    {
      "cell_type": "code",
      "execution_count": 1,
      "metadata": {
        "pycharm": {
          "is_executing": false
        }
      },
      "outputs": [],
      "source": [
        "import pandas as pd\n",
        "import numpy as np\n",
        "import matplotlib.pyplot as plt\n",
        "import tensorflow as tf\n",
        "%matplotlib inline"
      ]
    },
    {
      "cell_type": "code",
      "execution_count": 2,
      "metadata": {
        "pycharm": {
          "is_executing": false
        }
      },
      "outputs": [],
      "source": "# 导入数据\nf \u003d open(r\u0027stock_data1.csv\u0027)  \n# 读入股票数据\ndf \u003d pd.read_csv(f)     \n# 获取最高价序列\ndata \u003d np.array(df[\u0027high\u0027])   \n# 转成行序列\ndata \u003d data[::-1]     "
    },
    {
      "cell_type": "code",
      "execution_count": 3,
      "metadata": {
        "pycharm": {
          "is_executing": false
        }
      },
      "outputs": [
        {
          "data": {
            "image/png": "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\u003d\n",
            "text/plain": [
              "\u003cFigure size 432x288 with 1 Axes\u003e"
            ]
          },
          "metadata": {
            "needs_background": "light"
          },
          "output_type": "display_data"
        }
      ],
      "source": [
        "# 可视化数据\n",
        "plt.plot(data)\n",
        "# 标准化\n",
        "normalize_data \u003d (data-np.mean(data))/np.std(data)"
      ]
    },
    {
      "cell_type": "code",
      "execution_count": 4,
      "metadata": {
        "pycharm": {
          "is_executing": false
        }
      },
      "outputs": [],
      "source": [
        "# 增加维度\n",
        "normalize_data \u003d normalize_data[:,np.newaxis]       "
      ]
    },
    {
      "cell_type": "code",
      "execution_count": 5,
      "metadata": {
        "pycharm": {
          "is_executing": false
        }
      },
      "outputs": [],
      "source": [
        "# 设置参数\n",
        "time_step \u003d 20      #时间步\n",
        "rnn_unit \u003d 10       #hidden layer units\n",
        "batch_size \u003d 60     #每一批次训练多少个样例\n",
        "input_size \u003d 1      #输入层维度\n",
        "output_size \u003d 1     #输出层维度\n",
        "lr \u003d 0.001         #学习率\n",
        "\n",
        "# 生成训练集\n",
        "train_x,train_y \u003d [],[]  \n",
        "for i in range(len(normalize_data)-time_step-1):\n",
        "    x \u003d normalize_data[i:i+time_step]\n",
        "    y \u003d normalize_data[i+1:i+time_step+1]\n",
        "    train_x.append(x.tolist())\n",
        "    train_y.append(y.tolist()) "
      ]
    },
    {
      "cell_type": "code",
      "execution_count": 6,
      "metadata": {
        "pycharm": {
          "is_executing": false
        }
      },
      "outputs": [
        {
          "name": "stdout",
          "output_type": "stream",
          "text": [
            "WARNING:tensorflow:From F:\\anaconda3.7\\lib\\site-packages\\tensorflow\\python\\framework\\op_def_library.py:263: colocate_with (from tensorflow.python.framework.ops) is deprecated and will be removed in a future version.\n",
            "Instructions for updating:\n",
            "Colocations handled automatically by placer.\n"
          ]
        }
      ],
      "source": [
        "# 定义输入占位符\n",
        "\n",
        "X \u003d tf.placeholder(tf.float32, [None,time_step,input_size])   \n",
        "Y \u003d tf.placeholder(tf.float32, [None,time_step,output_size])   \n",
        "\n",
        "# 定义变量：输入层、输出层权重、偏置\n",
        "\n",
        "weights \u003d {\n",
        "         \u0027in\u0027: tf.Variable(tf.random_normal([input_size,rnn_unit])),\n",
        "         \u0027out\u0027: tf.Variable(tf.random_normal([rnn_unit,1]))\n",
        "         }\n",
        "biases \u003d {\n",
        "        \u0027in\u0027: tf.Variable(tf.constant(0.1,shape\u003d[rnn_unit,])),\n",
        "        \u0027out\u0027 :tf.Variable(tf.constant(0.1,shape\u003d[1,]))\n",
        "        }"
      ]
    },
    {
      "cell_type": "code",
      "execution_count": 7,
      "metadata": {
        "pycharm": {
          "is_executing": false
        }
      },
      "outputs": [],
      "source": [
        "# 定义LSTM模型\n",
        "\n",
        "def lstm(batch):      \n",
        "    \n",
        "    w_in \u003d weights[\u0027in\u0027]\n",
        "    b_in \u003d biases[\u0027in\u0027]\n",
        "    # 将x转成2维作为隐藏层的输入\n",
        "    input \u003d tf.reshape(X,[-1,input_size]) \n",
        "    input_rnn \u003d tf.matmul(input,w_in) + b_in\n",
        "    \n",
        "    # 将input_rnn转成3维作为lstm cell的输入\n",
        "    input_rnn \u003d tf.reshape(input_rnn,[-1,time_step,rnn_unit])  \n",
        "    cell \u003d tf.nn.rnn_cell.BasicLSTMCell(rnn_unit)\n",
        "    init_state \u003d cell.zero_state(batch,dtype\u003dtf.float32)\n",
        "    \n",
        "    # output_rnn是记录lstm每个输出节点的结果，final_states是最后一个cell的结果\n",
        "    output_rnn,final_states \u003d tf.nn.dynamic_rnn(cell, input_rnn,initial_state\u003dinit_state, dtype\u003dtf.float32)  \n",
        "    \n",
        "    # 输出层的输入\n",
        "    output \u003d tf.reshape(output_rnn,[-1,rnn_unit]) \n",
        "    w_out \u003d weights[\u0027out\u0027]\n",
        "    b_out \u003d biases[\u0027out\u0027]\n",
        "    pred \u003d tf.matmul(output,w_out) + b_out\n",
        "    return pred,final_states"
      ]
    },
    {
      "cell_type": "code",
      "execution_count": 8,
      "metadata": {
        "pycharm": {
          "is_executing": false
        }
      },
      "outputs": [
        {
          "name": "stdout",
          "output_type": "stream",
          "text": [
            "WARNING:tensorflow:From \u003cipython-input-7-f4613c6d5f29\u003e:13: BasicLSTMCell.__init__ (from tensorflow.python.ops.rnn_cell_impl) is deprecated and will be removed in a future version.\n",
            "Instructions for updating:\n",
            "This class is equivalent as tf.keras.layers.LSTMCell, and will be replaced by that in Tensorflow 2.0.\n",
            "WARNING:tensorflow:From \u003cipython-input-7-f4613c6d5f29\u003e:17: dynamic_rnn (from tensorflow.python.ops.rnn) is deprecated and will be removed in a future version.\n",
            "Instructions for updating:\n",
            "Please use `keras.layers.RNN(cell)`, which is equivalent to this API\n",
            "0 199.0769814569503\n",
            "1 258.67243717680685\n",
            "2 129.9092101911083\n",
            "3 115.70225350069813\n",
            "4 15.285599182592705\n",
            "保存模型： model/stock.model\n"
          ]
        }
      ],
      "source": "# 训练模型\n\ndef train_lstm():\n    \n    global batch_size\n    pred,_ \u003d lstm(batch_size)\n    \n    # 损失函数\n    loss \u003d tf.reduce_mean(tf.square(tf.reshape(pred,[-1])-tf.reshape(Y, [-1])))\n    train_op \u003d tf.train.AdamOptimizer(lr).minimize(loss)\n    saver \u003d tf.train.Saver(tf.global_variables())\n    \n    with tf.Session() as sess:\n        sess.run(tf.global_variables_initializer())\n        \n        # 重复训练1000次\n        for step in range(1000):\n            start \u003d 0\n            end \u003d start + batch_size\n            tol_loss \u003d 0\n            while end\u003clen(train_x):\n                _,loss_ \u003d sess.run([train_op,loss],feed_dict\u003d{X:train_x[start:end],Y:train_y[start:end]})\n                start +\u003d batch_size\n                end \u003d start + batch_size\n                tol_loss +\u003d loss_\n            \n            print(step,tol_loss)                 \n        print(\"保存模型：\",saver.save(sess,\u0027model/stock.model\u0027))\n\n\nwith tf.variable_scope(\u0027train1\u0027):  \n    train_lstm() "
    },
    {
      "cell_type": "code",
      "execution_count": 32,
      "metadata": {
        "pycharm": {
          "is_executing": false
        }
      },
      "outputs": [
        {
          "name": "stdout",
          "output_type": "stream",
          "text": [
            "INFO:tensorflow:Restoring parameters from model/stock.model\n",
            "6111\n",
            "6060\n"
          ]
        },
        {
          "data": {
            "image/png": "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\u003d\n",
            "text/plain": [
              "\u003cFigure size 432x288 with 1 Axes\u003e"
            ]
          },
          "metadata": {
            "needs_background": "light"
          },
          "output_type": "display_data"
        }
      ],
      "source": [
        "# 预测方式一：full sequence prediction\n",
        "# 只用第一个timestep的序列，然后预测后面的时候使用先前的预测结果。\n",
        "def prediction():\n",
        "    # 预测时只输入[1,time_step,input_size]的测试数据\n",
        "    pred,_ \u003d lstm(1)      \n",
        "    saver\u003d tf.train.Saver(tf.global_variables())\n",
        "    with tf.Session() as sess:\n",
        "        # 参数恢复\n",
        "        saver.restore(sess, \"model/stock.model\") \n",
        "\n",
        "        # 取训练集最后一行为测试样本。shape\u003d[1,time_step,input_size]\n",
        "        prev_seq \u003d train_x[0]\n",
        "        predict \u003d []\n",
        "        # 得到之后的预测结果\n",
        "        for i in range(time_step, len(normalize_data)-time_step):\n",
        "            next_seq \u003d sess.run(pred,feed_dict\u003d{X:[prev_seq]}).reshape(-1)\n",
        "            predict.append(next_seq[-1])\n",
        "            # 每次得到最后一个时间步的预测结果，与之前的数据加在一起，形成新的测试样本\n",
        "            prev_seq \u003d np.vstack((prev_seq[1:],next_seq[-1]))\n",
        "        \n",
        "        # 可视化结果\n",
        "        plt.plot(list(range(len(normalize_data))), normalize_data, color\u003d\u0027b\u0027)\n",
        "        plt.plot(list(range(time_step,time_step+ len(predict))), predict, color\u003d\u0027r\u0027)\n",
        "        plt.show()\n",
        "\n",
        "with tf.variable_scope(\u0027train1\u0027,reuse\u003dTrue):  \n",
        "    prediction()  "
      ]
    },
    {
      "cell_type": "code",
      "execution_count": 29,
      "metadata": {
        "pycharm": {}
      },
      "outputs": [
        {
          "name": "stdout",
          "output_type": "stream",
          "text": [
            "INFO:tensorflow:Restoring parameters from model/stock.model\n"
          ]
        },
        {
          "data": {
            "image/png": "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\u003d\u003d\n",
            "text/plain": [
              "\u003cFigure size 432x288 with 1 Axes\u003e"
            ]
          },
          "metadata": {
            "needs_background": "light"
          },
          "output_type": "display_data"
        }
      ],
      "source": [
        "# 预测方式二：point-by-point prediction\n",
        "# 预测的时候使用训练数据而非先前的预测结果\n",
        "def prediction():\n",
        "    pred,_ \u003d lstm(batch_size)      \n",
        "    saver\u003d tf.train.Saver(tf.global_variables())\n",
        "    with tf.Session() as sess:\n",
        "        # 参数恢复\n",
        "        saver.restore(sess, \"model/stock.model\") \n",
        "        start \u003d 0\n",
        "        end \u003d start + batch_size\n",
        "        predict \u003d []\n",
        "        while end\u003clen(train_x):\n",
        "            next_seq \u003d sess.run(pred,feed_dict\u003d{X:train_x[start:end]}).reshape(batch_size, -1)\n",
        "            predict.extend(next_seq[:,-1])\n",
        "            start +\u003d batch_size\n",
        "            end \u003d start + batch_size\n",
        "        # 可视化结果\n",
        "        plt.plot(list(range(len(normalize_data))), normalize_data, color\u003d\u0027b\u0027)\n",
        "        plt.plot(list(range(1, 1+ len(predict))), predict, color\u003d\u0027r\u0027)\n",
        "        plt.show()\n",
        "\n",
        "with tf.variable_scope(\u0027train1\u0027,reuse\u003dTrue):  \n",
        "    prediction()  "
      ]
    },
    {
      "cell_type": "code",
      "execution_count": 9,
      "metadata": {
        "collapsed": true,
        "pycharm": {
          "is_executing": false
        }
      },
      "outputs": [],
      "source": [
        "# 参考\n",
        "# https://lilianweng.github.io/lil-log/2017/07/08/predict-stock-prices-using-RNN-part-1.html"
      ]
    }
  ],
  "metadata": {
    "anaconda-cloud": {},
    "kernelspec": {
      "display_name": "Python 3",
      "language": "python",
      "name": "python3"
    },
    "language_info": {
      "codemirror_mode": {
        "name": "ipython",
        "version": 3
      },
      "file_extension": ".py",
      "mimetype": "text/x-python",
      "name": "python",
      "nbconvert_exporter": "python",
      "pygments_lexer": "ipython3",
      "version": "3.7.1"
    }
  },
  "nbformat": 4,
  "nbformat_minor": 2
}