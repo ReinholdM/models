{
  "cells": [
    {
      "cell_type": "markdown",
      "source": "# 加载数据",
      "metadata": {
        "pycharm": {
          "metadata": false,
          "name": "#%% md\n"
        }
      }
    },
    {
      "cell_type": "code",
      "execution_count": 1,
      "metadata": {
        "collapsed": true,
        "pycharm": {
          "is_executing": false
        }
      },
      "outputs": [],
      "source": "import numpy as np\nimport pandas as pd\nimport seaborn as sns\nimport matplotlib.pyplot as plt\n%matplotlib inline\n\nroot_path \u003d r\u0027D:\\github\\models\\kaggle\\titanic\\data\u0027\ntrain \u003d pd.read_csv(\u0027%s/%s\u0027 % (root_path, \u0027train.csv\u0027))\ntest \u003d pd.read_csv(\u0027%s/%s\u0027 % (root_path, \u0027test.csv\u0027))"
    },
    {
      "cell_type": "markdown",
      "source": "# 特征详情",
      "metadata": {
        "pycharm": {
          "metadata": false
        }
      }
    },
    {
      "cell_type": "code",
      "execution_count": 4,
      "outputs": [
        {
          "name": "stdout",
          "text": [
            "\u003cclass \u0027pandas.core.frame.DataFrame\u0027\u003e\nRangeIndex: 891 entries, 0 to 890\nData columns (total 12 columns):\nPassengerId    891 non-null int64\nSurvived       891 non-null int64\nPclass         891 non-null int64\nName           891 non-null object\nSex            891 non-null object\nAge            714 non-null float64\nSibSp          891 non-null int64\nParch          891 non-null int64\nTicket         891 non-null object\nFare           891 non-null float64\nCabin          204 non-null object\nEmbarked       889 non-null object\ndtypes: float64(2), int64(5), object(5)\nmemory usage: 83.6+ KB\n"
          ],
          "output_type": "stream"
        }
      ],
      "source": "train.head(5)\ntrain.info()",
      "metadata": {
        "pycharm": {
          "metadata": false,
          "name": "#%%\n",
          "is_executing": false
        }
      }
    },
    {
      "cell_type": "code",
      "execution_count": 5,
      "outputs": [
        {
          "data": {
            "text/plain": "       PassengerId    Survived      Pclass         Age       SibSp  \\\ncount   891.000000  891.000000  891.000000  714.000000  891.000000   \nmean    446.000000    0.383838    2.308642   29.699118    0.523008   \nstd     257.353842    0.486592    0.836071   14.526497    1.102743   \nmin       1.000000    0.000000    1.000000    0.420000    0.000000   \n25%     223.500000    0.000000    2.000000   20.125000    0.000000   \n50%     446.000000    0.000000    3.000000   28.000000    0.000000   \n75%     668.500000    1.000000    3.000000   38.000000    1.000000   \nmax     891.000000    1.000000    3.000000   80.000000    8.000000   \n\n            Parch        Fare  \ncount  891.000000  891.000000  \nmean     0.381594   32.204208  \nstd      0.806057   49.693429  \nmin      0.000000    0.000000  \n25%      0.000000    7.910400  \n50%      0.000000   14.454200  \n75%      0.000000   31.000000  \nmax      6.000000  512.329200  ",
            "text/html": "\u003cdiv\u003e\n\u003cstyle scoped\u003e\n    .dataframe tbody tr th:only-of-type {\n        vertical-align: middle;\n    }\n\n    .dataframe tbody tr th {\n        vertical-align: top;\n    }\n\n    .dataframe thead th {\n        text-align: right;\n    }\n\u003c/style\u003e\n\u003ctable border\u003d\"1\" class\u003d\"dataframe\"\u003e\n  \u003cthead\u003e\n    \u003ctr style\u003d\"text-align: right;\"\u003e\n      \u003cth\u003e\u003c/th\u003e\n      \u003cth\u003ePassengerId\u003c/th\u003e\n      \u003cth\u003eSurvived\u003c/th\u003e\n      \u003cth\u003ePclass\u003c/th\u003e\n      \u003cth\u003eAge\u003c/th\u003e\n      \u003cth\u003eSibSp\u003c/th\u003e\n      \u003cth\u003eParch\u003c/th\u003e\n      \u003cth\u003eFare\u003c/th\u003e\n    \u003c/tr\u003e\n  \u003c/thead\u003e\n  \u003ctbody\u003e\n    \u003ctr\u003e\n      \u003cth\u003ecount\u003c/th\u003e\n      \u003ctd\u003e891.000000\u003c/td\u003e\n      \u003ctd\u003e891.000000\u003c/td\u003e\n      \u003ctd\u003e891.000000\u003c/td\u003e\n      \u003ctd\u003e714.000000\u003c/td\u003e\n      \u003ctd\u003e891.000000\u003c/td\u003e\n      \u003ctd\u003e891.000000\u003c/td\u003e\n      \u003ctd\u003e891.000000\u003c/td\u003e\n    \u003c/tr\u003e\n    \u003ctr\u003e\n      \u003cth\u003emean\u003c/th\u003e\n      \u003ctd\u003e446.000000\u003c/td\u003e\n      \u003ctd\u003e0.383838\u003c/td\u003e\n      \u003ctd\u003e2.308642\u003c/td\u003e\n      \u003ctd\u003e29.699118\u003c/td\u003e\n      \u003ctd\u003e0.523008\u003c/td\u003e\n      \u003ctd\u003e0.381594\u003c/td\u003e\n      \u003ctd\u003e32.204208\u003c/td\u003e\n    \u003c/tr\u003e\n    \u003ctr\u003e\n      \u003cth\u003estd\u003c/th\u003e\n      \u003ctd\u003e257.353842\u003c/td\u003e\n      \u003ctd\u003e0.486592\u003c/td\u003e\n      \u003ctd\u003e0.836071\u003c/td\u003e\n      \u003ctd\u003e14.526497\u003c/td\u003e\n      \u003ctd\u003e1.102743\u003c/td\u003e\n      \u003ctd\u003e0.806057\u003c/td\u003e\n      \u003ctd\u003e49.693429\u003c/td\u003e\n    \u003c/tr\u003e\n    \u003ctr\u003e\n      \u003cth\u003emin\u003c/th\u003e\n      \u003ctd\u003e1.000000\u003c/td\u003e\n      \u003ctd\u003e0.000000\u003c/td\u003e\n      \u003ctd\u003e1.000000\u003c/td\u003e\n      \u003ctd\u003e0.420000\u003c/td\u003e\n      \u003ctd\u003e0.000000\u003c/td\u003e\n      \u003ctd\u003e0.000000\u003c/td\u003e\n      \u003ctd\u003e0.000000\u003c/td\u003e\n    \u003c/tr\u003e\n    \u003ctr\u003e\n      \u003cth\u003e25%\u003c/th\u003e\n      \u003ctd\u003e223.500000\u003c/td\u003e\n      \u003ctd\u003e0.000000\u003c/td\u003e\n      \u003ctd\u003e2.000000\u003c/td\u003e\n      \u003ctd\u003e20.125000\u003c/td\u003e\n      \u003ctd\u003e0.000000\u003c/td\u003e\n      \u003ctd\u003e0.000000\u003c/td\u003e\n      \u003ctd\u003e7.910400\u003c/td\u003e\n    \u003c/tr\u003e\n    \u003ctr\u003e\n      \u003cth\u003e50%\u003c/th\u003e\n      \u003ctd\u003e446.000000\u003c/td\u003e\n      \u003ctd\u003e0.000000\u003c/td\u003e\n      \u003ctd\u003e3.000000\u003c/td\u003e\n      \u003ctd\u003e28.000000\u003c/td\u003e\n      \u003ctd\u003e0.000000\u003c/td\u003e\n      \u003ctd\u003e0.000000\u003c/td\u003e\n      \u003ctd\u003e14.454200\u003c/td\u003e\n    \u003c/tr\u003e\n    \u003ctr\u003e\n      \u003cth\u003e75%\u003c/th\u003e\n      \u003ctd\u003e668.500000\u003c/td\u003e\n      \u003ctd\u003e1.000000\u003c/td\u003e\n      \u003ctd\u003e3.000000\u003c/td\u003e\n      \u003ctd\u003e38.000000\u003c/td\u003e\n      \u003ctd\u003e1.000000\u003c/td\u003e\n      \u003ctd\u003e0.000000\u003c/td\u003e\n      \u003ctd\u003e31.000000\u003c/td\u003e\n    \u003c/tr\u003e\n    \u003ctr\u003e\n      \u003cth\u003emax\u003c/th\u003e\n      \u003ctd\u003e891.000000\u003c/td\u003e\n      \u003ctd\u003e1.000000\u003c/td\u003e\n      \u003ctd\u003e3.000000\u003c/td\u003e\n      \u003ctd\u003e80.000000\u003c/td\u003e\n      \u003ctd\u003e8.000000\u003c/td\u003e\n      \u003ctd\u003e6.000000\u003c/td\u003e\n      \u003ctd\u003e512.329200\u003c/td\u003e\n    \u003c/tr\u003e\n  \u003c/tbody\u003e\n\u003c/table\u003e\n\u003c/div\u003e"
          },
          "metadata": {},
          "output_type": "execute_result",
          "execution_count": 5
        }
      ],
      "source": "# 返回数值型变量的统计量\n# train.describe(percentiles\u003d[0.00, 0.25, 0.5, 0.75, 1.00])\ntrain.describe()",
      "metadata": {
        "pycharm": {
          "metadata": false,
          "name": "#%%\n",
          "is_executing": false
        }
      }
    },
    {
      "cell_type": "code",
      "execution_count": null,
      "outputs": [],
      "source": "# 存活人数\ntrain[\u0027Survived\u0027].value_counts()",
      "metadata": {
        "pycharm": {
          "metadata": false,
          "name": "#%% \n"
        }
      }
    },
    {
      "cell_type": "markdown",
      "source": "",
      "metadata": {
        "pycharm": {
          "metadata": false
        }
      }
    },
    {
      "cell_type": "markdown",
      "source": "# 特征分析\n## 相关性协方差表",
      "metadata": {
        "pycharm": {
          "metadata": false,
          "name": "#%% md\n"
        }
      }
    },
    {
      "cell_type": "code",
      "execution_count": null,
      "outputs": [],
      "source": "train_corr \u003d train.drop(\u0027PassengerId\u0027, axis\u003d1).corr()\na \u003d plt.subplots(figsize\u003d(15,9))\na \u003d sns.heatmap(train_corr, vmin\u003d-1, vmax\u003d1, annot\u003dTrue, square\u003dTrue)",
      "metadata": {
        "pycharm": {
          "metadata": false,
          "name": "#%% \n"
        }
      }
    },
    {
      "cell_type": "markdown",
      "source": "## 各个数据与结果的关系\n1. Pclass, 乘客等级，1最高",
      "metadata": {
        "pycharm": {
          "metadata": false,
          "name": "#%% md\n"
        }
      }
    },
    {
      "cell_type": "code",
      "execution_count": 11,
      "outputs": [
        {
          "data": {
            "text/plain": "        Pclass  Survived\nPclass                  \n1          1.0  0.629630\n2          2.0  0.472826\n3          3.0  0.242363",
            "text/html": "\u003cdiv\u003e\n\u003cstyle scoped\u003e\n    .dataframe tbody tr th:only-of-type {\n        vertical-align: middle;\n    }\n\n    .dataframe tbody tr th {\n        vertical-align: top;\n    }\n\n    .dataframe thead th {\n        text-align: right;\n    }\n\u003c/style\u003e\n\u003ctable border\u003d\"1\" class\u003d\"dataframe\"\u003e\n  \u003cthead\u003e\n    \u003ctr style\u003d\"text-align: right;\"\u003e\n      \u003cth\u003e\u003c/th\u003e\n      \u003cth\u003ePclass\u003c/th\u003e\n      \u003cth\u003eSurvived\u003c/th\u003e\n    \u003c/tr\u003e\n    \u003ctr\u003e\n      \u003cth\u003ePclass\u003c/th\u003e\n      \u003cth\u003e\u003c/th\u003e\n      \u003cth\u003e\u003c/th\u003e\n    \u003c/tr\u003e\n  \u003c/thead\u003e\n  \u003ctbody\u003e\n    \u003ctr\u003e\n      \u003cth\u003e1\u003c/th\u003e\n      \u003ctd\u003e1.0\u003c/td\u003e\n      \u003ctd\u003e0.629630\u003c/td\u003e\n    \u003c/tr\u003e\n    \u003ctr\u003e\n      \u003cth\u003e2\u003c/th\u003e\n      \u003ctd\u003e2.0\u003c/td\u003e\n      \u003ctd\u003e0.472826\u003c/td\u003e\n    \u003c/tr\u003e\n    \u003ctr\u003e\n      \u003cth\u003e3\u003c/th\u003e\n      \u003ctd\u003e3.0\u003c/td\u003e\n      \u003ctd\u003e0.242363\u003c/td\u003e\n    \u003c/tr\u003e\n  \u003c/tbody\u003e\n\u003c/table\u003e\n\u003c/div\u003e"
          },
          "metadata": {},
          "output_type": "execute_result",
          "execution_count": 11
        }
      ],
      "source": "train.groupby([\u0027Pclass\u0027])[\u0027Pclass\u0027,\u0027Survived\u0027].mean()",
      "metadata": {
        "pycharm": {
          "metadata": false,
          "name": "#%%\n",
          "is_executing": false
        }
      }
    },
    {
      "cell_type": "code",
      "execution_count": 12,
      "outputs": [
        {
          "data": {
            "text/plain": "\u003cmatplotlib.axes._subplots.AxesSubplot at 0x160ef7c9438\u003e"
          },
          "metadata": {},
          "output_type": "execute_result",
          "execution_count": 12
        },
        {
          "data": {
            "text/plain": "\u003cFigure size 432x288 with 1 Axes\u003e",
            "image/png": "iVBORw0KGgoAAAANSUhEUgAAAXcAAAEGCAYAAACevtWaAAAABHNCSVQICAgIfAhkiAAAAAlwSFlzAAALEgAACxIB0t1+/AAAADl0RVh0U29mdHdhcmUAbWF0cGxvdGxpYiB2ZXJzaW9uIDMuMC4yLCBodHRwOi8vbWF0cGxvdGxpYi5vcmcvOIA7rQAAErhJREFUeJzt3X+s3fV93/HnK9fmR2MCqn3XLLbDdYvR4oZAx41ZFKWzWEqMiC6VgrGdNZSJxgnUiaVsU822MMZClNFoFUP8gddRUAUyBqbhEK9oa0fakYT5XmrIjOPFIbS+NV1tIEQOIbbDe3/ci3d6ufiee32vL/74+ZAs3e/3fO73vo8vPP2933t+pKqQJLXlHbM9gCRp+hl3SWqQcZekBhl3SWqQcZekBhl3SWqQcZekBhl3SWqQcZekBs2ZrS+8YMGC6uvrm60vL0knpaGhoQNV1TvRulmLe19fH4ODg7P15SXppJTkL7pZ52UZSWqQcZekBhl3SWrQrF1zl9S+w4cPMzw8zGuvvTbbo5x0zjjjDBYtWsTcuXOn9PnGXdKMGR4e5qyzzqKvr48ksz3OSaOqePHFFxkeHmbJkiVTOoaXZSTNmNdee4358+cb9klKwvz584/rJx7jLmlGGfapOd6/N+MuSQ06Za659238+myPMKOe/8oVsz2CNKHp/v+w2//ub731Vu6//356enp4xzvewV133cUll1xyXF9769atPPvss2zcuPG4jgMwb948Dh48eNzH6XTKxF3Sqelb3/oWjz76KE899RSnn346Bw4c4NChQ1197pEjR5gzZ/xMDgwMMDAwMJ2jTisvy0hq2gsvvMCCBQs4/fTTAViwYAHvec976Ovr48CBAwAMDg6yYsUKAG6++WbWrVvHZZddxjXXXMMll1zCzp07jx5vxYoVDA0Ncc8997B+/XpeeeUV+vr6eP311wF49dVXWbx4MYcPH+b73/8+K1eu5OKLL+YjH/kI3/3udwH4wQ9+wIc+9CE++MEP8sUvfnFG7rdxl9S0yy67jL1793L++edzww038I1vfGPCzxkaGuKRRx7h/vvvZ82aNWzZsgUY+Ydi3759XHzxxUfXnn322Vx44YVHj/u1r32Nj33sY8ydO5d169Zxxx13MDQ0xFe/+lVuuOEGADZs2MD111/P9u3befe73z0D99q4S2rcvHnzGBoaYtOmTfT29rJ69WruueeeY37OwMAAZ555JgBXX301Dz74IABbtmxh1apVb1q/evVqHnjgAQA2b97M6tWrOXjwIN/85jdZtWoVF110EZ/5zGd44YUXAHjiiSdYu3YtAJ/61Kem667+LV5zl9S8np4eVqxYwYoVK7jgggu49957mTNnztFLKWMfT/7Od77z6McLFy5k/vz5PPPMMzzwwAPcddddbzr+wMAAN954Iy+99BJDQ0Nceuml/PjHP+acc85hx44d48400w8R9cxdUtN2797N9773vaPbO3bs4Nxzz6Wvr4+hoSEAHn744WMeY82aNdx222288sorXHDBBW+6fd68eSxfvpwNGzbw8Y9/nJ6eHt71rnexZMmSo2f9VcXTTz8NwIc//GE2b94MwH333Tct93Osrs7ck6wEbgd6gN+vqq+Ms+Zq4GaggKer6pPTOKekBszGQ3YPHjzI5z73OX74wx8yZ84czjvvPDZt2sSuXbu47rrr+PKXvzzhwyKvuuoqNmzYcMxffq5evZpVq1bx+OOPH9133333cf311/OlL32Jw4cPs2bNGi688EJuv/12PvnJT3L77bfziU98Yrru6t+Sqjr2gqQH+D/ArwHDwHZgbVU927FmKbAFuLSqXk7yd6rqb4513P7+/jqRb9bh49ylE2/Xrl28733vm+0xTlrj/f0lGaqq/ok+t5vLMsuBPVX1XFUdAjYDV45Z82ngzqp6GWCisEuSZlY3cV8I7O3YHh7d1+l84PwkTyT59uhlnDdJsi7JYJLB/fv3T21iSdKEuon7eL/SHXstZw6wFFgBrAV+P8k5b/qkqk1V1V9V/b29E76/q6QGTHTpV+M73r+3buI+DCzu2F4E7BtnzSNVdbiqfgDsZiT2kk5hZ5xxBi+++KKBn6Q3Xs/9jDPOmPIxunm0zHZgaZIlwF8Ba4Cxj4T5L4ycsd+TZAEjl2mem/JUkpqwaNEihoeH8TLs5L3xTkxTNWHcq+pIkvXAY4w8FPLuqtqZ5BZgsKq2jt52WZJngZ8B/7yqXpzyVJKaMHfu3Cm/k5COT1ePc6+qbcC2Mftu6vi4gC+M/pEkzTKfoSpJDTLuktQg4y5JDTLuktQg4y5JDTLuktQg4y5JDTLuktQg4y5JDTLuktQg4y5JDTLuktQg4y5JDTLuktQg4y5JDTLuktQg4y5JDTLuktQg4y5JDTLuktQg4y5JDTLuktQg4y5JDTLuktSgruKeZGWS3Un2JNk4zu3XJtmfZMfon9+a/lElSd2aM9GCJD3AncCvAcPA9iRbq+rZMUsfqKr1MzCjJGmSujlzXw7sqarnquoQsBm4cmbHkiQdj27ivhDY27E9PLpvrE8keSbJQ0kWj3egJOuSDCYZ3L9//xTGlSR1o5u4Z5x9NWb7a0BfVX0A+O/AveMdqKo2VVV/VfX39vZOblJJUte6ifsw0HkmvgjY17mgql6sqp+Obv5H4OLpGU+SNBXdxH07sDTJkiSnAWuArZ0Lkvzdjs0BYNf0jShJmqwJHy1TVUeSrAceA3qAu6tqZ5JbgMGq2gp8PskAcAR4Cbh2BmeWJE1gwrgDVNU2YNuYfTd1fHwjcOP0jiZJmiqfoSpJDTLuktQg4y5JDerqmrs02/o2fn22R5gxz3/litkeQQ3yzF2SGmTcJalBxl2SGmTcJalBxl2SGmTcJalBxl2SGmTcJalBxl2SGmTcJalBxl2SGmTcJalBxl2SGmTcJalBxl2SGmTcJalBxl2SGmTcJalBxl2SGmTcJalBXcU9ycoku5PsSbLxGOuuSlJJ+qdvREnSZE0Y9yQ9wJ3A5cAyYG2SZeOsOwv4PPDkdA8pSZqcbs7clwN7quq5qjoEbAauHGfdvwVuA16bxvkkSVPQTdwXAns7todH9x2V5FeAxVX16LEOlGRdksEkg/v375/0sJKk7nQT94yzr47emLwD+D3gn050oKraVFX9VdXf29vb/ZSSpEnpJu7DwOKO7UXAvo7ts4D3A48neR74B8BWf6kqSbOnm7hvB5YmWZLkNGANsPWNG6vqlapaUFV9VdUHfBsYqKrBGZlYkjShCeNeVUeA9cBjwC5gS1XtTHJLkoGZHlCSNHlzullUVduAbWP23fQWa1cc/1iSpOPhM1QlqUHGXZIaZNwlqUHGXZIaZNwlqUHGXZIaZNwlqUHGXZIaZNwlqUHGXZIaZNwlqUHGXZIaZNwlqUHGXZIaZNwlqUHGXZIaZNwlqUHGXZIaZNwlqUHGXZIaZNwlqUHGXZIaZNwlqUFdxT3JyiS7k+xJsnGc2z+b5DtJdiT5n0mWTf+okqRuTRj3JD3AncDlwDJg7Tjxvr+qLqiqi4DbgH8/7ZNKkrrWzZn7cmBPVT1XVYeAzcCVnQuq6kcdm+8EavpGlCRN1pwu1iwE9nZsDwOXjF2U5LeBLwCnAZdOy3SSpCnp5sw94+x705l5Vd1ZVb8E/A7wr8Y9ULIuyWCSwf37909uUklS17qJ+zCwuGN7EbDvGOs3A78+3g1Vtamq+quqv7e3t/spJUmT0k3ctwNLkyxJchqwBtjauSDJ0o7NK4DvTd+IkqTJmvCae1UdSbIeeAzoAe6uqp1JbgEGq2orsD7JR4HDwMvAb87k0JKkY+vmF6pU1TZg25h9N3V8vGGa55IkHQefoSpJDTLuktQg4y5JDTLuktQg4y5JDTLuktQg4y5JDTLuktQg4y5JDTLuktQg4y5JDTLuktQg4y5JDTLuktSgrl7yV5Kmqm/j12d7hBn1/FeumO0RxuWZuyQ1yLhLUoOMuyQ1yLhLUoOMuyQ1yLhLUoOMuyQ1yLhLUoOMuyQ1qKu4J1mZZHeSPUk2jnP7F5I8m+SZJH+c5NzpH1WS1K0J456kB7gTuBxYBqxNsmzMsj8H+qvqA8BDwG3TPagkqXvdnLkvB/ZU1XNVdQjYDFzZuaCq/kdVvTq6+W1g0fSOKUmajG7ivhDY27E9PLrvrVwH/NfjGUqSdHy6eVXIjLOvxl2Y/AbQD/zDt7h9HbAO4L3vfW+XI0qSJqubM/dhYHHH9iJg39hFST4K/EtgoKp+Ot6BqmpTVfVXVX9vb+9U5pUkdaGbuG8HliZZkuQ0YA2wtXNBkl8B7mIk7H8z/WNKkiZjwrhX1RFgPfAYsAvYUlU7k9ySZGB02e8C84AHk+xIsvUtDidJOgG6eiemqtoGbBuz76aOjz86zXNJko6Dz1CVpAYZd0lqkHGXpAYZd0lqkHGXpAYZd0lqkHGXpAYZd0lqkHGXpAYZd0lqkHGXpAYZd0lqkHGXpAYZd0lqkHGXpAYZd0lqkHGXpAYZd0lqkHGXpAYZd0lqkHGXpAYZd0lqkHGXpAYZd0lqUFdxT7Iyye4ke5JsHOf2X03yVJIjSa6a/jElSZMxYdyT9AB3ApcDy4C1SZaNWfaXwLXA/dM9oCRp8uZ0sWY5sKeqngNIshm4Enj2jQVV9fzoba/PwIySpEnq5rLMQmBvx/bw6D5J0ttUN3HPOPtqKl8sybokg0kG9+/fP5VDSJK60E3ch4HFHduLgH1T+WJVtamq+quqv7e3dyqHkCR1oZu4bweWJlmS5DRgDbB1ZseSJB2PCeNeVUeA9cBjwC5gS1XtTHJLkgGAJB9MMgysAu5KsnMmh5YkHVs3j5ahqrYB28bsu6nj4+2MXK6RJL0N+AxVSWqQcZekBhl3SWqQcZekBhl3SWqQcZekBhl3SWqQcZekBhl3SWqQcZekBhl3SWqQcZekBhl3SWqQcZekBhl3SWqQcZekBhl3SWqQcZekBhl3SWqQcZekBhl3SWqQcZekBhl3SWqQcZekBnUV9yQrk+xOsifJxnFuPz3JA6O3P5mkb7oHlSR1b8K4J+kB7gQuB5YBa5MsG7PsOuDlqjoP+D3g3033oJKk7nVz5r4c2FNVz1XVIWAzcOWYNVcC945+/BDwj5Jk+saUJE3GnC7WLAT2dmwPA5e81ZqqOpLkFWA+cKBzUZJ1wLrRzYNJdk9l6JPEAsbc/5kUf1aaTn7vTm6tf//O7WZRN3Ef7wy8prCGqtoEbOria570kgxWVf9sz6HJ83t3cvP7N6KbyzLDwOKO7UXAvrdak2QOcDbw0nQMKEmavG7ivh1YmmRJktOANcDWMWu2Ar85+vFVwJ9U1ZvO3CVJJ8aEl2VGr6GvBx4DeoC7q2pnkluAwaraCvwn4A+T7GHkjH3NTA59kjglLj81yu/dyc3vHxBPsCWpPT5DVZIaZNwlqUHGXZIa1M3j3CXpbSvJcqCqavvoS6OsBL5bVdtmebRZ5S9UdcpL8vcYeZb1k1V1sGP/yqr6o9mbTBNJ8q8Zed2rOcB/Y+TZ848DHwUeq6pbZ2+62WXcZ1iSf1JVfzDbc2h8ST4P/DawC7gI2FBVj4ze9lRV/f3ZnE/HluQ7jHzfTgf+GlhUVT9KciYj/1h/YFYHnEVelpl5/wYw7m9fnwYurqqDoy9V/VCSvqq6nfFfVkNvL0eq6mfAq0m+X1U/AqiqnyR5fZZnm1XGfRokeeatbgJ+4UTOoknreeNSTFU9n2QFI4E/F+N+MjiU5Oeq6lXg4jd2JjkbMO46br8AfAx4ecz+AN888eNoEv46yUVVtQNg9Az+48DdwAWzO5q68KtV9VOAquqM+Vz+/0uinJKM+/R4FJj3RiA6JXn8xI+jSbgGONK5o6qOANckuWt2RlK33gj7OPsPcAJf9vftyF+oSlKDfBKTJDXIuEtSg4y7mpXkZ0l2JPnfSR5M8nPHWHtzkn92IueTZpJxV8t+UlUXVdX7gUPAZ2d7IOlEMe46VfwZcB5AkmuSPJPk6SR/OHZhkk8n2T56+8NvnPEnWTX6U8DTSf50dN8vJ/lfoz8hPJNk6Qm9V9Jb8NEyalaSg1U1b/R9fR8G/gj4U+A/Ax+uqgNJfr6qXkpyM3Cwqr6aZH5VvTh6jC8B/7eq7hh9qvvKqvqrJOdU1Q+T3AF8u6ruG30byp6q+sms3GGpg2fuatmZSXYAg8BfMvJ2kJcCD40+DpqqGu+N3N+f5M9GY/6PgV8e3f8EcE+STzPylpMA3wL+RZLfAc417Hq78ElMatlPquqizh1JAkz04+o9wK9X1dNJrgVWAFTVZ5NcAlwB7Bh9Zuv9SZ4c3fdYkt+qqj+Z5vshTZpn7jrV/DFwdZL5AEl+fpw1ZwEvJJnLyJk7o2t/qaqerKqbGHn24+Ikvwg8V1X/AdgKnLKvQqi3F8/cdUqpqp1JbgW+keRnwJ8D145Z9kXgSeAvgO8wEnuA3x39hWkY+UfiaWAj8BtJDjPykrO3zPidkLrgL1QlqUFelpGkBhl3SWqQcZekBhl3SWqQcZekBhl3SWqQcZekBv0/v/YcvGMuhigAAAAASUVORK5CYII\u003d\n"
          },
          "metadata": {
            "needs_background": "light"
          },
          "output_type": "display_data"
        }
      ],
      "source": "train[[\u0027Pclass\u0027,\u0027Survived\u0027]].groupby([\u0027Pclass\u0027]).mean().plot.bar()",
      "metadata": {
        "pycharm": {
          "metadata": false,
          "name": "#%%\n",
          "is_executing": false
        }
      }
    },
    {
      "cell_type": "markdown",
      "source": "结果说明不同票类别，存活率不一样\n2. Sex, 性别",
      "metadata": {
        "pycharm": {
          "metadata": false,
          "name": "#%% md\n"
        }
      }
    },
    {
      "cell_type": "code",
      "execution_count": null,
      "outputs": [],
      "source": "train.groupby([\u0027Sex\u0027])[\u0027Sex\u0027,\u0027Survived\u0027].mean()",
      "metadata": {
        "pycharm": {
          "metadata": false,
          "name": "#%%\n"
        }
      }
    },
    {
      "cell_type": "code",
      "execution_count": null,
      "outputs": [],
      "source": "train[[\u0027Sex\u0027,\u0027Survived\u0027]].groupby([\u0027Sex\u0027]).mean().plot.bar()",
      "metadata": {
        "pycharm": {
          "metadata": false,
          "name": "#%%\n"
        }
      }
    },
    {
      "cell_type": "markdown",
      "source": "结果分析:女性有更高的活下来的概率（74%）,保留该特征\n3. SibSp Parch, 兄妹配偶  父母子女",
      "metadata": {
        "pycharm": {
          "metadata": false,
          "name": "#%% md\n"
        }
      }
    },
    {
      "cell_type": "code",
      "execution_count": 23,
      "outputs": [
        {
          "data": {
            "text/plain": "       SibSp  Survived\nSibSp                 \n0        0.0  0.345395\n1        1.0  0.535885\n2        2.0  0.464286\n3        3.0  0.250000\n4        4.0  0.166667\n5        5.0  0.000000\n8        8.0  0.000000",
            "text/html": "\u003cdiv\u003e\n\u003cstyle scoped\u003e\n    .dataframe tbody tr th:only-of-type {\n        vertical-align: middle;\n    }\n\n    .dataframe tbody tr th {\n        vertical-align: top;\n    }\n\n    .dataframe thead th {\n        text-align: right;\n    }\n\u003c/style\u003e\n\u003ctable border\u003d\"1\" class\u003d\"dataframe\"\u003e\n  \u003cthead\u003e\n    \u003ctr style\u003d\"text-align: right;\"\u003e\n      \u003cth\u003e\u003c/th\u003e\n      \u003cth\u003eSibSp\u003c/th\u003e\n      \u003cth\u003eSurvived\u003c/th\u003e\n    \u003c/tr\u003e\n    \u003ctr\u003e\n      \u003cth\u003eSibSp\u003c/th\u003e\n      \u003cth\u003e\u003c/th\u003e\n      \u003cth\u003e\u003c/th\u003e\n    \u003c/tr\u003e\n  \u003c/thead\u003e\n  \u003ctbody\u003e\n    \u003ctr\u003e\n      \u003cth\u003e0\u003c/th\u003e\n      \u003ctd\u003e0.0\u003c/td\u003e\n      \u003ctd\u003e0.345395\u003c/td\u003e\n    \u003c/tr\u003e\n    \u003ctr\u003e\n      \u003cth\u003e1\u003c/th\u003e\n      \u003ctd\u003e1.0\u003c/td\u003e\n      \u003ctd\u003e0.535885\u003c/td\u003e\n    \u003c/tr\u003e\n    \u003ctr\u003e\n      \u003cth\u003e2\u003c/th\u003e\n      \u003ctd\u003e2.0\u003c/td\u003e\n      \u003ctd\u003e0.464286\u003c/td\u003e\n    \u003c/tr\u003e\n    \u003ctr\u003e\n      \u003cth\u003e3\u003c/th\u003e\n      \u003ctd\u003e3.0\u003c/td\u003e\n      \u003ctd\u003e0.250000\u003c/td\u003e\n    \u003c/tr\u003e\n    \u003ctr\u003e\n      \u003cth\u003e4\u003c/th\u003e\n      \u003ctd\u003e4.0\u003c/td\u003e\n      \u003ctd\u003e0.166667\u003c/td\u003e\n    \u003c/tr\u003e\n    \u003ctr\u003e\n      \u003cth\u003e5\u003c/th\u003e\n      \u003ctd\u003e5.0\u003c/td\u003e\n      \u003ctd\u003e0.000000\u003c/td\u003e\n    \u003c/tr\u003e\n    \u003ctr\u003e\n      \u003cth\u003e8\u003c/th\u003e\n      \u003ctd\u003e8.0\u003c/td\u003e\n      \u003ctd\u003e0.000000\u003c/td\u003e\n    \u003c/tr\u003e\n  \u003c/tbody\u003e\n\u003c/table\u003e\n\u003c/div\u003e"
          },
          "metadata": {},
          "output_type": "execute_result",
          "execution_count": 23
        }
      ],
      "source": "train.groupby([\u0027SibSp\u0027])[\u0027SibSp\u0027,\u0027Survived\u0027].mean()",
      "metadata": {
        "pycharm": {
          "metadata": false,
          "name": "#%%\n",
          "is_executing": false
        }
      }
    },
    {
      "cell_type": "code",
      "execution_count": 22,
      "outputs": [
        {
          "data": {
            "text/plain": "\u003cmatplotlib.axes._subplots.AxesSubplot at 0x160efcd92e8\u003e"
          },
          "metadata": {},
          "output_type": "execute_result",
          "execution_count": 22
        },
        {
          "data": {
            "text/plain": "\u003cFigure size 432x288 with 1 Axes\u003e",
            "image/png": "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\u003d\u003d\n"
          },
          "metadata": {
            "needs_background": "light"
          },
          "output_type": "display_data"
        }
      ],
      "source": "train[[\u0027SibSp\u0027,\u0027Survived\u0027]].groupby([\u0027SibSp\u0027]).mean().plot.bar()",
      "metadata": {
        "pycharm": {
          "metadata": false,
          "name": "#%%\n",
          "is_executing": false
        }
      }
    },
    {
      "cell_type": "code",
      "execution_count": 21,
      "outputs": [
        {
          "data": {
            "text/plain": "          Parch  Survived\nSibSp                    \n0      0.185855  0.345395\n1      0.655502  0.535885\n2      0.642857  0.464286\n3      1.312500  0.250000\n4      1.500000  0.166667\n5      2.000000  0.000000\n8      2.000000  0.000000",
            "text/html": "\u003cdiv\u003e\n\u003cstyle scoped\u003e\n    .dataframe tbody tr th:only-of-type {\n        vertical-align: middle;\n    }\n\n    .dataframe tbody tr th {\n        vertical-align: top;\n    }\n\n    .dataframe thead th {\n        text-align: right;\n    }\n\u003c/style\u003e\n\u003ctable border\u003d\"1\" class\u003d\"dataframe\"\u003e\n  \u003cthead\u003e\n    \u003ctr style\u003d\"text-align: right;\"\u003e\n      \u003cth\u003e\u003c/th\u003e\n      \u003cth\u003eParch\u003c/th\u003e\n      \u003cth\u003eSurvived\u003c/th\u003e\n    \u003c/tr\u003e\n    \u003ctr\u003e\n      \u003cth\u003eSibSp\u003c/th\u003e\n      \u003cth\u003e\u003c/th\u003e\n      \u003cth\u003e\u003c/th\u003e\n    \u003c/tr\u003e\n  \u003c/thead\u003e\n  \u003ctbody\u003e\n    \u003ctr\u003e\n      \u003cth\u003e0\u003c/th\u003e\n      \u003ctd\u003e0.185855\u003c/td\u003e\n      \u003ctd\u003e0.345395\u003c/td\u003e\n    \u003c/tr\u003e\n    \u003ctr\u003e\n      \u003cth\u003e1\u003c/th\u003e\n      \u003ctd\u003e0.655502\u003c/td\u003e\n      \u003ctd\u003e0.535885\u003c/td\u003e\n    \u003c/tr\u003e\n    \u003ctr\u003e\n      \u003cth\u003e2\u003c/th\u003e\n      \u003ctd\u003e0.642857\u003c/td\u003e\n      \u003ctd\u003e0.464286\u003c/td\u003e\n    \u003c/tr\u003e\n    \u003ctr\u003e\n      \u003cth\u003e3\u003c/th\u003e\n      \u003ctd\u003e1.312500\u003c/td\u003e\n      \u003ctd\u003e0.250000\u003c/td\u003e\n    \u003c/tr\u003e\n    \u003ctr\u003e\n      \u003cth\u003e4\u003c/th\u003e\n      \u003ctd\u003e1.500000\u003c/td\u003e\n      \u003ctd\u003e0.166667\u003c/td\u003e\n    \u003c/tr\u003e\n    \u003ctr\u003e\n      \u003cth\u003e5\u003c/th\u003e\n      \u003ctd\u003e2.000000\u003c/td\u003e\n      \u003ctd\u003e0.000000\u003c/td\u003e\n    \u003c/tr\u003e\n    \u003ctr\u003e\n      \u003cth\u003e8\u003c/th\u003e\n      \u003ctd\u003e2.000000\u003c/td\u003e\n      \u003ctd\u003e0.000000\u003c/td\u003e\n    \u003c/tr\u003e\n  \u003c/tbody\u003e\n\u003c/table\u003e\n\u003c/div\u003e"
          },
          "metadata": {},
          "output_type": "execute_result",
          "execution_count": 21
        }
      ],
      "source": "train.groupby([\u0027SibSp\u0027])[\u0027Parch\u0027,\u0027Survived\u0027].mean()",
      "metadata": {
        "pycharm": {
          "metadata": false,
          "name": "#%%\n",
          "is_executing": false
        }
      }
    },
    {
      "cell_type": "code",
      "execution_count": 20,
      "outputs": [
        {
          "data": {
            "text/plain": "\u003cmatplotlib.axes._subplots.AxesSubplot at 0x160efc4a0f0\u003e"
          },
          "metadata": {},
          "output_type": "execute_result",
          "execution_count": 20
        },
        {
          "data": {
            "text/plain": "\u003cFigure size 432x288 with 1 Axes\u003e",
            "image/png": "[encoded data removed]"
          },
          "metadata": {
            "needs_background": "light"
          },
          "output_type": "display_data"
        }
      ],
      "source": "train[[\u0027Parch\u0027,\u0027Survived\u0027]].groupby([\u0027Parch\u0027]).mean().plot.bar()",
      "metadata": {
        "pycharm": {
          "metadata": false,
          "name": "#%%\n",
          "is_executing": false
        }
      }
    },
    {
      "cell_type": "markdown",
      "source": "结果分析:这些特征与特定的值没有相关性不明显，最好是由这些独立的特征派生出一个新特征或者一组新特征\n4. Age年龄与生存情况的分析.",
      "metadata": {
        "pycharm": {
          "metadata": false,
          "name": "#%% md\n"
        }
      }
    },
    {
      "cell_type": "code",
      "execution_count": 25,
      "outputs": [
        {
          "name": "stderr",
          "text": [
            "F:\\anaconda3.7\\lib\\site-packages\\seaborn\\axisgrid.py:230: UserWarning: The `size` paramter has been renamed to `height`; please update your code.\n  warnings.warn(msg, UserWarning)\n"
          ],
          "output_type": "stream"
        },
        {
          "data": {
            "text/plain": "\u003cseaborn.axisgrid.FacetGrid at 0x160efdd32b0\u003e"
          },
          "metadata": {},
          "output_type": "execute_result",
          "execution_count": 25
        },
        {
          "data": {
            "text/plain": "\u003cFigure size 720x360 with 2 Axes\u003e",
            "image/png": "[encoded data removed]"
          },
          "metadata": {
            "needs_background": "light"
          },
          "output_type": "display_data"
        }
      ],
      "source": "g \u003d sns.FacetGrid(train, col\u003d\u0027Survived\u0027, size\u003d5)\ng.map(plt.hist, \u0027Age\u0027, bins\u003d40)",
      "metadata": {
        "pycharm": {
          "metadata": false,
          "name": "#%%\n",
          "is_executing": false
        }
      }
    },
    {
      "cell_type": "markdown",
      "source": "由图,可以看到年龄是影响生存情况的.\n5. Embarked登港港口与生存情况的分析",
      "metadata": {
        "pycharm": {
          "metadata": false,
          "name": "#%% md\n"
        }
      }
    },
    {
      "cell_type": "code",
      "execution_count": 26,
      "outputs": [
        {
          "data": {
            "text/plain": "\u003cmatplotlib.axes._subplots.AxesSubplot at 0x160eff931d0\u003e"
          },
          "metadata": {},
          "output_type": "execute_result",
          "execution_count": 26
        },
        {
          "data": {
            "text/plain": "\u003cFigure size 432x288 with 1 Axes\u003e",
            "image/png": "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\u003d\u003d\n"
          },
          "metadata": {
            "needs_background": "light"
          },
          "output_type": "display_data"
        }
      ],
      "source": "sns.countplot(\u0027Embarked\u0027, hue\u003d\u0027Survived\u0027, data\u003dtrain)",
      "metadata": {
        "pycharm": {
          "metadata": false,
          "name": "#%%\n",
          "is_executing": false
        }
      }
    },
    {
      "cell_type": "markdown",
      "source": "# 特征工程 ",
      "metadata": {
        "pycharm": {
          "metadata": false,
          "name": "#%% md\n"
        }
      }
    },
    {
      "cell_type": "code",
      "execution_count": 2,
      "outputs": [],
      "source": "#先将数据集合并,一起做特征工程(注意,标准化的时候需要分开处理)\n#先将test补齐,然后通过pd.apped()合并\ntest[\u0027Survived\u0027] \u003d 0\ntrain_test \u003d train.append(test,sort\u003dFalse)",
      "metadata": {
        "pycharm": {
          "metadata": false,
          "name": "#%%\n",
          "is_executing": false
        }
      }
    },
    {
      "cell_type": "markdown",
      "source": "1. Pclass,乘客等级,1是最高级",
      "metadata": {
        "pycharm": {
          "metadata": false,
          "name": "#%% md\n"
        }
      }
    },
    {
      "cell_type": "code",
      "execution_count": 3,
      "outputs": [],
      "source": "# 离散变量分列处理\ntrain_test \u003d pd.get_dummies(train_test,columns\u003d[\u0027Pclass\u0027])",
      "metadata": {
        "pycharm": {
          "metadata": false,
          "name": "#%%\n",
          "is_executing": false
        }
      }
    },
    {
      "cell_type": "markdown",
      "source": "2. Sex,性别 无缺失值,直接分列",
      "metadata": {
        "pycharm": {
          "metadata": false,
          "name": "#%% md\n"
        }
      }
    },
    {
      "cell_type": "code",
      "execution_count": 4,
      "outputs": [],
      "source": "# 离散变量分列处理\ntrain_test \u003d pd.get_dummies(train_test,columns\u003d[\u0027Sex\u0027])",
      "metadata": {
        "pycharm": {
          "metadata": false,
          "name": "#%%\n",
          "is_executing": false
        }
      }
    },
    {
      "cell_type": "markdown",
      "source": "3. SibSp and Parch 兄妹配偶数/父母子女数\n第一次直接保留:这两个都影响生存率,且都是数值型,先直接保存.\n第二次进行两项求和,并进行分列处理.(兄妹配偶数和父母子女数都是认识人的数量,所以总数可能也会更好)(模型结果提高到了)",
      "metadata": {
        "pycharm": {
          "metadata": false,
          "name": "#%% md\n"
        }
      }
    },
    {
      "cell_type": "code",
      "execution_count": 5,
      "outputs": [],
      "source": "train_test[\u0027SibSp_Parch\u0027] \u003d train_test[\u0027SibSp\u0027] + train_test[\u0027Parch\u0027]\ntrain_test \u003d pd.get_dummies(train_test,columns \u003d [\u0027SibSp\u0027,\u0027Parch\u0027,\u0027SibSp_Parch\u0027])",
      "metadata": {
        "pycharm": {
          "metadata": false,
          "name": "#%%\n",
          "is_executing": false
        }
      }
    },
    {
      "cell_type": "markdown",
      "source": "4. Embarked 数据有极少量(3个)缺失值,但是在分列的时候,缺失值的所有列可以均为0,所以可以考虑不填充.\n另外,也可以考虑用测试集众数来填充.先找出众数,再采用df.fillna()方法",
      "metadata": {
        "pycharm": {
          "metadata": false,
          "name": "#%% md\n"
        }
      }
    },
    {
      "cell_type": "code",
      "execution_count": 6,
      "outputs": [],
      "source": "train_test \u003d pd.get_dummies(train_test,columns\u003d[\"Embarked\"])",
      "metadata": {
        "pycharm": {
          "metadata": false,
          "name": "#%%\n",
          "is_executing": false
        }
      }
    },
    {
      "cell_type": "markdown",
      "source": "5. Name",
      "metadata": {
        "pycharm": {
          "metadata": false,
          "name": "#%% md\n"
        }
      }
    },
    {
      "cell_type": "code",
      "execution_count": 7,
      "outputs": [],
      "source": "# 在数据的Name项中包含了对该乘客的称呼,将这些关键词提取出来,然后做分列处理\ntrain_test[\u0027Name1\u0027] \u003d train_test[\u0027Name\u0027].str.extract(\u0027.+,(.+)\u0027, expand\u003dFalse).str.extract(\u0027^(.+?)\\.\u0027, expand\u003dFalse).str.strip()\ntrain_test \u003d pd.get_dummies(train_test,columns\u003d[\u0027Name1\u0027])",
      "metadata": {
        "pycharm": {
          "metadata": false,
          "name": "#%%\n",
          "is_executing": false
        }
      }
    },
    {
      "cell_type": "code",
      "execution_count": 8,
      "outputs": [],
      "source": "#从姓名中提取出姓\ntrain_test[\u0027Name2\u0027] \u003d train_test[\u0027Name\u0027].apply(lambda x: x.split(\u0027.\u0027)[1])",
      "metadata": {
        "pycharm": {
          "metadata": false,
          "name": "#%%\n",
          "is_executing": false
        }
      }
    },
    {
      "cell_type": "code",
      "execution_count": 9,
      "outputs": [],
      "source": "#计算数量,然后合并数据集\nName2_sum \u003d train_test[\u0027Name2\u0027].value_counts().reset_index()\nName2_sum.columns\u003d[\u0027Name2\u0027,\u0027Name2_sum\u0027]\ntrain_test \u003d pd.merge(train_test,Name2_sum,how\u003d\u0027left\u0027,on\u003d\u0027Name2\u0027)",
      "metadata": {
        "pycharm": {
          "metadata": false,
          "name": "#%%\n",
          "is_executing": false
        }
      }
    },
    {
      "cell_type": "code",
      "execution_count": 10,
      "outputs": [],
      "source": "#由于出现一次时该特征时无效特征,用one来代替出现一次的姓\ntrain_test.loc[train_test[\u0027Name2_sum\u0027] \u003d\u003d 1 , \u0027Name2_new\u0027] \u003d \u0027one\u0027\ntrain_test.loc[train_test[\u0027Name2_sum\u0027] \u003e 1 , \u0027Name2_new\u0027] \u003d train_test[\u0027Name2\u0027]\ndel train_test[\u0027Name2\u0027]\n#分列处理\ntrain_test \u003d pd.get_dummies(train_test,columns\u003d[\u0027Name2_new\u0027])\n#删掉姓名这个特征\ndel train_test[\u0027Name\u0027]",
      "metadata": {
        "pycharm": {
          "metadata": false,
          "name": "#%%\n",
          "is_executing": false
        }
      }
    },
    {
      "cell_type": "markdown",
      "source": "6. Fare, 该特征有缺失值,先找出缺失值的那调数据,然后用平均数填充",
      "metadata": {
        "pycharm": {
          "metadata": false
        }
      }
    },
    {
      "cell_type": "code",
      "execution_count": 11,
      "outputs": [
        {
          "data": {
            "text/plain": "      PassengerId  Survived   Age Ticket  Fare Cabin  Pclass_1  Pclass_2  \\\n1043         1044         0  60.5   3701   NaN   NaN         0         0   \n\n      Pclass_3  Sex_female      ...        Name2_new_ Thomas Henry  \\\n1043         1           0      ...                              0   \n\n      Name2_new_ Victor  Name2_new_ Washington  Name2_new_ William  \\\n1043                  0                      0                   0   \n\n      Name2_new_ William Edward  Name2_new_ William Henry  \\\n1043                          0                         0   \n\n      Name2_new_ William James  Name2_new_ William John  \\\n1043                         0                        0   \n\n      Name2_new_ William Thomas  Name2_new_one  \n1043                          0              0  \n\n[1 rows x 146 columns]",
            "text/html": "\u003cdiv\u003e\n\u003cstyle scoped\u003e\n    .dataframe tbody tr th:only-of-type {\n        vertical-align: middle;\n    }\n\n    .dataframe tbody tr th {\n        vertical-align: top;\n    }\n\n    .dataframe thead th {\n        text-align: right;\n    }\n\u003c/style\u003e\n\u003ctable border\u003d\"1\" class\u003d\"dataframe\"\u003e\n  \u003cthead\u003e\n    \u003ctr style\u003d\"text-align: right;\"\u003e\n      \u003cth\u003e\u003c/th\u003e\n      \u003cth\u003ePassengerId\u003c/th\u003e\n      \u003cth\u003eSurvived\u003c/th\u003e\n      \u003cth\u003eAge\u003c/th\u003e\n      \u003cth\u003eTicket\u003c/th\u003e\n      \u003cth\u003eFare\u003c/th\u003e\n      \u003cth\u003eCabin\u003c/th\u003e\n      \u003cth\u003ePclass_1\u003c/th\u003e\n      \u003cth\u003ePclass_2\u003c/th\u003e\n      \u003cth\u003ePclass_3\u003c/th\u003e\n      \u003cth\u003eSex_female\u003c/th\u003e\n      \u003cth\u003e...\u003c/th\u003e\n      \u003cth\u003eName2_new_ Thomas Henry\u003c/th\u003e\n      \u003cth\u003eName2_new_ Victor\u003c/th\u003e\n      \u003cth\u003eName2_new_ Washington\u003c/th\u003e\n      \u003cth\u003eName2_new_ William\u003c/th\u003e\n      \u003cth\u003eName2_new_ William Edward\u003c/th\u003e\n      \u003cth\u003eName2_new_ William Henry\u003c/th\u003e\n      \u003cth\u003eName2_new_ William James\u003c/th\u003e\n      \u003cth\u003eName2_new_ William John\u003c/th\u003e\n      \u003cth\u003eName2_new_ William Thomas\u003c/th\u003e\n      \u003cth\u003eName2_new_one\u003c/th\u003e\n    \u003c/tr\u003e\n  \u003c/thead\u003e\n  \u003ctbody\u003e\n    \u003ctr\u003e\n      \u003cth\u003e1043\u003c/th\u003e\n      \u003ctd\u003e1044\u003c/td\u003e\n      \u003ctd\u003e0\u003c/td\u003e\n      \u003ctd\u003e60.5\u003c/td\u003e\n      \u003ctd\u003e3701\u003c/td\u003e\n      \u003ctd\u003eNaN\u003c/td\u003e\n      \u003ctd\u003eNaN\u003c/td\u003e\n      \u003ctd\u003e0\u003c/td\u003e\n      \u003ctd\u003e0\u003c/td\u003e\n      \u003ctd\u003e1\u003c/td\u003e\n      \u003ctd\u003e0\u003c/td\u003e\n      \u003ctd\u003e...\u003c/td\u003e\n      \u003ctd\u003e0\u003c/td\u003e\n      \u003ctd\u003e0\u003c/td\u003e\n      \u003ctd\u003e0\u003c/td\u003e\n      \u003ctd\u003e0\u003c/td\u003e\n      \u003ctd\u003e0\u003c/td\u003e\n      \u003ctd\u003e0\u003c/td\u003e\n      \u003ctd\u003e0\u003c/td\u003e\n      \u003ctd\u003e0\u003c/td\u003e\n      \u003ctd\u003e0\u003c/td\u003e\n      \u003ctd\u003e0\u003c/td\u003e\n    \u003c/tr\u003e\n  \u003c/tbody\u003e\n\u003c/table\u003e\n\u003cp\u003e1 rows × 146 columns\u003c/p\u003e\n\u003c/div\u003e"
          },
          "metadata": {},
          "output_type": "execute_result",
          "execution_count": 11
        }
      ],
      "source": "#从上面的分析,发现该特征train集无miss值,test有一个缺失值,先查看\ntrain_test.loc[train_test[\"Fare\"].isnull()]",
      "metadata": {
        "pycharm": {
          "metadata": false,
          "name": "#%% \n",
          "is_executing": false
        }
      }
    },
    {
      "cell_type": "code",
      "execution_count": 12,
      "outputs": [],
      "source": "#票价与pclass和Embarked有关,所以用train分组后的平均数填充\ntrain.groupby(by\u003d[\"Pclass\",\"Embarked\"]).Fare.mean()\n#用pclass\u003d3和Embarked\u003dS的平均数14.644083来填充\ntrain_test[\"Fare\"].fillna(14.435422,inplace\u003dTrue)",
      "metadata": {
        "pycharm": {
          "metadata": false,
          "name": "#%%\n",
          "is_executing": false
        }
      }
    },
    {
      "cell_type": "markdown",
      "source": "7. Ticket, 该列和名字做类似的处理,先提取,然后分列",
      "metadata": {
        "pycharm": {
          "metadata": false,
          "name": "#%% md\n"
        }
      }
    },
    {
      "cell_type": "code",
      "execution_count": 13,
      "outputs": [],
      "source": "#将Ticket提取字符列\n#str.isnumeric()  如果S中只有数字字符，则返回True，否则返回False\ntrain_test[\u0027Ticket_Letter\u0027] \u003d train_test[\u0027Ticket\u0027].str.split().str[0]\ntrain_test[\u0027Ticket_Letter\u0027] \u003d train_test[\u0027Ticket_Letter\u0027].apply(lambda x:np.nan if x.isnumeric() else x)\ntrain_test.drop(\u0027Ticket\u0027,inplace\u003dTrue,axis\u003d1)",
      "metadata": {
        "pycharm": {
          "metadata": false,
          "name": "#%%\n",
          "is_executing": false
        }
      }
    },
    {
      "cell_type": "code",
      "execution_count": 14,
      "outputs": [],
      "source": "#分列,此时nan值可以不做处理\ntrain_test \u003d pd.get_dummies(train_test,columns\u003d[\u0027Ticket_Letter\u0027],drop_first\u003dTrue)",
      "metadata": {
        "pycharm": {
          "metadata": false,
          "name": "#%%\n",
          "is_executing": false
        }
      }
    },
    {
      "cell_type": "markdown",
      "source": "8. Age\n该列有大量缺失值,考虑用一个回归模型进行填充.\n在模型修改的时候,考虑到年龄缺失值可能影响死亡情况,用年龄是否缺失值来构造新特征",
      "metadata": {
        "pycharm": {
          "metadata": false,
          "name": "#%% md\n"
        }
      }
    },
    {
      "cell_type": "code",
      "execution_count": 15,
      "outputs": [],
      "source": "# 所以用年龄是否缺失值来构造新特征\ntrain_test.loc[train_test[\"Age\"].isnull() ,\"age_nan\"] \u003d 1\ntrain_test.loc[train_test[\"Age\"].notnull() ,\"age_nan\"] \u003d 0\ntrain_test \u003d pd.get_dummies(train_test,columns\u003d[\u0027age_nan\u0027])",
      "metadata": {
        "pycharm": {
          "metadata": false,
          "name": "#%%\n",
          "is_executing": false
        }
      }
    },
    {
      "cell_type": "code",
      "execution_count": 16,
      "outputs": [],
      "source": "#创建没有[\u0027Age\u0027,\u0027Survived\u0027]的数据集\nmissing_age \u003d train_test.drop([\u0027Survived\u0027,\u0027Cabin\u0027,\u0027PassengerId\u0027],axis\u003d1)\n#将Age完整的项作为训练集、将Age缺失的项作为测试集。\nmissing_age_train \u003d missing_age[missing_age[\u0027Age\u0027].notnull()]\nmissing_age_test \u003d missing_age[missing_age[\u0027Age\u0027].isnull()]",
      "metadata": {
        "pycharm": {
          "metadata": false,
          "name": "#%%\n",
          "is_executing": false
        }
      }
    },
    {
      "cell_type": "code",
      "execution_count": 17,
      "outputs": [],
      "source": "#构建训练集合预测集的X和Y值\nmissing_age_X_train \u003d missing_age_train.drop([\u0027Age\u0027], axis\u003d1)\nmissing_age_Y_train \u003d missing_age_train[\u0027Age\u0027]\nmissing_age_X_test \u003d missing_age_test.drop([\u0027Age\u0027], axis\u003d1)",
      "metadata": {
        "pycharm": {
          "metadata": false,
          "name": "#%%\n",
          "is_executing": false
        }
      }
    },
    {
      "cell_type": "code",
      "execution_count": 18,
      "outputs": [],
      "source": "# 先将数据标准化\nfrom sklearn.preprocessing import StandardScaler\nss \u003d StandardScaler()\n#用训练集训练并标准化\nss.fit(missing_age_X_train)\nmissing_age_X_train \u003d ss.transform(missing_age_X_train)\nmissing_age_X_test \u003d ss.transform(missing_age_X_test)",
      "metadata": {
        "pycharm": {
          "metadata": false,
          "name": "#%%\n",
          "is_executing": false
        }
      }
    },
    {
      "cell_type": "code",
      "execution_count": 19,
      "outputs": [
        {
          "data": {
            "text/plain": "BayesianRidge(alpha_1\u003d1e-06, alpha_2\u003d1e-06, compute_score\u003dFalse, copy_X\u003dTrue,\n              fit_intercept\u003dTrue, lambda_1\u003d1e-06, lambda_2\u003d1e-06, n_iter\u003d300,\n              normalize\u003dFalse, tol\u003d0.001, verbose\u003dFalse)"
          },
          "metadata": {},
          "output_type": "execute_result",
          "execution_count": 19
        }
      ],
      "source": "#使用贝叶斯预测年龄\nfrom sklearn import linear_model\nlin \u003d linear_model.BayesianRidge()\nlin.fit(missing_age_X_train,missing_age_Y_train)",
      "metadata": {
        "pycharm": {
          "metadata": false,
          "name": "#%%\n",
          "is_executing": false
        }
      }
    },
    {
      "cell_type": "code",
      "execution_count": 20,
      "outputs": [],
      "source": "#利用loc将预测值填入数据集\ntrain_test.loc[(train_test[\u0027Age\u0027].isnull()), \u0027Age\u0027] \u003d lin.predict(missing_age_X_test)",
      "metadata": {
        "pycharm": {
          "metadata": false,
          "name": "#%%\n",
          "is_executing": false
        }
      }
    },
    {
      "cell_type": "code",
      "execution_count": 21,
      "outputs": [],
      "source": "#将年龄划分是个阶段10以下,10-18,18-30,30-50,50以上\ntrain_test[\u0027Age\u0027] \u003d pd.cut(train_test[\u0027Age\u0027], bins\u003d[0,10,18,30,50,100],labels\u003d[1,2,3,4,5])\ntrain_test \u003d pd.get_dummies(train_test,columns\u003d[\u0027Age\u0027])",
      "metadata": {
        "pycharm": {
          "metadata": false,
          "name": "#%%\n",
          "is_executing": false
        }
      }
    },
    {
      "cell_type": "markdown",
      "source": "9. Cabin\ncabin项缺失太多，只能将有无Cain首字母进行分类,缺失值为一类,作为特征值进行建模,也可以考虑直接舍去该特征",
      "metadata": {
        "pycharm": {
          "metadata": false,
          "name": "#%% md\n",
          "is_executing": false
        }
      }
    },
    {
      "cell_type": "code",
      "execution_count": 22,
      "outputs": [],
      "source": "train_test[\u0027Cabin_nan\u0027] \u003d train_test[\u0027Cabin\u0027].apply(lambda x:str(x)[0] if pd.notnull(x) else x)\ntrain_test \u003d pd.get_dummies(train_test,columns\u003d[\u0027Cabin_nan\u0027])",
      "metadata": {
        "pycharm": {
          "metadata": false,
          "name": "#%%\n",
          "is_executing": false
        }
      }
    },
    {
      "cell_type": "code",
      "execution_count": 23,
      "outputs": [],
      "source": "#cabin项缺失太多，只能将有无Cain首字母进行分类,\ntrain_test.loc[train_test[\"Cabin\"].isnull() ,\"Cabin_nan\"] \u003d 1\ntrain_test.loc[train_test[\"Cabin\"].notnull() ,\"Cabin_nan\"] \u003d 0\ntrain_test \u003d pd.get_dummies(train_test,columns\u003d[\u0027Cabin_nan\u0027])\ntrain_test.drop(\u0027Cabin\u0027,axis\u003d1,inplace\u003dTrue)",
      "metadata": {
        "pycharm": {
          "metadata": false,
          "name": "#%%\n",
          "is_executing": false
        }
      }
    },
    {
      "cell_type": "markdown",
      "source": "10. 特征工程处理完了,划分数据集",
      "metadata": {
        "pycharm": {
          "metadata": false,
          "name": "#%% md\n",
          "is_executing": false
        }
      }
    },
    {
      "cell_type": "code",
      "execution_count": 24,
      "outputs": [],
      "source": "train_test \u003d train_test.drop([\u0027PassengerId\u0027], axis\u003d1)\ntrain_data \u003d train_test[:891]\ntest_data \u003d train_test[891:]\ntrain_data_X \u003d train_data.drop([\u0027Survived\u0027],axis\u003d1)\ntrain_data_Y \u003d train_data[\u0027Survived\u0027].astype(\u0027int32\u0027)\ntest_data_X \u003d test_data.drop([\u0027Survived\u0027],axis\u003d1)",
      "metadata": {
        "pycharm": {
          "metadata": false,
          "name": "#%%\n",
          "is_executing": false
        }
      }
    },
    {
      "cell_type": "markdown",
      "source": "# 数据规约\n1. 线性模型需要用标准化的数据建模,而树类模型不需要标准化的数据\n2. 处理标准化的时候,注意将测试集的数据transform到test集上",
      "metadata": {
        "pycharm": {
          "metadata": false,
          "name": "#%% md\n"
        }
      }
    },
    {
      "cell_type": "code",
      "execution_count": 25,
      "outputs": [],
      "source": "from sklearn.preprocessing import StandardScaler\nss2 \u003d StandardScaler()\nss2.fit(train_data_X)\ntrain_data_X_sd \u003d ss2.transform(train_data_X)\ntest_data_X_sd \u003d ss2.transform(test_data_X)",
      "metadata": {
        "pycharm": {
          "metadata": false,
          "name": "#%%\n",
          "is_executing": false
        }
      }
    },
    {
      "cell_type": "markdown",
      "source": "# 建立模型\n## 模型发现\n1. 可选单个模型模型有随机森林,逻辑回归,svm,xgboost,gbdt等.\n2. 也可以将多个模型组合起来,进行模型融合,比如voting,stacking等方法\n3. 好的特征决定模型上限,好的模型和参数可以无限逼近上限.\n4. 我测试了多种模型,模型结果最高的随机森林,最高有0.8.\n## 构建模型",
      "metadata": {
        "pycharm": {
          "metadata": false,
          "name": "#%% md\n"
        }
      }
    },
    {
      "cell_type": "code",
      "execution_count": 38,
      "outputs": [],
      "source": "from sklearn.model_selection import GridSearchCV\ndef gridsearch(clf, param_dist):\n    gsv \u003d GridSearchCV(clf, param_dist, cv\u003d5)\n    # gsv.fit(train_data_X_sd, train_data_Y)\n    gsv.fit(train_data_X, train_data_Y)\n    print(gsv.best_score_)\n    print(gsv.best_params_)\n    return gsv.best_estimator_\ndef predict(clf, name):\n    #clf.fit(train_data_X_sd, train_data_Y)\n    clf.fit(train_data_X, train_data_Y)\n    test[\"Survived\"] \u003d clf.predict(test_data_X)\n    test[[\u0027PassengerId\u0027,\u0027Survived\u0027]].set_index(\u0027PassengerId\u0027).to_csv(root_path+\u0027/../%s.csv\u0027%name)",
      "metadata": {
        "pycharm": {
          "metadata": false,
          "name": "#%%\n",
          "is_executing": false
        }
      }
    },
    {
      "cell_type": "markdown",
      "source": "1. 随机森林",
      "metadata": {
        "pycharm": {
          "metadata": false,
          "name": "#%% md\n"
        }
      }
    },
    {
      "cell_type": "code",
      "execution_count": 29,
      "outputs": [
        {
          "name": "stdout",
          "text": [
            "0.8226711560044894\n{\u0027criterion\u0027: \u0027gini\u0027, \u0027max_depth\u0027: 8, \u0027max_features\u0027: 8, \u0027min_samples_leaf\u0027: 2}\n"
          ],
          "output_type": "stream"
        }
      ],
      "source": "from sklearn.ensemble import RandomForestClassifier\n\nrf \u003d RandomForestClassifier(n_estimators\u003d100)\nparam_dist \u003d {\"max_depth\": [8, 10],\n              \"min_samples_leaf\":[2, 4],\n              \"max_features\": [8, 10],\n              \"criterion\": [\"gini\", \"entropy\"]}\nrf \u003d gridsearch(rf, param_dist)\n# predict(rf, \"rf\")",
      "metadata": {
        "pycharm": {
          "metadata": false,
          "name": "#%% \n",
          "is_executing": false
        }
      }
    },
    {
      "cell_type": "markdown",
      "source": "2. Logistic Regression",
      "metadata": {
        "pycharm": {
          "metadata": false
        }
      }
    },
    {
      "cell_type": "code",
      "execution_count": 37,
      "outputs": [
        {
          "name": "stdout",
          "text": [
            "0.8170594837261503\n{\u0027C\u0027: 1, \u0027max_iter\u0027: 100}\n"
          ],
          "output_type": "stream"
        }
      ],
      "source": "from sklearn.linear_model import LogisticRegression\nlr \u003d LogisticRegression(solver\u003d\u0027liblinear\u0027)\nparam_dist \u003d {\u0027C\u0027:[0.001,0.01,0.1,1,10], \"max_iter\":[100,250]}\nlr \u003d gridsearch(lr, param_dist)\n# predict(lr, \u0027lr\u0027)",
      "metadata": {
        "pycharm": {
          "metadata": false,
          "name": "#%%\n",
          "is_executing": false
        }
      }
    },
    {
      "cell_type": "markdown",
      "source": "3. GBDT",
      "metadata": {
        "pycharm": {
          "metadata": false,
          "name": "#%% md\n"
        }
      }
    },
    {
      "cell_type": "code",
      "execution_count": 41,
      "outputs": [
        {
          "name": "stdout",
          "text": [
            "0.835016835016835\n{\u0027learning_rate\u0027: 0.05, \u0027max_depth\u0027: 8, \u0027min_samples_leaf\u0027: 4}\n"
          ],
          "output_type": "stream"
        }
      ],
      "source": "from sklearn.ensemble import GradientBoostingClassifier\ngbdt \u003d GradientBoostingClassifier(n_estimators\u003d100)\nparam_dist \u003d {\"learning_rate\":[0.01, 0.05, 0.1],\n              \"max_depth\": [6, 8, 10],\n              \"min_samples_leaf\":[2, 4, 8],\n              }\ngbdt \u003d gridsearch(gbdt, param_dist) ",
      "metadata": {
        "pycharm": {
          "metadata": false,
          "name": "#%% \n",
          "is_executing": false
        }
      }
    },
    {
      "cell_type": "markdown",
      "source": "4. XGboost",
      "metadata": {
        "pycharm": {
          "metadata": false
        }
      }
    },
    {
      "cell_type": "code",
      "execution_count": null,
      "outputs": [],
      "source": "import xgboost \nxgb \u003d xgboost.XGBClassifier(n_estimators\u003d100,num_round \u003d 5)\nparam_dist \u003d {\"learning_rate\":[0.001, 0.005, 0.01],\n              \"max_depth\": [6, 8, 10],\n              \"min_samples_leaf\":[2, 4],\n              }\nxgb \u003d gridsearch(xgb, param_dist) ",
      "metadata": {
        "pycharm": {
          "metadata": false,
          "name": "#%%\n"
        }
      }
    },
    {
      "cell_type": "markdown",
      "source": "5. KNN",
      "metadata": {
        "pycharm": {
          "metadata": false
        }
      }
    },
    {
      "cell_type": "code",
      "execution_count": 50,
      "outputs": [
        {
          "name": "stdout",
          "text": [
            "0.7789001122334456\n{\u0027n_neighbors\u0027: 10, \u0027p\u0027: 1}\n"
          ],
          "output_type": "stream"
        }
      ],
      "source": "from sklearn import neighbors \nknn \u003d neighbors.KNeighborsClassifier()\nparam_dist \u003d {\"n_neighbors\":[5, 10, 15],\n              \"p\":[1, 2]}\nknn \u003d gridsearch(knn, param_dist) \n",
      "metadata": {
        "pycharm": {
          "metadata": false,
          "name": "#%%\n",
          "is_executing": false
        }
      }
    },
    {
      "cell_type": "markdown",
      "source": "6. Voting",
      "metadata": {
        "pycharm": {
          "metadata": false
        }
      }
    },
    {
      "cell_type": "code",
      "execution_count": 51,
      "outputs": [],
      "source": "from sklearn.ensemble import VotingClassifier\n\nvot \u003d VotingClassifier(estimators\u003d[(\u0027lr\u0027, lr), (\u0027rf\u0027, rf),(\u0027gbdt\u0027,gbdt),(\u0027xgb\u0027,xgb)], voting\u003d\u0027soft\u0027)\nlr.fit(train_data_X, train_data_Y)\nrf.fit(train_data_X, train_data_Y)\ngbdt.fit(train_data_X, train_data_Y)\nxgb.fit(train_data_X, train_data_Y)\npredict(vot, \"voting\")",
      "metadata": {
        "pycharm": {
          "metadata": false,
          "name": "#%%\n",
          "is_executing": false
        }
      }
    },
    {
      "cell_type": "markdown",
      "source": "7. Stacking",
      "metadata": {
        "pycharm": {
          "metadata": false,
          "name": "#%% md\n"
        }
      }
    },
    {
      "cell_type": "code",
      "execution_count": 64,
      "outputs": [],
      "source": "from sklearn.model_selection import KFold\nnfold \u003d 5\nntrain \u003d train_data_X.shape[0]\nntest \u003d test_data_X.shape[0]\nkf \u003d KFold(n_splits\u003dnfold, random_state\u003d0)\ndef get_oof(clf):\n    \u0027\u0027\u0027 返回模型在每个fold上的预测值以及在测试数据集上的平均预测值\u0027\u0027\u0027\n    oof_train \u003d np.zeros((ntrain,)) # 保存每一折的模型在留下的一折的预测值\n    oof_test_skf \u003d np.empty((nfold, ntest))# 保存每一折模型在test集的预测结果\n    for i, (train_index, test_index) in enumerate(kf.split(train_data_X)):\n        kf_X_train \u003d train_data_X.iloc[train_index]\n        kf_Y_train \u003d train_data_Y.iloc[train_index]\n        kf_X_test \u003d train_data_X.iloc[test_index]\n        \n        clf.fit(kf_X_train, kf_Y_train)\n        oof_train[test_index] \u003d clf.predict(kf_X_test)\n        oof_test_skf[i, :] \u003d clf.predict(test_data_X)\n    oof_test \u003d oof_test_skf.mean(axis\u003d0)\n    return oof_train, oof_test",
      "metadata": {
        "pycharm": {
          "metadata": false,
          "name": "#%%\n",
          "is_executing": false
        }
      }
    },
    {
      "cell_type": "code",
      "execution_count": 65,
      "outputs": [],
      "source": "# 第一层模型\nclfs \u003d [lr, rf, gbdt, xgb]\nnew_train \u003d np.zeros((ntrain, len(clfs)))\nnew_test \u003d np.zeros((ntest, len(clfs)))\nfor i, clf in enumerate(clfs):\n    new_train[:,i], new_test[:,i] \u003d get_oof(clf)",
      "metadata": {
        "pycharm": {
          "metadata": false,
          "name": "#%%\n",
          "is_executing": false
        }
      }
    },
    {
      "cell_type": "code",
      "execution_count": 72,
      "outputs": [
        {
          "name": "stderr",
          "text": [
            "F:\\anaconda3.7\\lib\\site-packages\\sklearn\\linear_model\\logistic.py:432: FutureWarning: Default solver will be changed to \u0027lbfgs\u0027 in 0.22. Specify a solver to silence this warning.\n  FutureWarning)\n"
          ],
          "output_type": "stream"
        }
      ],
      "source": "# 第二层模型\nclf2 \u003d LogisticRegression(C\u003d0.1, max_iter\u003d100)\nclf2.fit(new_train, train_data_Y)\ntest[\"Survived\"] \u003d clf2.predict(new_test)\ntest[[\u0027PassengerId\u0027,\u0027Survived\u0027]].set_index(\u0027PassengerId\u0027).to_csv(root_path+\u0027/../stacking.csv\u0027)",
      "metadata": {
        "pycharm": {
          "metadata": false,
          "name": "#%%\n",
          "is_executing": false
        }
      }
    },
    {
      "cell_type": "code",
      "execution_count": 99,
      "outputs": [],
      "source": "from sklearn import svm, tree, linear_model, neighbors, naive_bayes, ensemble, discriminant_analysis, gaussian_process\nfrom xgboost import XGBClassifier\nMLA \u003d [\n    #Ensemble Methods\n    ensemble.AdaBoostClassifier(),\n    ensemble.BaggingClassifier(),\n    ensemble.ExtraTreesClassifier(),\n    ensemble.GradientBoostingClassifier(),\n    ensemble.RandomForestClassifier(),\n\n    #Gaussian Processes\n    gaussian_process.GaussianProcessClassifier(),\n    \n    #GLM\n    linear_model.LogisticRegressionCV(),\n    linear_model.PassiveAggressiveClassifier(),\n    linear_model.RidgeClassifierCV(),\n    linear_model.SGDClassifier(),\n    linear_model.Perceptron(),\n    \n    #Navies Bayes\n   \n    naive_bayes.BernoulliNB(),\n    naive_bayes.GaussianNB(),\n    \n    #Nearest Neighbor\n    neighbors.KNeighborsClassifier(),\n    \n    #SVM\n    svm.SVC(probability\u003dTrue),\n    svm.NuSVC(probability\u003dTrue),\n    svm.LinearSVC(),\n    \n    #Trees    \n    tree.DecisionTreeClassifier(),\n    tree.ExtraTreeClassifier(),\n    \n    #Discriminant Analysis\n    discriminant_analysis.LinearDiscriminantAnalysis(),\n    discriminant_analysis.QuadraticDiscriminantAnalysis(),\n\n    \n    #xgboost: http://xgboost.readthedocs.io/en/latest/model.html\n    XGBClassifier()    \n    ]",
      "metadata": {
        "pycharm": {
          "metadata": false,
          "name": "#%%\n",
          "is_executing": false
        }
      }
    },
    {
      "cell_type": "code",
      "execution_count": 117,
      "outputs": [
        {
          "name": "stderr",
          "text": [
            "F:\\anaconda3.7\\lib\\site-packages\\sklearn\\model_selection\\_split.py:1978: FutureWarning: The default value of cv will change from 3 to 5 in version 0.22. Specify it explicitly to silence this warning.\n  warnings.warn(CV_WARNING, FutureWarning)\n",
            "F:\\anaconda3.7\\lib\\site-packages\\sklearn\\linear_model\\logistic.py:947: ConvergenceWarning: lbfgs failed to converge. Increase the number of iterations.\n  \"of iterations.\", ConvergenceWarning)\nF:\\anaconda3.7\\lib\\site-packages\\sklearn\\linear_model\\logistic.py:947: ConvergenceWarning: lbfgs failed to converge. Increase the number of iterations.\n  \"of iterations.\", ConvergenceWarning)\nF:\\anaconda3.7\\lib\\site-packages\\sklearn\\linear_model\\logistic.py:947: ConvergenceWarning: lbfgs failed to converge. Increase the number of iterations.\n  \"of iterations.\", ConvergenceWarning)\nF:\\anaconda3.7\\lib\\site-packages\\sklearn\\linear_model\\logistic.py:947: ConvergenceWarning: lbfgs failed to converge. Increase the number of iterations.\n  \"of iterations.\", ConvergenceWarning)\n",
            "F:\\anaconda3.7\\lib\\site-packages\\sklearn\\linear_model\\logistic.py:947: ConvergenceWarning: lbfgs failed to converge. Increase the number of iterations.\n  \"of iterations.\", ConvergenceWarning)\n",
            "F:\\anaconda3.7\\lib\\site-packages\\sklearn\\linear_model\\logistic.py:947: ConvergenceWarning: lbfgs failed to converge. Increase the number of iterations.\n  \"of iterations.\", ConvergenceWarning)\n",
            "F:\\anaconda3.7\\lib\\site-packages\\sklearn\\linear_model\\logistic.py:947: ConvergenceWarning: lbfgs failed to converge. Increase the number of iterations.\n  \"of iterations.\", ConvergenceWarning)\n",
            "F:\\anaconda3.7\\lib\\site-packages\\sklearn\\linear_model\\logistic.py:947: ConvergenceWarning: lbfgs failed to converge. Increase the number of iterations.\n  \"of iterations.\", ConvergenceWarning)\nF:\\anaconda3.7\\lib\\site-packages\\sklearn\\linear_model\\logistic.py:947: ConvergenceWarning: lbfgs failed to converge. Increase the number of iterations.\n  \"of iterations.\", ConvergenceWarning)\n",
            "F:\\anaconda3.7\\lib\\site-packages\\sklearn\\linear_model\\logistic.py:947: ConvergenceWarning: lbfgs failed to converge. Increase the number of iterations.\n  \"of iterations.\", ConvergenceWarning)\nF:\\anaconda3.7\\lib\\site-packages\\sklearn\\linear_model\\logistic.py:947: ConvergenceWarning: lbfgs failed to converge. Increase the number of iterations.\n  \"of iterations.\", ConvergenceWarning)\n",
            "F:\\anaconda3.7\\lib\\site-packages\\sklearn\\linear_model\\logistic.py:947: ConvergenceWarning: lbfgs failed to converge. Increase the number of iterations.\n  \"of iterations.\", ConvergenceWarning)\nF:\\anaconda3.7\\lib\\site-packages\\sklearn\\linear_model\\logistic.py:947: ConvergenceWarning: lbfgs failed to converge. Increase the number of iterations.\n  \"of iterations.\", ConvergenceWarning)\n",
            "F:\\anaconda3.7\\lib\\site-packages\\sklearn\\linear_model\\logistic.py:947: ConvergenceWarning: lbfgs failed to converge. Increase the number of iterations.\n  \"of iterations.\", ConvergenceWarning)\nF:\\anaconda3.7\\lib\\site-packages\\sklearn\\linear_model\\logistic.py:947: ConvergenceWarning: lbfgs failed to converge. Increase the number of iterations.\n  \"of iterations.\", ConvergenceWarning)\n",
            "F:\\anaconda3.7\\lib\\site-packages\\sklearn\\linear_model\\logistic.py:947: ConvergenceWarning: lbfgs failed to converge. Increase the number of iterations.\n  \"of iterations.\", ConvergenceWarning)\nF:\\anaconda3.7\\lib\\site-packages\\sklearn\\linear_model\\logistic.py:947: ConvergenceWarning: lbfgs failed to converge. Increase the number of iterations.\n  \"of iterations.\", ConvergenceWarning)\n",
            "F:\\anaconda3.7\\lib\\site-packages\\sklearn\\linear_model\\logistic.py:947: ConvergenceWarning: lbfgs failed to converge. Increase the number of iterations.\n  \"of iterations.\", ConvergenceWarning)\nF:\\anaconda3.7\\lib\\site-packages\\sklearn\\linear_model\\logistic.py:947: ConvergenceWarning: lbfgs failed to converge. Increase the number of iterations.\n  \"of iterations.\", ConvergenceWarning)\n",
            "F:\\anaconda3.7\\lib\\site-packages\\sklearn\\linear_model\\logistic.py:947: ConvergenceWarning: lbfgs failed to converge. Increase the number of iterations.\n  \"of iterations.\", ConvergenceWarning)\n",
            "F:\\anaconda3.7\\lib\\site-packages\\sklearn\\linear_model\\logistic.py:947: ConvergenceWarning: lbfgs failed to converge. Increase the number of iterations.\n  \"of iterations.\", ConvergenceWarning)\n",
            "F:\\anaconda3.7\\lib\\site-packages\\sklearn\\linear_model\\logistic.py:947: ConvergenceWarning: lbfgs failed to converge. Increase the number of iterations.\n  \"of iterations.\", ConvergenceWarning)\nF:\\anaconda3.7\\lib\\site-packages\\sklearn\\linear_model\\logistic.py:947: ConvergenceWarning: lbfgs failed to converge. Increase the number of iterations.\n  \"of iterations.\", ConvergenceWarning)\n",
            "F:\\anaconda3.7\\lib\\site-packages\\sklearn\\linear_model\\logistic.py:947: ConvergenceWarning: lbfgs failed to converge. Increase the number of iterations.\n  \"of iterations.\", ConvergenceWarning)\nF:\\anaconda3.7\\lib\\site-packages\\sklearn\\model_selection\\_split.py:1978: FutureWarning: The default value of cv will change from 3 to 5 in version 0.22. Specify it explicitly to silence this warning.\n  warnings.warn(CV_WARNING, FutureWarning)\n",
            "F:\\anaconda3.7\\lib\\site-packages\\sklearn\\linear_model\\logistic.py:947: ConvergenceWarning: lbfgs failed to converge. Increase the number of iterations.\n  \"of iterations.\", ConvergenceWarning)\nF:\\anaconda3.7\\lib\\site-packages\\sklearn\\linear_model\\logistic.py:947: ConvergenceWarning: lbfgs failed to converge. Increase the number of iterations.\n  \"of iterations.\", ConvergenceWarning)\n",
            "F:\\anaconda3.7\\lib\\site-packages\\sklearn\\linear_model\\logistic.py:947: ConvergenceWarning: lbfgs failed to converge. Increase the number of iterations.\n  \"of iterations.\", ConvergenceWarning)\n",
            "F:\\anaconda3.7\\lib\\site-packages\\sklearn\\linear_model\\logistic.py:947: ConvergenceWarning: lbfgs failed to converge. Increase the number of iterations.\n  \"of iterations.\", ConvergenceWarning)\nF:\\anaconda3.7\\lib\\site-packages\\sklearn\\linear_model\\logistic.py:947: ConvergenceWarning: lbfgs failed to converge. Increase the number of iterations.\n  \"of iterations.\", ConvergenceWarning)\n",
            "F:\\anaconda3.7\\lib\\site-packages\\sklearn\\linear_model\\logistic.py:947: ConvergenceWarning: lbfgs failed to converge. Increase the number of iterations.\n  \"of iterations.\", ConvergenceWarning)\nF:\\anaconda3.7\\lib\\site-packages\\sklearn\\linear_model\\logistic.py:947: ConvergenceWarning: lbfgs failed to converge. Increase the number of iterations.\n  \"of iterations.\", ConvergenceWarning)\n",
            "F:\\anaconda3.7\\lib\\site-packages\\sklearn\\linear_model\\logistic.py:947: ConvergenceWarning: lbfgs failed to converge. Increase the number of iterations.\n  \"of iterations.\", ConvergenceWarning)\n",
            "F:\\anaconda3.7\\lib\\site-packages\\sklearn\\linear_model\\logistic.py:947: ConvergenceWarning: lbfgs failed to converge. Increase the number of iterations.\n  \"of iterations.\", ConvergenceWarning)\n",
            "F:\\anaconda3.7\\lib\\site-packages\\sklearn\\linear_model\\logistic.py:947: ConvergenceWarning: lbfgs failed to converge. Increase the number of iterations.\n  \"of iterations.\", ConvergenceWarning)\nF:\\anaconda3.7\\lib\\site-packages\\sklearn\\linear_model\\logistic.py:947: ConvergenceWarning: lbfgs failed to converge. Increase the number of iterations.\n  \"of iterations.\", ConvergenceWarning)\n",
            "F:\\anaconda3.7\\lib\\site-packages\\sklearn\\linear_model\\logistic.py:947: ConvergenceWarning: lbfgs failed to converge. Increase the number of iterations.\n  \"of iterations.\", ConvergenceWarning)\n",
            "F:\\anaconda3.7\\lib\\site-packages\\sklearn\\linear_model\\logistic.py:947: ConvergenceWarning: lbfgs failed to converge. Increase the number of iterations.\n  \"of iterations.\", ConvergenceWarning)\n",
            "F:\\anaconda3.7\\lib\\site-packages\\sklearn\\linear_model\\logistic.py:947: ConvergenceWarning: lbfgs failed to converge. Increase the number of iterations.\n  \"of iterations.\", ConvergenceWarning)\nF:\\anaconda3.7\\lib\\site-packages\\sklearn\\linear_model\\logistic.py:947: ConvergenceWarning: lbfgs failed to converge. Increase the number of iterations.\n  \"of iterations.\", ConvergenceWarning)\n",
            "F:\\anaconda3.7\\lib\\site-packages\\sklearn\\linear_model\\logistic.py:947: ConvergenceWarning: lbfgs failed to converge. Increase the number of iterations.\n  \"of iterations.\", ConvergenceWarning)\n",
            "F:\\anaconda3.7\\lib\\site-packages\\sklearn\\linear_model\\logistic.py:947: ConvergenceWarning: lbfgs failed to converge. Increase the number of iterations.\n  \"of iterations.\", ConvergenceWarning)\nF:\\anaconda3.7\\lib\\site-packages\\sklearn\\linear_model\\logistic.py:947: ConvergenceWarning: lbfgs failed to converge. Increase the number of iterations.\n  \"of iterations.\", ConvergenceWarning)\n",
            "F:\\anaconda3.7\\lib\\site-packages\\sklearn\\linear_model\\logistic.py:947: ConvergenceWarning: lbfgs failed to converge. Increase the number of iterations.\n  \"of iterations.\", ConvergenceWarning)\n",
            "F:\\anaconda3.7\\lib\\site-packages\\sklearn\\linear_model\\logistic.py:947: ConvergenceWarning: lbfgs failed to converge. Increase the number of iterations.\n  \"of iterations.\", ConvergenceWarning)\nF:\\anaconda3.7\\lib\\site-packages\\sklearn\\linear_model\\logistic.py:947: ConvergenceWarning: lbfgs failed to converge. Increase the number of iterations.\n  \"of iterations.\", ConvergenceWarning)\n",
            "F:\\anaconda3.7\\lib\\site-packages\\sklearn\\linear_model\\logistic.py:947: ConvergenceWarning: lbfgs failed to converge. Increase the number of iterations.\n  \"of iterations.\", ConvergenceWarning)\nF:\\anaconda3.7\\lib\\site-packages\\sklearn\\linear_model\\logistic.py:947: ConvergenceWarning: lbfgs failed to converge. Increase the number of iterations.\n  \"of iterations.\", ConvergenceWarning)\n",
            "F:\\anaconda3.7\\lib\\site-packages\\sklearn\\linear_model\\logistic.py:947: ConvergenceWarning: lbfgs failed to converge. Increase the number of iterations.\n  \"of iterations.\", ConvergenceWarning)\nF:\\anaconda3.7\\lib\\site-packages\\sklearn\\model_selection\\_split.py:1978: FutureWarning: The default value of cv will change from 3 to 5 in version 0.22. Specify it explicitly to silence this warning.\n  warnings.warn(CV_WARNING, FutureWarning)\n",
            "F:\\anaconda3.7\\lib\\site-packages\\sklearn\\linear_model\\logistic.py:947: ConvergenceWarning: lbfgs failed to converge. Increase the number of iterations.\n  \"of iterations.\", ConvergenceWarning)\nF:\\anaconda3.7\\lib\\site-packages\\sklearn\\linear_model\\logistic.py:947: ConvergenceWarning: lbfgs failed to converge. Increase the number of iterations.\n  \"of iterations.\", ConvergenceWarning)\n",
            "F:\\anaconda3.7\\lib\\site-packages\\sklearn\\linear_model\\logistic.py:947: ConvergenceWarning: lbfgs failed to converge. Increase the number of iterations.\n  \"of iterations.\", ConvergenceWarning)\nF:\\anaconda3.7\\lib\\site-packages\\sklearn\\linear_model\\logistic.py:947: ConvergenceWarning: lbfgs failed to converge. Increase the number of iterations.\n  \"of iterations.\", ConvergenceWarning)\n",
            "F:\\anaconda3.7\\lib\\site-packages\\sklearn\\linear_model\\logistic.py:947: ConvergenceWarning: lbfgs failed to converge. Increase the number of iterations.\n  \"of iterations.\", ConvergenceWarning)\nF:\\anaconda3.7\\lib\\site-packages\\sklearn\\linear_model\\logistic.py:947: ConvergenceWarning: lbfgs failed to converge. Increase the number of iterations.\n  \"of iterations.\", ConvergenceWarning)\n",
            "F:\\anaconda3.7\\lib\\site-packages\\sklearn\\linear_model\\logistic.py:947: ConvergenceWarning: lbfgs failed to converge. Increase the number of iterations.\n  \"of iterations.\", ConvergenceWarning)\nF:\\anaconda3.7\\lib\\site-packages\\sklearn\\linear_model\\logistic.py:947: ConvergenceWarning: lbfgs failed to converge. Increase the number of iterations.\n  \"of iterations.\", ConvergenceWarning)\n",
            "F:\\anaconda3.7\\lib\\site-packages\\sklearn\\linear_model\\logistic.py:947: ConvergenceWarning: lbfgs failed to converge. Increase the number of iterations.\n  \"of iterations.\", ConvergenceWarning)\nF:\\anaconda3.7\\lib\\site-packages\\sklearn\\linear_model\\logistic.py:947: ConvergenceWarning: lbfgs failed to converge. Increase the number of iterations.\n  \"of iterations.\", ConvergenceWarning)\n",
            "F:\\anaconda3.7\\lib\\site-packages\\sklearn\\linear_model\\logistic.py:947: ConvergenceWarning: lbfgs failed to converge. Increase the number of iterations.\n  \"of iterations.\", ConvergenceWarning)\nF:\\anaconda3.7\\lib\\site-packages\\sklearn\\linear_model\\logistic.py:947: ConvergenceWarning: lbfgs failed to converge. Increase the number of iterations.\n  \"of iterations.\", ConvergenceWarning)\n",
            "F:\\anaconda3.7\\lib\\site-packages\\sklearn\\linear_model\\logistic.py:947: ConvergenceWarning: lbfgs failed to converge. Increase the number of iterations.\n  \"of iterations.\", ConvergenceWarning)\nF:\\anaconda3.7\\lib\\site-packages\\sklearn\\linear_model\\logistic.py:947: ConvergenceWarning: lbfgs failed to converge. Increase the number of iterations.\n  \"of iterations.\", ConvergenceWarning)\nF:\\anaconda3.7\\lib\\site-packages\\sklearn\\linear_model\\logistic.py:947: ConvergenceWarning: lbfgs failed to converge. Increase the number of iterations.\n  \"of iterations.\", ConvergenceWarning)\n",
            "F:\\anaconda3.7\\lib\\site-packages\\sklearn\\linear_model\\logistic.py:947: ConvergenceWarning: lbfgs failed to converge. Increase the number of iterations.\n  \"of iterations.\", ConvergenceWarning)\nF:\\anaconda3.7\\lib\\site-packages\\sklearn\\linear_model\\logistic.py:947: ConvergenceWarning: lbfgs failed to converge. Increase the number of iterations.\n  \"of iterations.\", ConvergenceWarning)\n",
            "F:\\anaconda3.7\\lib\\site-packages\\sklearn\\linear_model\\logistic.py:947: ConvergenceWarning: lbfgs failed to converge. Increase the number of iterations.\n  \"of iterations.\", ConvergenceWarning)\nF:\\anaconda3.7\\lib\\site-packages\\sklearn\\linear_model\\logistic.py:947: ConvergenceWarning: lbfgs failed to converge. Increase the number of iterations.\n  \"of iterations.\", ConvergenceWarning)\n",
            "F:\\anaconda3.7\\lib\\site-packages\\sklearn\\linear_model\\logistic.py:947: ConvergenceWarning: lbfgs failed to converge. Increase the number of iterations.\n  \"of iterations.\", ConvergenceWarning)\nF:\\anaconda3.7\\lib\\site-packages\\sklearn\\linear_model\\logistic.py:947: ConvergenceWarning: lbfgs failed to converge. Increase the number of iterations.\n  \"of iterations.\", ConvergenceWarning)\n",
            "F:\\anaconda3.7\\lib\\site-packages\\sklearn\\linear_model\\logistic.py:947: ConvergenceWarning: lbfgs failed to converge. Increase the number of iterations.\n  \"of iterations.\", ConvergenceWarning)\nF:\\anaconda3.7\\lib\\site-packages\\sklearn\\linear_model\\logistic.py:947: ConvergenceWarning: lbfgs failed to converge. Increase the number of iterations.\n  \"of iterations.\", ConvergenceWarning)\nF:\\anaconda3.7\\lib\\site-packages\\sklearn\\model_selection\\_split.py:1978: FutureWarning: The default value of cv will change from 3 to 5 in version 0.22. Specify it explicitly to silence this warning.\n  warnings.warn(CV_WARNING, FutureWarning)\n",
            "F:\\anaconda3.7\\lib\\site-packages\\sklearn\\linear_model\\logistic.py:947: ConvergenceWarning: lbfgs failed to converge. Increase the number of iterations.\n  \"of iterations.\", ConvergenceWarning)\nF:\\anaconda3.7\\lib\\site-packages\\sklearn\\linear_model\\logistic.py:947: ConvergenceWarning: lbfgs failed to converge. Increase the number of iterations.\n  \"of iterations.\", ConvergenceWarning)\n",
            "F:\\anaconda3.7\\lib\\site-packages\\sklearn\\linear_model\\logistic.py:947: ConvergenceWarning: lbfgs failed to converge. Increase the number of iterations.\n  \"of iterations.\", ConvergenceWarning)\nF:\\anaconda3.7\\lib\\site-packages\\sklearn\\linear_model\\logistic.py:947: ConvergenceWarning: lbfgs failed to converge. Increase the number of iterations.\n  \"of iterations.\", ConvergenceWarning)\n",
            "F:\\anaconda3.7\\lib\\site-packages\\sklearn\\linear_model\\logistic.py:947: ConvergenceWarning: lbfgs failed to converge. Increase the number of iterations.\n  \"of iterations.\", ConvergenceWarning)\nF:\\anaconda3.7\\lib\\site-packages\\sklearn\\linear_model\\logistic.py:947: ConvergenceWarning: lbfgs failed to converge. Increase the number of iterations.\n  \"of iterations.\", ConvergenceWarning)\n",
            "F:\\anaconda3.7\\lib\\site-packages\\sklearn\\linear_model\\logistic.py:947: ConvergenceWarning: lbfgs failed to converge. Increase the number of iterations.\n  \"of iterations.\", ConvergenceWarning)\nF:\\anaconda3.7\\lib\\site-packages\\sklearn\\linear_model\\logistic.py:947: ConvergenceWarning: lbfgs failed to converge. Increase the number of iterations.\n  \"of iterations.\", ConvergenceWarning)\n",
            "F:\\anaconda3.7\\lib\\site-packages\\sklearn\\linear_model\\logistic.py:947: ConvergenceWarning: lbfgs failed to converge. Increase the number of iterations.\n  \"of iterations.\", ConvergenceWarning)\nF:\\anaconda3.7\\lib\\site-packages\\sklearn\\linear_model\\logistic.py:947: ConvergenceWarning: lbfgs failed to converge. Increase the number of iterations.\n  \"of iterations.\", ConvergenceWarning)\n",
            "F:\\anaconda3.7\\lib\\site-packages\\sklearn\\linear_model\\logistic.py:947: ConvergenceWarning: lbfgs failed to converge. Increase the number of iterations.\n  \"of iterations.\", ConvergenceWarning)\nF:\\anaconda3.7\\lib\\site-packages\\sklearn\\linear_model\\logistic.py:947: ConvergenceWarning: lbfgs failed to converge. Increase the number of iterations.\n  \"of iterations.\", ConvergenceWarning)\n",
            "F:\\anaconda3.7\\lib\\site-packages\\sklearn\\linear_model\\logistic.py:947: ConvergenceWarning: lbfgs failed to converge. Increase the number of iterations.\n  \"of iterations.\", ConvergenceWarning)\nF:\\anaconda3.7\\lib\\site-packages\\sklearn\\linear_model\\logistic.py:947: ConvergenceWarning: lbfgs failed to converge. Increase the number of iterations.\n  \"of iterations.\", ConvergenceWarning)\n",
            "F:\\anaconda3.7\\lib\\site-packages\\sklearn\\linear_model\\logistic.py:947: ConvergenceWarning: lbfgs failed to converge. Increase the number of iterations.\n  \"of iterations.\", ConvergenceWarning)\nF:\\anaconda3.7\\lib\\site-packages\\sklearn\\linear_model\\logistic.py:947: ConvergenceWarning: lbfgs failed to converge. Increase the number of iterations.\n  \"of iterations.\", ConvergenceWarning)\n",
            "F:\\anaconda3.7\\lib\\site-packages\\sklearn\\linear_model\\logistic.py:947: ConvergenceWarning: lbfgs failed to converge. Increase the number of iterations.\n  \"of iterations.\", ConvergenceWarning)\nF:\\anaconda3.7\\lib\\site-packages\\sklearn\\linear_model\\logistic.py:947: ConvergenceWarning: lbfgs failed to converge. Increase the number of iterations.\n  \"of iterations.\", ConvergenceWarning)\n",
            "F:\\anaconda3.7\\lib\\site-packages\\sklearn\\linear_model\\logistic.py:947: ConvergenceWarning: lbfgs failed to converge. Increase the number of iterations.\n  \"of iterations.\", ConvergenceWarning)\nF:\\anaconda3.7\\lib\\site-packages\\sklearn\\linear_model\\logistic.py:947: ConvergenceWarning: lbfgs failed to converge. Increase the number of iterations.\n  \"of iterations.\", ConvergenceWarning)\n",
            "F:\\anaconda3.7\\lib\\site-packages\\sklearn\\linear_model\\logistic.py:947: ConvergenceWarning: lbfgs failed to converge. Increase the number of iterations.\n  \"of iterations.\", ConvergenceWarning)\nF:\\anaconda3.7\\lib\\site-packages\\sklearn\\linear_model\\logistic.py:947: ConvergenceWarning: lbfgs failed to converge. Increase the number of iterations.\n  \"of iterations.\", ConvergenceWarning)\n",
            "F:\\anaconda3.7\\lib\\site-packages\\sklearn\\linear_model\\logistic.py:947: ConvergenceWarning: lbfgs failed to converge. Increase the number of iterations.\n  \"of iterations.\", ConvergenceWarning)\nF:\\anaconda3.7\\lib\\site-packages\\sklearn\\linear_model\\logistic.py:947: ConvergenceWarning: lbfgs failed to converge. Increase the number of iterations.\n  \"of iterations.\", ConvergenceWarning)\n",
            "F:\\anaconda3.7\\lib\\site-packages\\sklearn\\model_selection\\_split.py:1978: FutureWarning: The default value of cv will change from 3 to 5 in version 0.22. Specify it explicitly to silence this warning.\n  warnings.warn(CV_WARNING, FutureWarning)\n",
            "F:\\anaconda3.7\\lib\\site-packages\\sklearn\\linear_model\\logistic.py:947: ConvergenceWarning: lbfgs failed to converge. Increase the number of iterations.\n  \"of iterations.\", ConvergenceWarning)\nF:\\anaconda3.7\\lib\\site-packages\\sklearn\\linear_model\\logistic.py:947: ConvergenceWarning: lbfgs failed to converge. Increase the number of iterations.\n  \"of iterations.\", ConvergenceWarning)\n",
            "F:\\anaconda3.7\\lib\\site-packages\\sklearn\\linear_model\\logistic.py:947: ConvergenceWarning: lbfgs failed to converge. Increase the number of iterations.\n  \"of iterations.\", ConvergenceWarning)\nF:\\anaconda3.7\\lib\\site-packages\\sklearn\\linear_model\\logistic.py:947: ConvergenceWarning: lbfgs failed to converge. Increase the number of iterations.\n  \"of iterations.\", ConvergenceWarning)\n",
            "F:\\anaconda3.7\\lib\\site-packages\\sklearn\\linear_model\\logistic.py:947: ConvergenceWarning: lbfgs failed to converge. Increase the number of iterations.\n  \"of iterations.\", ConvergenceWarning)\nF:\\anaconda3.7\\lib\\site-packages\\sklearn\\linear_model\\logistic.py:947: ConvergenceWarning: lbfgs failed to converge. Increase the number of iterations.\n  \"of iterations.\", ConvergenceWarning)\n",
            "F:\\anaconda3.7\\lib\\site-packages\\sklearn\\linear_model\\logistic.py:947: ConvergenceWarning: lbfgs failed to converge. Increase the number of iterations.\n  \"of iterations.\", ConvergenceWarning)\n",
            "F:\\anaconda3.7\\lib\\site-packages\\sklearn\\linear_model\\logistic.py:947: ConvergenceWarning: lbfgs failed to converge. Increase the number of iterations.\n  \"of iterations.\", ConvergenceWarning)\nF:\\anaconda3.7\\lib\\site-packages\\sklearn\\linear_model\\logistic.py:947: ConvergenceWarning: lbfgs failed to converge. Increase the number of iterations.\n  \"of iterations.\", ConvergenceWarning)\n",
            "F:\\anaconda3.7\\lib\\site-packages\\sklearn\\linear_model\\logistic.py:947: ConvergenceWarning: lbfgs failed to converge. Increase the number of iterations.\n  \"of iterations.\", ConvergenceWarning)\nF:\\anaconda3.7\\lib\\site-packages\\sklearn\\linear_model\\logistic.py:947: ConvergenceWarning: lbfgs failed to converge. Increase the number of iterations.\n  \"of iterations.\", ConvergenceWarning)\n",
            "F:\\anaconda3.7\\lib\\site-packages\\sklearn\\linear_model\\logistic.py:947: ConvergenceWarning: lbfgs failed to converge. Increase the number of iterations.\n  \"of iterations.\", ConvergenceWarning)\nF:\\anaconda3.7\\lib\\site-packages\\sklearn\\linear_model\\logistic.py:947: ConvergenceWarning: lbfgs failed to converge. Increase the number of iterations.\n  \"of iterations.\", ConvergenceWarning)\n",
            "F:\\anaconda3.7\\lib\\site-packages\\sklearn\\linear_model\\logistic.py:947: ConvergenceWarning: lbfgs failed to converge. Increase the number of iterations.\n  \"of iterations.\", ConvergenceWarning)\n",
            "F:\\anaconda3.7\\lib\\site-packages\\sklearn\\linear_model\\logistic.py:947: ConvergenceWarning: lbfgs failed to converge. Increase the number of iterations.\n  \"of iterations.\", ConvergenceWarning)\nF:\\anaconda3.7\\lib\\site-packages\\sklearn\\linear_model\\logistic.py:947: ConvergenceWarning: lbfgs failed to converge. Increase the number of iterations.\n  \"of iterations.\", ConvergenceWarning)\n",
            "F:\\anaconda3.7\\lib\\site-packages\\sklearn\\linear_model\\logistic.py:947: ConvergenceWarning: lbfgs failed to converge. Increase the number of iterations.\n  \"of iterations.\", ConvergenceWarning)\nF:\\anaconda3.7\\lib\\site-packages\\sklearn\\linear_model\\logistic.py:947: ConvergenceWarning: lbfgs failed to converge. Increase the number of iterations.\n  \"of iterations.\", ConvergenceWarning)\n",
            "F:\\anaconda3.7\\lib\\site-packages\\sklearn\\linear_model\\logistic.py:947: ConvergenceWarning: lbfgs failed to converge. Increase the number of iterations.\n  \"of iterations.\", ConvergenceWarning)\nF:\\anaconda3.7\\lib\\site-packages\\sklearn\\linear_model\\logistic.py:947: ConvergenceWarning: lbfgs failed to converge. Increase the number of iterations.\n  \"of iterations.\", ConvergenceWarning)\n",
            "F:\\anaconda3.7\\lib\\site-packages\\sklearn\\linear_model\\logistic.py:947: ConvergenceWarning: lbfgs failed to converge. Increase the number of iterations.\n  \"of iterations.\", ConvergenceWarning)\n",
            "F:\\anaconda3.7\\lib\\site-packages\\sklearn\\linear_model\\logistic.py:947: ConvergenceWarning: lbfgs failed to converge. Increase the number of iterations.\n  \"of iterations.\", ConvergenceWarning)\nF:\\anaconda3.7\\lib\\site-packages\\sklearn\\model_selection\\_split.py:1978: FutureWarning: The default value of cv will change from 3 to 5 in version 0.22. Specify it explicitly to silence this warning.\n  warnings.warn(CV_WARNING, FutureWarning)\n",
            "F:\\anaconda3.7\\lib\\site-packages\\sklearn\\linear_model\\logistic.py:947: ConvergenceWarning: lbfgs failed to converge. Increase the number of iterations.\n  \"of iterations.\", ConvergenceWarning)\nF:\\anaconda3.7\\lib\\site-packages\\sklearn\\linear_model\\logistic.py:947: ConvergenceWarning: lbfgs failed to converge. Increase the number of iterations.\n  \"of iterations.\", ConvergenceWarning)\n",
            "F:\\anaconda3.7\\lib\\site-packages\\sklearn\\linear_model\\logistic.py:947: ConvergenceWarning: lbfgs failed to converge. Increase the number of iterations.\n  \"of iterations.\", ConvergenceWarning)\nF:\\anaconda3.7\\lib\\site-packages\\sklearn\\linear_model\\logistic.py:947: ConvergenceWarning: lbfgs failed to converge. Increase the number of iterations.\n  \"of iterations.\", ConvergenceWarning)\n",
            "F:\\anaconda3.7\\lib\\site-packages\\sklearn\\linear_model\\logistic.py:947: ConvergenceWarning: lbfgs failed to converge. Increase the number of iterations.\n  \"of iterations.\", ConvergenceWarning)\nF:\\anaconda3.7\\lib\\site-packages\\sklearn\\linear_model\\logistic.py:947: ConvergenceWarning: lbfgs failed to converge. Increase the number of iterations.\n  \"of iterations.\", ConvergenceWarning)\n",
            "F:\\anaconda3.7\\lib\\site-packages\\sklearn\\linear_model\\logistic.py:947: ConvergenceWarning: lbfgs failed to converge. Increase the number of iterations.\n  \"of iterations.\", ConvergenceWarning)\n",
            "F:\\anaconda3.7\\lib\\site-packages\\sklearn\\linear_model\\logistic.py:947: ConvergenceWarning: lbfgs failed to converge. Increase the number of iterations.\n  \"of iterations.\", ConvergenceWarning)\nF:\\anaconda3.7\\lib\\site-packages\\sklearn\\linear_model\\logistic.py:947: ConvergenceWarning: lbfgs failed to converge. Increase the number of iterations.\n  \"of iterations.\", ConvergenceWarning)\n",
            "F:\\anaconda3.7\\lib\\site-packages\\sklearn\\linear_model\\logistic.py:947: ConvergenceWarning: lbfgs failed to converge. Increase the number of iterations.\n  \"of iterations.\", ConvergenceWarning)\nF:\\anaconda3.7\\lib\\site-packages\\sklearn\\linear_model\\logistic.py:947: ConvergenceWarning: lbfgs failed to converge. Increase the number of iterations.\n  \"of iterations.\", ConvergenceWarning)\n",
            "F:\\anaconda3.7\\lib\\site-packages\\sklearn\\linear_model\\logistic.py:947: ConvergenceWarning: lbfgs failed to converge. Increase the number of iterations.\n  \"of iterations.\", ConvergenceWarning)\nF:\\anaconda3.7\\lib\\site-packages\\sklearn\\linear_model\\logistic.py:947: ConvergenceWarning: lbfgs failed to converge. Increase the number of iterations.\n  \"of iterations.\", ConvergenceWarning)\n",
            "F:\\anaconda3.7\\lib\\site-packages\\sklearn\\linear_model\\logistic.py:947: ConvergenceWarning: lbfgs failed to converge. Increase the number of iterations.\n  \"of iterations.\", ConvergenceWarning)\nF:\\anaconda3.7\\lib\\site-packages\\sklearn\\linear_model\\logistic.py:947: ConvergenceWarning: lbfgs failed to converge. Increase the number of iterations.\n  \"of iterations.\", ConvergenceWarning)\n",
            "F:\\anaconda3.7\\lib\\site-packages\\sklearn\\linear_model\\logistic.py:947: ConvergenceWarning: lbfgs failed to converge. Increase the number of iterations.\n  \"of iterations.\", ConvergenceWarning)\nF:\\anaconda3.7\\lib\\site-packages\\sklearn\\linear_model\\logistic.py:947: ConvergenceWarning: lbfgs failed to converge. Increase the number of iterations.\n  \"of iterations.\", ConvergenceWarning)\n",
            "F:\\anaconda3.7\\lib\\site-packages\\sklearn\\linear_model\\logistic.py:947: ConvergenceWarning: lbfgs failed to converge. Increase the number of iterations.\n  \"of iterations.\", ConvergenceWarning)\nF:\\anaconda3.7\\lib\\site-packages\\sklearn\\linear_model\\logistic.py:947: ConvergenceWarning: lbfgs failed to converge. Increase the number of iterations.\n  \"of iterations.\", ConvergenceWarning)\n",
            "F:\\anaconda3.7\\lib\\site-packages\\sklearn\\linear_model\\logistic.py:947: ConvergenceWarning: lbfgs failed to converge. Increase the number of iterations.\n  \"of iterations.\", ConvergenceWarning)\nF:\\anaconda3.7\\lib\\site-packages\\sklearn\\linear_model\\logistic.py:947: ConvergenceWarning: lbfgs failed to converge. Increase the number of iterations.\n  \"of iterations.\", ConvergenceWarning)\n",
            "F:\\anaconda3.7\\lib\\site-packages\\sklearn\\linear_model\\logistic.py:947: ConvergenceWarning: lbfgs failed to converge. Increase the number of iterations.\n  \"of iterations.\", ConvergenceWarning)\nF:\\anaconda3.7\\lib\\site-packages\\sklearn\\linear_model\\logistic.py:947: ConvergenceWarning: lbfgs failed to converge. Increase the number of iterations.\n  \"of iterations.\", ConvergenceWarning)\n",
            "F:\\anaconda3.7\\lib\\site-packages\\sklearn\\model_selection\\_split.py:1978: FutureWarning: The default value of cv will change from 3 to 5 in version 0.22. Specify it explicitly to silence this warning.\n  warnings.warn(CV_WARNING, FutureWarning)\n",
            "F:\\anaconda3.7\\lib\\site-packages\\sklearn\\linear_model\\logistic.py:947: ConvergenceWarning: lbfgs failed to converge. Increase the number of iterations.\n  \"of iterations.\", ConvergenceWarning)\nF:\\anaconda3.7\\lib\\site-packages\\sklearn\\linear_model\\logistic.py:947: ConvergenceWarning: lbfgs failed to converge. Increase the number of iterations.\n  \"of iterations.\", ConvergenceWarning)\n",
            "F:\\anaconda3.7\\lib\\site-packages\\sklearn\\linear_model\\logistic.py:947: ConvergenceWarning: lbfgs failed to converge. Increase the number of iterations.\n  \"of iterations.\", ConvergenceWarning)\nF:\\anaconda3.7\\lib\\site-packages\\sklearn\\linear_model\\logistic.py:947: ConvergenceWarning: lbfgs failed to converge. Increase the number of iterations.\n  \"of iterations.\", ConvergenceWarning)\n",
            "F:\\anaconda3.7\\lib\\site-packages\\sklearn\\linear_model\\logistic.py:947: ConvergenceWarning: lbfgs failed to converge. Increase the number of iterations.\n  \"of iterations.\", ConvergenceWarning)\n",
            "F:\\anaconda3.7\\lib\\site-packages\\sklearn\\linear_model\\logistic.py:947: ConvergenceWarning: lbfgs failed to converge. Increase the number of iterations.\n  \"of iterations.\", ConvergenceWarning)\n",
            "F:\\anaconda3.7\\lib\\site-packages\\sklearn\\linear_model\\logistic.py:947: ConvergenceWarning: lbfgs failed to converge. Increase the number of iterations.\n  \"of iterations.\", ConvergenceWarning)\n",
            "F:\\anaconda3.7\\lib\\site-packages\\sklearn\\linear_model\\logistic.py:947: ConvergenceWarning: lbfgs failed to converge. Increase the number of iterations.\n  \"of iterations.\", ConvergenceWarning)\nF:\\anaconda3.7\\lib\\site-packages\\sklearn\\linear_model\\logistic.py:947: ConvergenceWarning: lbfgs failed to converge. Increase the number of iterations.\n  \"of iterations.\", ConvergenceWarning)\n",
            "F:\\anaconda3.7\\lib\\site-packages\\sklearn\\linear_model\\logistic.py:947: ConvergenceWarning: lbfgs failed to converge. Increase the number of iterations.\n  \"of iterations.\", ConvergenceWarning)\nF:\\anaconda3.7\\lib\\site-packages\\sklearn\\linear_model\\logistic.py:947: ConvergenceWarning: lbfgs failed to converge. Increase the number of iterations.\n  \"of iterations.\", ConvergenceWarning)\n",
            "F:\\anaconda3.7\\lib\\site-packages\\sklearn\\linear_model\\logistic.py:947: ConvergenceWarning: lbfgs failed to converge. Increase the number of iterations.\n  \"of iterations.\", ConvergenceWarning)\n",
            "F:\\anaconda3.7\\lib\\site-packages\\sklearn\\linear_model\\logistic.py:947: ConvergenceWarning: lbfgs failed to converge. Increase the number of iterations.\n  \"of iterations.\", ConvergenceWarning)\nF:\\anaconda3.7\\lib\\site-packages\\sklearn\\linear_model\\logistic.py:947: ConvergenceWarning: lbfgs failed to converge. Increase the number of iterations.\n  \"of iterations.\", ConvergenceWarning)\n",
            "F:\\anaconda3.7\\lib\\site-packages\\sklearn\\linear_model\\logistic.py:947: ConvergenceWarning: lbfgs failed to converge. Increase the number of iterations.\n  \"of iterations.\", ConvergenceWarning)\n",
            "F:\\anaconda3.7\\lib\\site-packages\\sklearn\\linear_model\\logistic.py:947: ConvergenceWarning: lbfgs failed to converge. Increase the number of iterations.\n  \"of iterations.\", ConvergenceWarning)\nF:\\anaconda3.7\\lib\\site-packages\\sklearn\\linear_model\\logistic.py:947: ConvergenceWarning: lbfgs failed to converge. Increase the number of iterations.\n  \"of iterations.\", ConvergenceWarning)\n",
            "F:\\anaconda3.7\\lib\\site-packages\\sklearn\\linear_model\\logistic.py:947: ConvergenceWarning: lbfgs failed to converge. Increase the number of iterations.\n  \"of iterations.\", ConvergenceWarning)\n",
            "F:\\anaconda3.7\\lib\\site-packages\\sklearn\\linear_model\\logistic.py:947: ConvergenceWarning: lbfgs failed to converge. Increase the number of iterations.\n  \"of iterations.\", ConvergenceWarning)\nF:\\anaconda3.7\\lib\\site-packages\\sklearn\\linear_model\\logistic.py:947: ConvergenceWarning: lbfgs failed to converge. Increase the number of iterations.\n  \"of iterations.\", ConvergenceWarning)\n",
            "F:\\anaconda3.7\\lib\\site-packages\\sklearn\\linear_model\\logistic.py:947: ConvergenceWarning: lbfgs failed to converge. Increase the number of iterations.\n  \"of iterations.\", ConvergenceWarning)\nF:\\anaconda3.7\\lib\\site-packages\\sklearn\\linear_model\\logistic.py:947: ConvergenceWarning: lbfgs failed to converge. Increase the number of iterations.\n  \"of iterations.\", ConvergenceWarning)\n",
            "F:\\anaconda3.7\\lib\\site-packages\\sklearn\\linear_model\\logistic.py:947: ConvergenceWarning: lbfgs failed to converge. Increase the number of iterations.\n  \"of iterations.\", ConvergenceWarning)\nF:\\anaconda3.7\\lib\\site-packages\\sklearn\\model_selection\\_split.py:1978: FutureWarning: The default value of cv will change from 3 to 5 in version 0.22. Specify it explicitly to silence this warning.\n  warnings.warn(CV_WARNING, FutureWarning)\n",
            "F:\\anaconda3.7\\lib\\site-packages\\sklearn\\linear_model\\logistic.py:947: ConvergenceWarning: lbfgs failed to converge. Increase the number of iterations.\n  \"of iterations.\", ConvergenceWarning)\nF:\\anaconda3.7\\lib\\site-packages\\sklearn\\linear_model\\logistic.py:947: ConvergenceWarning: lbfgs failed to converge. Increase the number of iterations.\n  \"of iterations.\", ConvergenceWarning)\n",
            "F:\\anaconda3.7\\lib\\site-packages\\sklearn\\linear_model\\logistic.py:947: ConvergenceWarning: lbfgs failed to converge. Increase the number of iterations.\n  \"of iterations.\", ConvergenceWarning)\nF:\\anaconda3.7\\lib\\site-packages\\sklearn\\linear_model\\logistic.py:947: ConvergenceWarning: lbfgs failed to converge. Increase the number of iterations.\n  \"of iterations.\", ConvergenceWarning)\n",
            "F:\\anaconda3.7\\lib\\site-packages\\sklearn\\linear_model\\logistic.py:947: ConvergenceWarning: lbfgs failed to converge. Increase the number of iterations.\n  \"of iterations.\", ConvergenceWarning)\nF:\\anaconda3.7\\lib\\site-packages\\sklearn\\linear_model\\logistic.py:947: ConvergenceWarning: lbfgs failed to converge. Increase the number of iterations.\n  \"of iterations.\", ConvergenceWarning)\n",
            "F:\\anaconda3.7\\lib\\site-packages\\sklearn\\linear_model\\logistic.py:947: ConvergenceWarning: lbfgs failed to converge. Increase the number of iterations.\n  \"of iterations.\", ConvergenceWarning)\n",
            "F:\\anaconda3.7\\lib\\site-packages\\sklearn\\linear_model\\logistic.py:947: ConvergenceWarning: lbfgs failed to converge. Increase the number of iterations.\n  \"of iterations.\", ConvergenceWarning)\nF:\\anaconda3.7\\lib\\site-packages\\sklearn\\linear_model\\logistic.py:947: ConvergenceWarning: lbfgs failed to converge. Increase the number of iterations.\n  \"of iterations.\", ConvergenceWarning)\n",
            "F:\\anaconda3.7\\lib\\site-packages\\sklearn\\linear_model\\logistic.py:947: ConvergenceWarning: lbfgs failed to converge. Increase the number of iterations.\n  \"of iterations.\", ConvergenceWarning)\nF:\\anaconda3.7\\lib\\site-packages\\sklearn\\linear_model\\logistic.py:947: ConvergenceWarning: lbfgs failed to converge. Increase the number of iterations.\n  \"of iterations.\", ConvergenceWarning)\n",
            "F:\\anaconda3.7\\lib\\site-packages\\sklearn\\linear_model\\logistic.py:947: ConvergenceWarning: lbfgs failed to converge. Increase the number of iterations.\n  \"of iterations.\", ConvergenceWarning)\nF:\\anaconda3.7\\lib\\site-packages\\sklearn\\linear_model\\logistic.py:947: ConvergenceWarning: lbfgs failed to converge. Increase the number of iterations.\n  \"of iterations.\", ConvergenceWarning)\n",
            "F:\\anaconda3.7\\lib\\site-packages\\sklearn\\linear_model\\logistic.py:947: ConvergenceWarning: lbfgs failed to converge. Increase the number of iterations.\n  \"of iterations.\", ConvergenceWarning)\nF:\\anaconda3.7\\lib\\site-packages\\sklearn\\linear_model\\logistic.py:947: ConvergenceWarning: lbfgs failed to converge. Increase the number of iterations.\n  \"of iterations.\", ConvergenceWarning)\n",
            "F:\\anaconda3.7\\lib\\site-packages\\sklearn\\linear_model\\logistic.py:947: ConvergenceWarning: lbfgs failed to converge. Increase the number of iterations.\n  \"of iterations.\", ConvergenceWarning)\nF:\\anaconda3.7\\lib\\site-packages\\sklearn\\linear_model\\logistic.py:947: ConvergenceWarning: lbfgs failed to converge. Increase the number of iterations.\n  \"of iterations.\", ConvergenceWarning)\n",
            "F:\\anaconda3.7\\lib\\site-packages\\sklearn\\linear_model\\logistic.py:947: ConvergenceWarning: lbfgs failed to converge. Increase the number of iterations.\n  \"of iterations.\", ConvergenceWarning)\nF:\\anaconda3.7\\lib\\site-packages\\sklearn\\linear_model\\logistic.py:947: ConvergenceWarning: lbfgs failed to converge. Increase the number of iterations.\n  \"of iterations.\", ConvergenceWarning)\n",
            "F:\\anaconda3.7\\lib\\site-packages\\sklearn\\linear_model\\logistic.py:947: ConvergenceWarning: lbfgs failed to converge. Increase the number of iterations.\n  \"of iterations.\", ConvergenceWarning)\nF:\\anaconda3.7\\lib\\site-packages\\sklearn\\linear_model\\logistic.py:947: ConvergenceWarning: lbfgs failed to converge. Increase the number of iterations.\n  \"of iterations.\", ConvergenceWarning)\n",
            "F:\\anaconda3.7\\lib\\site-packages\\sklearn\\linear_model\\logistic.py:947: ConvergenceWarning: lbfgs failed to converge. Increase the number of iterations.\n  \"of iterations.\", ConvergenceWarning)\nF:\\anaconda3.7\\lib\\site-packages\\sklearn\\linear_model\\logistic.py:947: ConvergenceWarning: lbfgs failed to converge. Increase the number of iterations.\n  \"of iterations.\", ConvergenceWarning)\nF:\\anaconda3.7\\lib\\site-packages\\sklearn\\model_selection\\_split.py:1978: FutureWarning: The default value of cv will change from 3 to 5 in version 0.22. Specify it explicitly to silence this warning.\n  warnings.warn(CV_WARNING, FutureWarning)\n",
            "F:\\anaconda3.7\\lib\\site-packages\\sklearn\\linear_model\\logistic.py:947: ConvergenceWarning: lbfgs failed to converge. Increase the number of iterations.\n  \"of iterations.\", ConvergenceWarning)\nF:\\anaconda3.7\\lib\\site-packages\\sklearn\\linear_model\\logistic.py:947: ConvergenceWarning: lbfgs failed to converge. Increase the number of iterations.\n  \"of iterations.\", ConvergenceWarning)\n",
            "F:\\anaconda3.7\\lib\\site-packages\\sklearn\\linear_model\\logistic.py:947: ConvergenceWarning: lbfgs failed to converge. Increase the number of iterations.\n  \"of iterations.\", ConvergenceWarning)\nF:\\anaconda3.7\\lib\\site-packages\\sklearn\\linear_model\\logistic.py:947: ConvergenceWarning: lbfgs failed to converge. Increase the number of iterations.\n  \"of iterations.\", ConvergenceWarning)\n",
            "F:\\anaconda3.7\\lib\\site-packages\\sklearn\\linear_model\\logistic.py:947: ConvergenceWarning: lbfgs failed to converge. Increase the number of iterations.\n  \"of iterations.\", ConvergenceWarning)\nF:\\anaconda3.7\\lib\\site-packages\\sklearn\\linear_model\\logistic.py:947: ConvergenceWarning: lbfgs failed to converge. Increase the number of iterations.\n  \"of iterations.\", ConvergenceWarning)\nF:\\anaconda3.7\\lib\\site-packages\\sklearn\\linear_model\\logistic.py:947: ConvergenceWarning: lbfgs failed to converge. Increase the number of iterations.\n  \"of iterations.\", ConvergenceWarning)\n",
            "F:\\anaconda3.7\\lib\\site-packages\\sklearn\\linear_model\\logistic.py:947: ConvergenceWarning: lbfgs failed to converge. Increase the number of iterations.\n  \"of iterations.\", ConvergenceWarning)\n",
            "F:\\anaconda3.7\\lib\\site-packages\\sklearn\\linear_model\\logistic.py:947: ConvergenceWarning: lbfgs failed to converge. Increase the number of iterations.\n  \"of iterations.\", ConvergenceWarning)\n",
            "F:\\anaconda3.7\\lib\\site-packages\\sklearn\\linear_model\\logistic.py:947: ConvergenceWarning: lbfgs failed to converge. Increase the number of iterations.\n  \"of iterations.\", ConvergenceWarning)\nF:\\anaconda3.7\\lib\\site-packages\\sklearn\\linear_model\\logistic.py:947: ConvergenceWarning: lbfgs failed to converge. Increase the number of iterations.\n  \"of iterations.\", ConvergenceWarning)\n",
            "F:\\anaconda3.7\\lib\\site-packages\\sklearn\\linear_model\\logistic.py:947: ConvergenceWarning: lbfgs failed to converge. Increase the number of iterations.\n  \"of iterations.\", ConvergenceWarning)\nF:\\anaconda3.7\\lib\\site-packages\\sklearn\\linear_model\\logistic.py:947: ConvergenceWarning: lbfgs failed to converge. Increase the number of iterations.\n  \"of iterations.\", ConvergenceWarning)\n",
            "F:\\anaconda3.7\\lib\\site-packages\\sklearn\\linear_model\\logistic.py:947: ConvergenceWarning: lbfgs failed to converge. Increase the number of iterations.\n  \"of iterations.\", ConvergenceWarning)\nF:\\anaconda3.7\\lib\\site-packages\\sklearn\\linear_model\\logistic.py:947: ConvergenceWarning: lbfgs failed to converge. Increase the number of iterations.\n  \"of iterations.\", ConvergenceWarning)\n",
            "F:\\anaconda3.7\\lib\\site-packages\\sklearn\\linear_model\\logistic.py:947: ConvergenceWarning: lbfgs failed to converge. Increase the number of iterations.\n  \"of iterations.\", ConvergenceWarning)\nF:\\anaconda3.7\\lib\\site-packages\\sklearn\\linear_model\\logistic.py:947: ConvergenceWarning: lbfgs failed to converge. Increase the number of iterations.\n  \"of iterations.\", ConvergenceWarning)\n",
            "F:\\anaconda3.7\\lib\\site-packages\\sklearn\\linear_model\\logistic.py:947: ConvergenceWarning: lbfgs failed to converge. Increase the number of iterations.\n  \"of iterations.\", ConvergenceWarning)\nF:\\anaconda3.7\\lib\\site-packages\\sklearn\\linear_model\\logistic.py:947: ConvergenceWarning: lbfgs failed to converge. Increase the number of iterations.\n  \"of iterations.\", ConvergenceWarning)\n",
            "F:\\anaconda3.7\\lib\\site-packages\\sklearn\\linear_model\\logistic.py:947: ConvergenceWarning: lbfgs failed to converge. Increase the number of iterations.\n  \"of iterations.\", ConvergenceWarning)\nF:\\anaconda3.7\\lib\\site-packages\\sklearn\\linear_model\\logistic.py:947: ConvergenceWarning: lbfgs failed to converge. Increase the number of iterations.\n  \"of iterations.\", ConvergenceWarning)\n",
            "F:\\anaconda3.7\\lib\\site-packages\\sklearn\\linear_model\\logistic.py:947: ConvergenceWarning: lbfgs failed to converge. Increase the number of iterations.\n  \"of iterations.\", ConvergenceWarning)\n",
            "F:\\anaconda3.7\\lib\\site-packages\\sklearn\\linear_model\\logistic.py:947: ConvergenceWarning: lbfgs failed to converge. Increase the number of iterations.\n  \"of iterations.\", ConvergenceWarning)\nF:\\anaconda3.7\\lib\\site-packages\\sklearn\\model_selection\\_split.py:1978: FutureWarning: The default value of cv will change from 3 to 5 in version 0.22. Specify it explicitly to silence this warning.\n  warnings.warn(CV_WARNING, FutureWarning)\n",
            "F:\\anaconda3.7\\lib\\site-packages\\sklearn\\linear_model\\logistic.py:947: ConvergenceWarning: lbfgs failed to converge. Increase the number of iterations.\n  \"of iterations.\", ConvergenceWarning)\nF:\\anaconda3.7\\lib\\site-packages\\sklearn\\linear_model\\logistic.py:947: ConvergenceWarning: lbfgs failed to converge. Increase the number of iterations.\n  \"of iterations.\", ConvergenceWarning)\n",
            "F:\\anaconda3.7\\lib\\site-packages\\sklearn\\linear_model\\logistic.py:947: ConvergenceWarning: lbfgs failed to converge. Increase the number of iterations.\n  \"of iterations.\", ConvergenceWarning)\n",
            "F:\\anaconda3.7\\lib\\site-packages\\sklearn\\linear_model\\logistic.py:947: ConvergenceWarning: lbfgs failed to converge. Increase the number of iterations.\n  \"of iterations.\", ConvergenceWarning)\nF:\\anaconda3.7\\lib\\site-packages\\sklearn\\linear_model\\logistic.py:947: ConvergenceWarning: lbfgs failed to converge. Increase the number of iterations.\n  \"of iterations.\", ConvergenceWarning)\n",
            "F:\\anaconda3.7\\lib\\site-packages\\sklearn\\linear_model\\logistic.py:947: ConvergenceWarning: lbfgs failed to converge. Increase the number of iterations.\n  \"of iterations.\", ConvergenceWarning)\nF:\\anaconda3.7\\lib\\site-packages\\sklearn\\linear_model\\logistic.py:947: ConvergenceWarning: lbfgs failed to converge. Increase the number of iterations.\n  \"of iterations.\", ConvergenceWarning)\n",
            "F:\\anaconda3.7\\lib\\site-packages\\sklearn\\linear_model\\logistic.py:947: ConvergenceWarning: lbfgs failed to converge. Increase the number of iterations.\n  \"of iterations.\", ConvergenceWarning)\n",
            "F:\\anaconda3.7\\lib\\site-packages\\sklearn\\linear_model\\logistic.py:947: ConvergenceWarning: lbfgs failed to converge. Increase the number of iterations.\n  \"of iterations.\", ConvergenceWarning)\nF:\\anaconda3.7\\lib\\site-packages\\sklearn\\linear_model\\logistic.py:947: ConvergenceWarning: lbfgs failed to converge. Increase the number of iterations.\n  \"of iterations.\", ConvergenceWarning)\n",
            "F:\\anaconda3.7\\lib\\site-packages\\sklearn\\linear_model\\logistic.py:947: ConvergenceWarning: lbfgs failed to converge. Increase the number of iterations.\n  \"of iterations.\", ConvergenceWarning)\nF:\\anaconda3.7\\lib\\site-packages\\sklearn\\linear_model\\logistic.py:947: ConvergenceWarning: lbfgs failed to converge. Increase the number of iterations.\n  \"of iterations.\", ConvergenceWarning)\n",
            "F:\\anaconda3.7\\lib\\site-packages\\sklearn\\linear_model\\logistic.py:947: ConvergenceWarning: lbfgs failed to converge. Increase the number of iterations.\n  \"of iterations.\", ConvergenceWarning)\nF:\\anaconda3.7\\lib\\site-packages\\sklearn\\linear_model\\logistic.py:947: ConvergenceWarning: lbfgs failed to converge. Increase the number of iterations.\n  \"of iterations.\", ConvergenceWarning)\n",
            "F:\\anaconda3.7\\lib\\site-packages\\sklearn\\linear_model\\logistic.py:947: ConvergenceWarning: lbfgs failed to converge. Increase the number of iterations.\n  \"of iterations.\", ConvergenceWarning)\n",
            "F:\\anaconda3.7\\lib\\site-packages\\sklearn\\linear_model\\logistic.py:947: ConvergenceWarning: lbfgs failed to converge. Increase the number of iterations.\n  \"of iterations.\", ConvergenceWarning)\nF:\\anaconda3.7\\lib\\site-packages\\sklearn\\linear_model\\logistic.py:947: ConvergenceWarning: lbfgs failed to converge. Increase the number of iterations.\n  \"of iterations.\", ConvergenceWarning)\n",
            "F:\\anaconda3.7\\lib\\site-packages\\sklearn\\linear_model\\logistic.py:947: ConvergenceWarning: lbfgs failed to converge. Increase the number of iterations.\n  \"of iterations.\", ConvergenceWarning)\nF:\\anaconda3.7\\lib\\site-packages\\sklearn\\linear_model\\logistic.py:947: ConvergenceWarning: lbfgs failed to converge. Increase the number of iterations.\n  \"of iterations.\", ConvergenceWarning)\n",
            "F:\\anaconda3.7\\lib\\site-packages\\sklearn\\linear_model\\logistic.py:947: ConvergenceWarning: lbfgs failed to converge. Increase the number of iterations.\n  \"of iterations.\", ConvergenceWarning)\nF:\\anaconda3.7\\lib\\site-packages\\sklearn\\linear_model\\logistic.py:947: ConvergenceWarning: lbfgs failed to converge. Increase the number of iterations.\n  \"of iterations.\", ConvergenceWarning)\n",
            "F:\\anaconda3.7\\lib\\site-packages\\sklearn\\linear_model\\logistic.py:947: ConvergenceWarning: lbfgs failed to converge. Increase the number of iterations.\n  \"of iterations.\", ConvergenceWarning)\nF:\\anaconda3.7\\lib\\site-packages\\sklearn\\linear_model\\logistic.py:947: ConvergenceWarning: lbfgs failed to converge. Increase the number of iterations.\n  \"of iterations.\", ConvergenceWarning)\nF:\\anaconda3.7\\lib\\site-packages\\sklearn\\model_selection\\_split.py:1978: FutureWarning: The default value of cv will change from 3 to 5 in version 0.22. Specify it explicitly to silence this warning.\n  warnings.warn(CV_WARNING, FutureWarning)\n",
            "F:\\anaconda3.7\\lib\\site-packages\\sklearn\\linear_model\\logistic.py:947: ConvergenceWarning: lbfgs failed to converge. Increase the number of iterations.\n  \"of iterations.\", ConvergenceWarning)\nF:\\anaconda3.7\\lib\\site-packages\\sklearn\\linear_model\\logistic.py:947: ConvergenceWarning: lbfgs failed to converge. Increase the number of iterations.\n  \"of iterations.\", ConvergenceWarning)\n",
            "F:\\anaconda3.7\\lib\\site-packages\\sklearn\\linear_model\\logistic.py:947: ConvergenceWarning: lbfgs failed to converge. Increase the number of iterations.\n  \"of iterations.\", ConvergenceWarning)\nF:\\anaconda3.7\\lib\\site-packages\\sklearn\\linear_model\\logistic.py:947: ConvergenceWarning: lbfgs failed to converge. Increase the number of iterations.\n  \"of iterations.\", ConvergenceWarning)\n",
            "F:\\anaconda3.7\\lib\\site-packages\\sklearn\\linear_model\\logistic.py:947: ConvergenceWarning: lbfgs failed to converge. Increase the number of iterations.\n  \"of iterations.\", ConvergenceWarning)\nF:\\anaconda3.7\\lib\\site-packages\\sklearn\\linear_model\\logistic.py:947: ConvergenceWarning: lbfgs failed to converge. Increase the number of iterations.\n  \"of iterations.\", ConvergenceWarning)\n",
            "F:\\anaconda3.7\\lib\\site-packages\\sklearn\\linear_model\\logistic.py:947: ConvergenceWarning: lbfgs failed to converge. Increase the number of iterations.\n  \"of iterations.\", ConvergenceWarning)\nF:\\anaconda3.7\\lib\\site-packages\\sklearn\\linear_model\\logistic.py:947: ConvergenceWarning: lbfgs failed to converge. Increase the number of iterations.\n  \"of iterations.\", ConvergenceWarning)\n",
            "F:\\anaconda3.7\\lib\\site-packages\\sklearn\\linear_model\\logistic.py:947: ConvergenceWarning: lbfgs failed to converge. Increase the number of iterations.\n  \"of iterations.\", ConvergenceWarning)\nF:\\anaconda3.7\\lib\\site-packages\\sklearn\\linear_model\\logistic.py:947: ConvergenceWarning: lbfgs failed to converge. Increase the number of iterations.\n  \"of iterations.\", ConvergenceWarning)\n",
            "F:\\anaconda3.7\\lib\\site-packages\\sklearn\\linear_model\\logistic.py:947: ConvergenceWarning: lbfgs failed to converge. Increase the number of iterations.\n  \"of iterations.\", ConvergenceWarning)\nF:\\anaconda3.7\\lib\\site-packages\\sklearn\\linear_model\\logistic.py:947: ConvergenceWarning: lbfgs failed to converge. Increase the number of iterations.\n  \"of iterations.\", ConvergenceWarning)\n",
            "F:\\anaconda3.7\\lib\\site-packages\\sklearn\\linear_model\\logistic.py:947: ConvergenceWarning: lbfgs failed to converge. Increase the number of iterations.\n  \"of iterations.\", ConvergenceWarning)\nF:\\anaconda3.7\\lib\\site-packages\\sklearn\\linear_model\\logistic.py:947: ConvergenceWarning: lbfgs failed to converge. Increase the number of iterations.\n  \"of iterations.\", ConvergenceWarning)\n",
            "F:\\anaconda3.7\\lib\\site-packages\\sklearn\\linear_model\\logistic.py:947: ConvergenceWarning: lbfgs failed to converge. Increase the number of iterations.\n  \"of iterations.\", ConvergenceWarning)\nF:\\anaconda3.7\\lib\\site-packages\\sklearn\\linear_model\\logistic.py:947: ConvergenceWarning: lbfgs failed to converge. Increase the number of iterations.\n  \"of iterations.\", ConvergenceWarning)\n",
            "F:\\anaconda3.7\\lib\\site-packages\\sklearn\\linear_model\\logistic.py:947: ConvergenceWarning: lbfgs failed to converge. Increase the number of iterations.\n  \"of iterations.\", ConvergenceWarning)\nF:\\anaconda3.7\\lib\\site-packages\\sklearn\\linear_model\\logistic.py:947: ConvergenceWarning: lbfgs failed to converge. Increase the number of iterations.\n  \"of iterations.\", ConvergenceWarning)\n",
            "F:\\anaconda3.7\\lib\\site-packages\\sklearn\\linear_model\\logistic.py:947: ConvergenceWarning: lbfgs failed to converge. Increase the number of iterations.\n  \"of iterations.\", ConvergenceWarning)\n",
            "F:\\anaconda3.7\\lib\\site-packages\\sklearn\\linear_model\\logistic.py:947: ConvergenceWarning: lbfgs failed to converge. Increase the number of iterations.\n  \"of iterations.\", ConvergenceWarning)\nF:\\anaconda3.7\\lib\\site-packages\\sklearn\\linear_model\\logistic.py:947: ConvergenceWarning: lbfgs failed to converge. Increase the number of iterations.\n  \"of iterations.\", ConvergenceWarning)\n",
            "F:\\anaconda3.7\\lib\\site-packages\\sklearn\\linear_model\\logistic.py:947: ConvergenceWarning: lbfgs failed to converge. Increase the number of iterations.\n  \"of iterations.\", ConvergenceWarning)\n",
            "F:\\anaconda3.7\\lib\\site-packages\\sklearn\\linear_model\\logistic.py:947: ConvergenceWarning: lbfgs failed to converge. Increase the number of iterations.\n  \"of iterations.\", ConvergenceWarning)\nF:\\anaconda3.7\\lib\\site-packages\\sklearn\\linear_model\\logistic.py:947: ConvergenceWarning: lbfgs failed to converge. Increase the number of iterations.\n  \"of iterations.\", ConvergenceWarning)\n",
            "F:\\anaconda3.7\\lib\\site-packages\\sklearn\\linear_model\\logistic.py:947: ConvergenceWarning: lbfgs failed to converge. Increase the number of iterations.\n  \"of iterations.\", ConvergenceWarning)\n",
            "F:\\anaconda3.7\\lib\\site-packages\\sklearn\\svm\\base.py:193: FutureWarning: The default value of gamma will change from \u0027auto\u0027 to \u0027scale\u0027 in version 0.22 to account better for unscaled features. Set gamma explicitly to \u0027auto\u0027 or \u0027scale\u0027 to avoid this warning.\n  \"avoid this warning.\", FutureWarning)\n",
            "F:\\anaconda3.7\\lib\\site-packages\\sklearn\\svm\\base.py:193: FutureWarning: The default value of gamma will change from \u0027auto\u0027 to \u0027scale\u0027 in version 0.22 to account better for unscaled features. Set gamma explicitly to \u0027auto\u0027 or \u0027scale\u0027 to avoid this warning.\n  \"avoid this warning.\", FutureWarning)\n",
            "F:\\anaconda3.7\\lib\\site-packages\\sklearn\\svm\\base.py:193: FutureWarning: The default value of gamma will change from \u0027auto\u0027 to \u0027scale\u0027 in version 0.22 to account better for unscaled features. Set gamma explicitly to \u0027auto\u0027 or \u0027scale\u0027 to avoid this warning.\n  \"avoid this warning.\", FutureWarning)\n",
            "F:\\anaconda3.7\\lib\\site-packages\\sklearn\\svm\\base.py:193: FutureWarning: The default value of gamma will change from \u0027auto\u0027 to \u0027scale\u0027 in version 0.22 to account better for unscaled features. Set gamma explicitly to \u0027auto\u0027 or \u0027scale\u0027 to avoid this warning.\n  \"avoid this warning.\", FutureWarning)\n",
            "F:\\anaconda3.7\\lib\\site-packages\\sklearn\\svm\\base.py:193: FutureWarning: The default value of gamma will change from \u0027auto\u0027 to \u0027scale\u0027 in version 0.22 to account better for unscaled features. Set gamma explicitly to \u0027auto\u0027 or \u0027scale\u0027 to avoid this warning.\n  \"avoid this warning.\", FutureWarning)\n",
            "F:\\anaconda3.7\\lib\\site-packages\\sklearn\\svm\\base.py:193: FutureWarning: The default value of gamma will change from \u0027auto\u0027 to \u0027scale\u0027 in version 0.22 to account better for unscaled features. Set gamma explicitly to \u0027auto\u0027 or \u0027scale\u0027 to avoid this warning.\n  \"avoid this warning.\", FutureWarning)\n",
            "F:\\anaconda3.7\\lib\\site-packages\\sklearn\\svm\\base.py:193: FutureWarning: The default value of gamma will change from \u0027auto\u0027 to \u0027scale\u0027 in version 0.22 to account better for unscaled features. Set gamma explicitly to \u0027auto\u0027 or \u0027scale\u0027 to avoid this warning.\n  \"avoid this warning.\", FutureWarning)\n",
            "F:\\anaconda3.7\\lib\\site-packages\\sklearn\\svm\\base.py:193: FutureWarning: The default value of gamma will change from \u0027auto\u0027 to \u0027scale\u0027 in version 0.22 to account better for unscaled features. Set gamma explicitly to \u0027auto\u0027 or \u0027scale\u0027 to avoid this warning.\n  \"avoid this warning.\", FutureWarning)\n",
            "F:\\anaconda3.7\\lib\\site-packages\\sklearn\\svm\\base.py:193: FutureWarning: The default value of gamma will change from \u0027auto\u0027 to \u0027scale\u0027 in version 0.22 to account better for unscaled features. Set gamma explicitly to \u0027auto\u0027 or \u0027scale\u0027 to avoid this warning.\n  \"avoid this warning.\", FutureWarning)\n",
            "F:\\anaconda3.7\\lib\\site-packages\\sklearn\\svm\\base.py:193: FutureWarning: The default value of gamma will change from \u0027auto\u0027 to \u0027scale\u0027 in version 0.22 to account better for unscaled features. Set gamma explicitly to \u0027auto\u0027 or \u0027scale\u0027 to avoid this warning.\n  \"avoid this warning.\", FutureWarning)\n",
            "F:\\anaconda3.7\\lib\\site-packages\\sklearn\\svm\\base.py:193: FutureWarning: The default value of gamma will change from \u0027auto\u0027 to \u0027scale\u0027 in version 0.22 to account better for unscaled features. Set gamma explicitly to \u0027auto\u0027 or \u0027scale\u0027 to avoid this warning.\n  \"avoid this warning.\", FutureWarning)\n",
            "F:\\anaconda3.7\\lib\\site-packages\\sklearn\\svm\\base.py:193: FutureWarning: The default value of gamma will change from \u0027auto\u0027 to \u0027scale\u0027 in version 0.22 to account better for unscaled features. Set gamma explicitly to \u0027auto\u0027 or \u0027scale\u0027 to avoid this warning.\n  \"avoid this warning.\", FutureWarning)\n",
            "F:\\anaconda3.7\\lib\\site-packages\\sklearn\\svm\\base.py:193: FutureWarning: The default value of gamma will change from \u0027auto\u0027 to \u0027scale\u0027 in version 0.22 to account better for unscaled features. Set gamma explicitly to \u0027auto\u0027 or \u0027scale\u0027 to avoid this warning.\n  \"avoid this warning.\", FutureWarning)\n",
            "F:\\anaconda3.7\\lib\\site-packages\\sklearn\\svm\\base.py:193: FutureWarning: The default value of gamma will change from \u0027auto\u0027 to \u0027scale\u0027 in version 0.22 to account better for unscaled features. Set gamma explicitly to \u0027auto\u0027 or \u0027scale\u0027 to avoid this warning.\n  \"avoid this warning.\", FutureWarning)\n",
            "F:\\anaconda3.7\\lib\\site-packages\\sklearn\\svm\\base.py:193: FutureWarning: The default value of gamma will change from \u0027auto\u0027 to \u0027scale\u0027 in version 0.22 to account better for unscaled features. Set gamma explicitly to \u0027auto\u0027 or \u0027scale\u0027 to avoid this warning.\n  \"avoid this warning.\", FutureWarning)\n",
            "F:\\anaconda3.7\\lib\\site-packages\\sklearn\\svm\\base.py:193: FutureWarning: The default value of gamma will change from \u0027auto\u0027 to \u0027scale\u0027 in version 0.22 to account better for unscaled features. Set gamma explicitly to \u0027auto\u0027 or \u0027scale\u0027 to avoid this warning.\n  \"avoid this warning.\", FutureWarning)\n",
            "F:\\anaconda3.7\\lib\\site-packages\\sklearn\\svm\\base.py:193: FutureWarning: The default value of gamma will change from \u0027auto\u0027 to \u0027scale\u0027 in version 0.22 to account better for unscaled features. Set gamma explicitly to \u0027auto\u0027 or \u0027scale\u0027 to avoid this warning.\n  \"avoid this warning.\", FutureWarning)\n",
            "F:\\anaconda3.7\\lib\\site-packages\\sklearn\\svm\\base.py:193: FutureWarning: The default value of gamma will change from \u0027auto\u0027 to \u0027scale\u0027 in version 0.22 to account better for unscaled features. Set gamma explicitly to \u0027auto\u0027 or \u0027scale\u0027 to avoid this warning.\n  \"avoid this warning.\", FutureWarning)\n",
            "F:\\anaconda3.7\\lib\\site-packages\\sklearn\\svm\\base.py:193: FutureWarning: The default value of gamma will change from \u0027auto\u0027 to \u0027scale\u0027 in version 0.22 to account better for unscaled features. Set gamma explicitly to \u0027auto\u0027 or \u0027scale\u0027 to avoid this warning.\n  \"avoid this warning.\", FutureWarning)\n",
            "F:\\anaconda3.7\\lib\\site-packages\\sklearn\\svm\\base.py:193: FutureWarning: The default value of gamma will change from \u0027auto\u0027 to \u0027scale\u0027 in version 0.22 to account better for unscaled features. Set gamma explicitly to \u0027auto\u0027 or \u0027scale\u0027 to avoid this warning.\n  \"avoid this warning.\", FutureWarning)\n",
            "F:\\anaconda3.7\\lib\\site-packages\\sklearn\\svm\\base.py:193: FutureWarning: The default value of gamma will change from \u0027auto\u0027 to \u0027scale\u0027 in version 0.22 to account better for unscaled features. Set gamma explicitly to \u0027auto\u0027 or \u0027scale\u0027 to avoid this warning.\n  \"avoid this warning.\", FutureWarning)\n",
            "F:\\anaconda3.7\\lib\\site-packages\\sklearn\\svm\\base.py:193: FutureWarning: The default value of gamma will change from \u0027auto\u0027 to \u0027scale\u0027 in version 0.22 to account better for unscaled features. Set gamma explicitly to \u0027auto\u0027 or \u0027scale\u0027 to avoid this warning.\n  \"avoid this warning.\", FutureWarning)\n",
            "F:\\anaconda3.7\\lib\\site-packages\\sklearn\\svm\\base.py:929: ConvergenceWarning: Liblinear failed to converge, increase the number of iterations.\n  \"the number of iterations.\", ConvergenceWarning)\nF:\\anaconda3.7\\lib\\site-packages\\sklearn\\svm\\base.py:929: ConvergenceWarning: Liblinear failed to converge, increase the number of iterations.\n  \"the number of iterations.\", ConvergenceWarning)\nF:\\anaconda3.7\\lib\\site-packages\\sklearn\\svm\\base.py:929: ConvergenceWarning: Liblinear failed to converge, increase the number of iterations.\n  \"the number of iterations.\", ConvergenceWarning)\n",
            "F:\\anaconda3.7\\lib\\site-packages\\sklearn\\svm\\base.py:929: ConvergenceWarning: Liblinear failed to converge, increase the number of iterations.\n  \"the number of iterations.\", ConvergenceWarning)\nF:\\anaconda3.7\\lib\\site-packages\\sklearn\\svm\\base.py:929: ConvergenceWarning: Liblinear failed to converge, increase the number of iterations.\n  \"the number of iterations.\", ConvergenceWarning)\nF:\\anaconda3.7\\lib\\site-packages\\sklearn\\svm\\base.py:929: ConvergenceWarning: Liblinear failed to converge, increase the number of iterations.\n  \"the number of iterations.\", ConvergenceWarning)\n",
            "F:\\anaconda3.7\\lib\\site-packages\\sklearn\\svm\\base.py:929: ConvergenceWarning: Liblinear failed to converge, increase the number of iterations.\n  \"the number of iterations.\", ConvergenceWarning)\n",
            "F:\\anaconda3.7\\lib\\site-packages\\sklearn\\svm\\base.py:929: ConvergenceWarning: Liblinear failed to converge, increase the number of iterations.\n  \"the number of iterations.\", ConvergenceWarning)\nF:\\anaconda3.7\\lib\\site-packages\\sklearn\\svm\\base.py:929: ConvergenceWarning: Liblinear failed to converge, increase the number of iterations.\n  \"the number of iterations.\", ConvergenceWarning)\n",
            "F:\\anaconda3.7\\lib\\site-packages\\sklearn\\svm\\base.py:929: ConvergenceWarning: Liblinear failed to converge, increase the number of iterations.\n  \"the number of iterations.\", ConvergenceWarning)\n",
            "F:\\anaconda3.7\\lib\\site-packages\\sklearn\\svm\\base.py:929: ConvergenceWarning: Liblinear failed to converge, increase the number of iterations.\n  \"the number of iterations.\", ConvergenceWarning)\n",
            "F:\\anaconda3.7\\lib\\site-packages\\sklearn\\discriminant_analysis.py:388: UserWarning: Variables are collinear.\n  warnings.warn(\"Variables are collinear.\")\nF:\\anaconda3.7\\lib\\site-packages\\sklearn\\discriminant_analysis.py:388: UserWarning: Variables are collinear.\n  warnings.warn(\"Variables are collinear.\")\n",
            "F:\\anaconda3.7\\lib\\site-packages\\sklearn\\discriminant_analysis.py:388: UserWarning: Variables are collinear.\n  warnings.warn(\"Variables are collinear.\")\nF:\\anaconda3.7\\lib\\site-packages\\sklearn\\discriminant_analysis.py:388: UserWarning: Variables are collinear.\n  warnings.warn(\"Variables are collinear.\")\nF:\\anaconda3.7\\lib\\site-packages\\sklearn\\discriminant_analysis.py:388: UserWarning: Variables are collinear.\n  warnings.warn(\"Variables are collinear.\")\n",
            "F:\\anaconda3.7\\lib\\site-packages\\sklearn\\discriminant_analysis.py:388: UserWarning: Variables are collinear.\n  warnings.warn(\"Variables are collinear.\")\nF:\\anaconda3.7\\lib\\site-packages\\sklearn\\discriminant_analysis.py:388: UserWarning: Variables are collinear.\n  warnings.warn(\"Variables are collinear.\")\n",
            "F:\\anaconda3.7\\lib\\site-packages\\sklearn\\discriminant_analysis.py:388: UserWarning: Variables are collinear.\n  warnings.warn(\"Variables are collinear.\")\nF:\\anaconda3.7\\lib\\site-packages\\sklearn\\discriminant_analysis.py:388: UserWarning: Variables are collinear.\n  warnings.warn(\"Variables are collinear.\")\n",
            "F:\\anaconda3.7\\lib\\site-packages\\sklearn\\discriminant_analysis.py:388: UserWarning: Variables are collinear.\n  warnings.warn(\"Variables are collinear.\")\n",
            "F:\\anaconda3.7\\lib\\site-packages\\sklearn\\discriminant_analysis.py:388: UserWarning: Variables are collinear.\n  warnings.warn(\"Variables are collinear.\")\nF:\\anaconda3.7\\lib\\site-packages\\sklearn\\discriminant_analysis.py:693: UserWarning: Variables are collinear\n  warnings.warn(\"Variables are collinear\")\nF:\\anaconda3.7\\lib\\site-packages\\sklearn\\discriminant_analysis.py:693: UserWarning: Variables are collinear\n  warnings.warn(\"Variables are collinear\")\nF:\\anaconda3.7\\lib\\site-packages\\sklearn\\discriminant_analysis.py:693: UserWarning: Variables are collinear\n  warnings.warn(\"Variables are collinear\")\nF:\\anaconda3.7\\lib\\site-packages\\sklearn\\discriminant_analysis.py:693: UserWarning: Variables are collinear\n  warnings.warn(\"Variables are collinear\")\n",
            "F:\\anaconda3.7\\lib\\site-packages\\sklearn\\discriminant_analysis.py:693: UserWarning: Variables are collinear\n  warnings.warn(\"Variables are collinear\")\nF:\\anaconda3.7\\lib\\site-packages\\sklearn\\discriminant_analysis.py:693: UserWarning: Variables are collinear\n  warnings.warn(\"Variables are collinear\")\n",
            "F:\\anaconda3.7\\lib\\site-packages\\sklearn\\discriminant_analysis.py:693: UserWarning: Variables are collinear\n  warnings.warn(\"Variables are collinear\")\nF:\\anaconda3.7\\lib\\site-packages\\sklearn\\discriminant_analysis.py:693: UserWarning: Variables are collinear\n  warnings.warn(\"Variables are collinear\")\nF:\\anaconda3.7\\lib\\site-packages\\sklearn\\discriminant_analysis.py:693: UserWarning: Variables are collinear\n  warnings.warn(\"Variables are collinear\")\nF:\\anaconda3.7\\lib\\site-packages\\sklearn\\discriminant_analysis.py:693: UserWarning: Variables are collinear\n  warnings.warn(\"Variables are collinear\")\n",
            "F:\\anaconda3.7\\lib\\site-packages\\sklearn\\discriminant_analysis.py:693: UserWarning: Variables are collinear\n  warnings.warn(\"Variables are collinear\")\nF:\\anaconda3.7\\lib\\site-packages\\sklearn\\discriminant_analysis.py:693: UserWarning: Variables are collinear\n  warnings.warn(\"Variables are collinear\")\nF:\\anaconda3.7\\lib\\site-packages\\sklearn\\discriminant_analysis.py:693: UserWarning: Variables are collinear\n  warnings.warn(\"Variables are collinear\")\nF:\\anaconda3.7\\lib\\site-packages\\sklearn\\discriminant_analysis.py:693: UserWarning: Variables are collinear\n  warnings.warn(\"Variables are collinear\")\nF:\\anaconda3.7\\lib\\site-packages\\sklearn\\discriminant_analysis.py:693: UserWarning: Variables are collinear\n  warnings.warn(\"Variables are collinear\")\n",
            "F:\\anaconda3.7\\lib\\site-packages\\sklearn\\discriminant_analysis.py:693: UserWarning: Variables are collinear\n  warnings.warn(\"Variables are collinear\")\nF:\\anaconda3.7\\lib\\site-packages\\sklearn\\discriminant_analysis.py:693: UserWarning: Variables are collinear\n  warnings.warn(\"Variables are collinear\")\nF:\\anaconda3.7\\lib\\site-packages\\sklearn\\discriminant_analysis.py:693: UserWarning: Variables are collinear\n  warnings.warn(\"Variables are collinear\")\n",
            "F:\\anaconda3.7\\lib\\site-packages\\sklearn\\discriminant_analysis.py:693: UserWarning: Variables are collinear\n  warnings.warn(\"Variables are collinear\")\nF:\\anaconda3.7\\lib\\site-packages\\sklearn\\discriminant_analysis.py:693: UserWarning: Variables are collinear\n  warnings.warn(\"Variables are collinear\")\nF:\\anaconda3.7\\lib\\site-packages\\sklearn\\discriminant_analysis.py:693: UserWarning: Variables are collinear\n  warnings.warn(\"Variables are collinear\")\n",
            "F:\\anaconda3.7\\lib\\site-packages\\sklearn\\discriminant_analysis.py:693: UserWarning: Variables are collinear\n  warnings.warn(\"Variables are collinear\")\n",
            "F:\\anaconda3.7\\lib\\site-packages\\sklearn\\model_selection\\_validation.py:528: FutureWarning: From version 0.22, errors during fit will result in a cross validation score of NaN by default. Use error_score\u003d\u0027raise\u0027 if you want an exception raised or error_score\u003dnp.nan to adopt the behavior from version 0.22.\n  FutureWarning)\n"
          ],
          "output_type": "stream"
        },
        {
          "traceback": [
            "\u001b[1;31m---------------------------------------------------------------------------\u001b[0m",
            "\u001b[1;31mValueError\u001b[0m                                Traceback (most recent call last)",
            "\u001b[1;32m\u003cipython-input-117-4cf850ebdfff\u003e\u001b[0m in \u001b[0;36m\u003cmodule\u003e\u001b[1;34m\u001b[0m\n\u001b[0;32m     22\u001b[0m \u001b[1;33m\u001b[0m\u001b[0m\n\u001b[0;32m     23\u001b[0m     \u001b[1;31m#score model with cross validation: http://scikit-learn.org/stable/modules/generated/sklearn.model_selection.cross_validate.html#sklearn.model_selection.cross_validate\u001b[0m\u001b[1;33m\u001b[0m\u001b[1;33m\u001b[0m\u001b[1;33m\u001b[0m\u001b[0m\n\u001b[1;32m---\u003e 24\u001b[1;33m     \u001b[0mcv_results\u001b[0m \u001b[1;33m\u003d\u001b[0m \u001b[0mmodel_selection\u001b[0m\u001b[1;33m.\u001b[0m\u001b[0mcross_validate\u001b[0m\u001b[1;33m(\u001b[0m\u001b[0malg\u001b[0m\u001b[1;33m,\u001b[0m \u001b[0mtrain_data_X\u001b[0m\u001b[1;33m,\u001b[0m\u001b[0mtrain_data_Y\u001b[0m\u001b[1;33m,\u001b[0m \u001b[0mcv\u001b[0m  \u001b[1;33m\u003d\u001b[0m \u001b[0mcv_split\u001b[0m\u001b[1;33m)\u001b[0m\u001b[1;33m\u001b[0m\u001b[1;33m\u001b[0m\u001b[0m\n\u001b[0m\u001b[0;32m     25\u001b[0m \u001b[1;33m\u001b[0m\u001b[0m\n\u001b[0;32m     26\u001b[0m     \u001b[0mMLA_compare\u001b[0m\u001b[1;33m.\u001b[0m\u001b[0mloc\u001b[0m\u001b[1;33m[\u001b[0m\u001b[0mrow_index\u001b[0m\u001b[1;33m,\u001b[0m \u001b[1;34m\u0027MLA Time\u0027\u001b[0m\u001b[1;33m]\u001b[0m \u001b[1;33m\u003d\u001b[0m \u001b[0mcv_results\u001b[0m\u001b[1;33m[\u001b[0m\u001b[1;34m\u0027fit_time\u0027\u001b[0m\u001b[1;33m]\u001b[0m\u001b[1;33m.\u001b[0m\u001b[0mmean\u001b[0m\u001b[1;33m(\u001b[0m\u001b[1;33m)\u001b[0m\u001b[1;33m\u001b[0m\u001b[1;33m\u001b[0m\u001b[0m\n",
            "\u001b[1;32mF:\\anaconda3.7\\lib\\site-packages\\sklearn\\model_selection\\_validation.py\u001b[0m in \u001b[0;36mcross_validate\u001b[1;34m(estimator, X, y, groups, scoring, cv, n_jobs, verbose, fit_params, pre_dispatch, return_train_score, return_estimator, error_score)\u001b[0m\n\u001b[0;32m    229\u001b[0m             \u001b[0mreturn_times\u001b[0m\u001b[1;33m\u003d\u001b[0m\u001b[1;32mTrue\u001b[0m\u001b[1;33m,\u001b[0m \u001b[0mreturn_estimator\u001b[0m\u001b[1;33m\u003d\u001b[0m\u001b[0mreturn_estimator\u001b[0m\u001b[1;33m,\u001b[0m\u001b[1;33m\u001b[0m\u001b[1;33m\u001b[0m\u001b[0m\n\u001b[0;32m    230\u001b[0m             error_score\u003derror_score)\n\u001b[1;32m--\u003e 231\u001b[1;33m         for train, test in cv.split(X, y, groups))\n\u001b[0m\u001b[0;32m    232\u001b[0m \u001b[1;33m\u001b[0m\u001b[0m\n\u001b[0;32m    233\u001b[0m     \u001b[0mzipped_scores\u001b[0m \u001b[1;33m\u003d\u001b[0m \u001b[0mlist\u001b[0m\u001b[1;33m(\u001b[0m\u001b[0mzip\u001b[0m\u001b[1;33m(\u001b[0m\u001b[1;33m*\u001b[0m\u001b[0mscores\u001b[0m\u001b[1;33m)\u001b[0m\u001b[1;33m)\u001b[0m\u001b[1;33m\u001b[0m\u001b[1;33m\u001b[0m\u001b[0m\n",
            "\u001b[1;32mF:\\anaconda3.7\\lib\\site-packages\\joblib\\parallel.py\u001b[0m in \u001b[0;36m__call__\u001b[1;34m(self, iterable)\u001b[0m\n\u001b[0;32m    919\u001b[0m             \u001b[1;31m# remaining jobs.\u001b[0m\u001b[1;33m\u001b[0m\u001b[1;33m\u001b[0m\u001b[1;33m\u001b[0m\u001b[0m\n\u001b[0;32m    920\u001b[0m             \u001b[0mself\u001b[0m\u001b[1;33m.\u001b[0m\u001b[0m_iterating\u001b[0m \u001b[1;33m\u003d\u001b[0m \u001b[1;32mFalse\u001b[0m\u001b[1;33m\u001b[0m\u001b[1;33m\u001b[0m\u001b[0m\n\u001b[1;32m--\u003e 921\u001b[1;33m             \u001b[1;32mif\u001b[0m \u001b[0mself\u001b[0m\u001b[1;33m.\u001b[0m\u001b[0mdispatch_one_batch\u001b[0m\u001b[1;33m(\u001b[0m\u001b[0miterator\u001b[0m\u001b[1;33m)\u001b[0m\u001b[1;33m:\u001b[0m\u001b[1;33m\u001b[0m\u001b[1;33m\u001b[0m\u001b[0m\n\u001b[0m\u001b[0;32m    922\u001b[0m                 \u001b[0mself\u001b[0m\u001b[1;33m.\u001b[0m\u001b[0m_iterating\u001b[0m \u001b[1;33m\u003d\u001b[0m \u001b[0mself\u001b[0m\u001b[1;33m.\u001b[0m\u001b[0m_original_iterator\u001b[0m \u001b[1;32mis\u001b[0m \u001b[1;32mnot\u001b[0m \u001b[1;32mNone\u001b[0m\u001b[1;33m\u001b[0m\u001b[1;33m\u001b[0m\u001b[0m\n\u001b[0;32m    923\u001b[0m \u001b[1;33m\u001b[0m\u001b[0m\n",
            "\u001b[1;32mF:\\anaconda3.7\\lib\\site-packages\\joblib\\parallel.py\u001b[0m in \u001b[0;36mdispatch_one_batch\u001b[1;34m(self, iterator)\u001b[0m\n\u001b[0;32m    757\u001b[0m                 \u001b[1;32mreturn\u001b[0m \u001b[1;32mFalse\u001b[0m\u001b[1;33m\u001b[0m\u001b[1;33m\u001b[0m\u001b[0m\n\u001b[0;32m    758\u001b[0m             \u001b[1;32melse\u001b[0m\u001b[1;33m:\u001b[0m\u001b[1;33m\u001b[0m\u001b[1;33m\u001b[0m\u001b[0m\n\u001b[1;32m--\u003e 759\u001b[1;33m                 \u001b[0mself\u001b[0m\u001b[1;33m.\u001b[0m\u001b[0m_dispatch\u001b[0m\u001b[1;33m(\u001b[0m\u001b[0mtasks\u001b[0m\u001b[1;33m)\u001b[0m\u001b[1;33m\u001b[0m\u001b[1;33m\u001b[0m\u001b[0m\n\u001b[0m\u001b[0;32m    760\u001b[0m                 \u001b[1;32mreturn\u001b[0m \u001b[1;32mTrue\u001b[0m\u001b[1;33m\u001b[0m\u001b[1;33m\u001b[0m\u001b[0m\n\u001b[0;32m    761\u001b[0m \u001b[1;33m\u001b[0m\u001b[0m\n",
            "\u001b[1;32mF:\\anaconda3.7\\lib\\site-packages\\joblib\\parallel.py\u001b[0m in \u001b[0;36m_dispatch\u001b[1;34m(self, batch)\u001b[0m\n\u001b[0;32m    714\u001b[0m         \u001b[1;32mwith\u001b[0m \u001b[0mself\u001b[0m\u001b[1;33m.\u001b[0m\u001b[0m_lock\u001b[0m\u001b[1;33m:\u001b[0m\u001b[1;33m\u001b[0m\u001b[1;33m\u001b[0m\u001b[0m\n\u001b[0;32m    715\u001b[0m             \u001b[0mjob_idx\u001b[0m \u001b[1;33m\u003d\u001b[0m \u001b[0mlen\u001b[0m\u001b[1;33m(\u001b[0m\u001b[0mself\u001b[0m\u001b[1;33m.\u001b[0m\u001b[0m_jobs\u001b[0m\u001b[1;33m)\u001b[0m\u001b[1;33m\u001b[0m\u001b[1;33m\u001b[0m\u001b[0m\n\u001b[1;32m--\u003e 716\u001b[1;33m             \u001b[0mjob\u001b[0m \u001b[1;33m\u003d\u001b[0m \u001b[0mself\u001b[0m\u001b[1;33m.\u001b[0m\u001b[0m_backend\u001b[0m\u001b[1;33m.\u001b[0m\u001b[0mapply_async\u001b[0m\u001b[1;33m(\u001b[0m\u001b[0mbatch\u001b[0m\u001b[1;33m,\u001b[0m \u001b[0mcallback\u001b[0m\u001b[1;33m\u003d\u001b[0m\u001b[0mcb\u001b[0m\u001b[1;33m)\u001b[0m\u001b[1;33m\u001b[0m\u001b[1;33m\u001b[0m\u001b[0m\n\u001b[0m\u001b[0;32m    717\u001b[0m             \u001b[1;31m# A job can complete so quickly than its callback is\u001b[0m\u001b[1;33m\u001b[0m\u001b[1;33m\u001b[0m\u001b[1;33m\u001b[0m\u001b[0m\n\u001b[0;32m    718\u001b[0m             \u001b[1;31m# called before we get here, causing self._jobs to\u001b[0m\u001b[1;33m\u001b[0m\u001b[1;33m\u001b[0m\u001b[1;33m\u001b[0m\u001b[0m\n",
            "\u001b[1;32mF:\\anaconda3.7\\lib\\site-packages\\joblib\\_parallel_backends.py\u001b[0m in \u001b[0;36mapply_async\u001b[1;34m(self, func, callback)\u001b[0m\n\u001b[0;32m    180\u001b[0m     \u001b[1;32mdef\u001b[0m \u001b[0mapply_async\u001b[0m\u001b[1;33m(\u001b[0m\u001b[0mself\u001b[0m\u001b[1;33m,\u001b[0m \u001b[0mfunc\u001b[0m\u001b[1;33m,\u001b[0m \u001b[0mcallback\u001b[0m\u001b[1;33m\u003d\u001b[0m\u001b[1;32mNone\u001b[0m\u001b[1;33m)\u001b[0m\u001b[1;33m:\u001b[0m\u001b[1;33m\u001b[0m\u001b[1;33m\u001b[0m\u001b[0m\n\u001b[0;32m    181\u001b[0m         \u001b[1;34m\"\"\"Schedule a func to be run\"\"\"\u001b[0m\u001b[1;33m\u001b[0m\u001b[1;33m\u001b[0m\u001b[0m\n\u001b[1;32m--\u003e 182\u001b[1;33m         \u001b[0mresult\u001b[0m \u001b[1;33m\u003d\u001b[0m \u001b[0mImmediateResult\u001b[0m\u001b[1;33m(\u001b[0m\u001b[0mfunc\u001b[0m\u001b[1;33m)\u001b[0m\u001b[1;33m\u001b[0m\u001b[1;33m\u001b[0m\u001b[0m\n\u001b[0m\u001b[0;32m    183\u001b[0m         \u001b[1;32mif\u001b[0m \u001b[0mcallback\u001b[0m\u001b[1;33m:\u001b[0m\u001b[1;33m\u001b[0m\u001b[1;33m\u001b[0m\u001b[0m\n\u001b[0;32m    184\u001b[0m             \u001b[0mcallback\u001b[0m\u001b[1;33m(\u001b[0m\u001b[0mresult\u001b[0m\u001b[1;33m)\u001b[0m\u001b[1;33m\u001b[0m\u001b[1;33m\u001b[0m\u001b[0m\n",
            "\u001b[1;32mF:\\anaconda3.7\\lib\\site-packages\\joblib\\_parallel_backends.py\u001b[0m in \u001b[0;36m__init__\u001b[1;34m(self, batch)\u001b[0m\n\u001b[0;32m    547\u001b[0m         \u001b[1;31m# Don\u0027t delay the application, to avoid keeping the input\u001b[0m\u001b[1;33m\u001b[0m\u001b[1;33m\u001b[0m\u001b[1;33m\u001b[0m\u001b[0m\n\u001b[0;32m    548\u001b[0m         \u001b[1;31m# arguments in memory\u001b[0m\u001b[1;33m\u001b[0m\u001b[1;33m\u001b[0m\u001b[1;33m\u001b[0m\u001b[0m\n\u001b[1;32m--\u003e 549\u001b[1;33m         \u001b[0mself\u001b[0m\u001b[1;33m.\u001b[0m\u001b[0mresults\u001b[0m \u001b[1;33m\u003d\u001b[0m \u001b[0mbatch\u001b[0m\u001b[1;33m(\u001b[0m\u001b[1;33m)\u001b[0m\u001b[1;33m\u001b[0m\u001b[1;33m\u001b[0m\u001b[0m\n\u001b[0m\u001b[0;32m    550\u001b[0m \u001b[1;33m\u001b[0m\u001b[0m\n\u001b[0;32m    551\u001b[0m     \u001b[1;32mdef\u001b[0m \u001b[0mget\u001b[0m\u001b[1;33m(\u001b[0m\u001b[0mself\u001b[0m\u001b[1;33m)\u001b[0m\u001b[1;33m:\u001b[0m\u001b[1;33m\u001b[0m\u001b[1;33m\u001b[0m\u001b[0m\n",
            "\u001b[1;32mF:\\anaconda3.7\\lib\\site-packages\\joblib\\parallel.py\u001b[0m in \u001b[0;36m__call__\u001b[1;34m(self)\u001b[0m\n\u001b[0;32m    223\u001b[0m         \u001b[1;32mwith\u001b[0m \u001b[0mparallel_backend\u001b[0m\u001b[1;33m(\u001b[0m\u001b[0mself\u001b[0m\u001b[1;33m.\u001b[0m\u001b[0m_backend\u001b[0m\u001b[1;33m,\u001b[0m \u001b[0mn_jobs\u001b[0m\u001b[1;33m\u003d\u001b[0m\u001b[0mself\u001b[0m\u001b[1;33m.\u001b[0m\u001b[0m_n_jobs\u001b[0m\u001b[1;33m)\u001b[0m\u001b[1;33m:\u001b[0m\u001b[1;33m\u001b[0m\u001b[1;33m\u001b[0m\u001b[0m\n\u001b[0;32m    224\u001b[0m             return [func(*args, **kwargs)\n\u001b[1;32m--\u003e 225\u001b[1;33m                     for func, args, kwargs in self.items]\n\u001b[0m\u001b[0;32m    226\u001b[0m \u001b[1;33m\u001b[0m\u001b[0m\n\u001b[0;32m    227\u001b[0m     \u001b[1;32mdef\u001b[0m \u001b[0m__len__\u001b[0m\u001b[1;33m(\u001b[0m\u001b[0mself\u001b[0m\u001b[1;33m)\u001b[0m\u001b[1;33m:\u001b[0m\u001b[1;33m\u001b[0m\u001b[1;33m\u001b[0m\u001b[0m\n",
            "\u001b[1;32mF:\\anaconda3.7\\lib\\site-packages\\joblib\\parallel.py\u001b[0m in \u001b[0;36m\u003clistcomp\u003e\u001b[1;34m(.0)\u001b[0m\n\u001b[0;32m    223\u001b[0m         \u001b[1;32mwith\u001b[0m \u001b[0mparallel_backend\u001b[0m\u001b[1;33m(\u001b[0m\u001b[0mself\u001b[0m\u001b[1;33m.\u001b[0m\u001b[0m_backend\u001b[0m\u001b[1;33m,\u001b[0m \u001b[0mn_jobs\u001b[0m\u001b[1;33m\u003d\u001b[0m\u001b[0mself\u001b[0m\u001b[1;33m.\u001b[0m\u001b[0m_n_jobs\u001b[0m\u001b[1;33m)\u001b[0m\u001b[1;33m:\u001b[0m\u001b[1;33m\u001b[0m\u001b[1;33m\u001b[0m\u001b[0m\n\u001b[0;32m    224\u001b[0m             return [func(*args, **kwargs)\n\u001b[1;32m--\u003e 225\u001b[1;33m                     for func, args, kwargs in self.items]\n\u001b[0m\u001b[0;32m    226\u001b[0m \u001b[1;33m\u001b[0m\u001b[0m\n\u001b[0;32m    227\u001b[0m     \u001b[1;32mdef\u001b[0m \u001b[0m__len__\u001b[0m\u001b[1;33m(\u001b[0m\u001b[0mself\u001b[0m\u001b[1;33m)\u001b[0m\u001b[1;33m:\u001b[0m\u001b[1;33m\u001b[0m\u001b[1;33m\u001b[0m\u001b[0m\n",
            "\u001b[1;32mF:\\anaconda3.7\\lib\\site-packages\\sklearn\\model_selection\\_validation.py\u001b[0m in \u001b[0;36m_fit_and_score\u001b[1;34m(estimator, X, y, scorer, train, test, verbose, parameters, fit_params, return_train_score, return_parameters, return_n_test_samples, return_times, return_estimator, error_score)\u001b[0m\n\u001b[0;32m    512\u001b[0m             \u001b[0mestimator\u001b[0m\u001b[1;33m.\u001b[0m\u001b[0mfit\u001b[0m\u001b[1;33m(\u001b[0m\u001b[0mX_train\u001b[0m\u001b[1;33m,\u001b[0m \u001b[1;33m**\u001b[0m\u001b[0mfit_params\u001b[0m\u001b[1;33m)\u001b[0m\u001b[1;33m\u001b[0m\u001b[1;33m\u001b[0m\u001b[0m\n\u001b[0;32m    513\u001b[0m         \u001b[1;32melse\u001b[0m\u001b[1;33m:\u001b[0m\u001b[1;33m\u001b[0m\u001b[1;33m\u001b[0m\u001b[0m\n\u001b[1;32m--\u003e 514\u001b[1;33m             \u001b[0mestimator\u001b[0m\u001b[1;33m.\u001b[0m\u001b[0mfit\u001b[0m\u001b[1;33m(\u001b[0m\u001b[0mX_train\u001b[0m\u001b[1;33m,\u001b[0m \u001b[0my_train\u001b[0m\u001b[1;33m,\u001b[0m \u001b[1;33m**\u001b[0m\u001b[0mfit_params\u001b[0m\u001b[1;33m)\u001b[0m\u001b[1;33m\u001b[0m\u001b[1;33m\u001b[0m\u001b[0m\n\u001b[0m\u001b[0;32m    515\u001b[0m \u001b[1;33m\u001b[0m\u001b[0m\n\u001b[0;32m    516\u001b[0m     \u001b[1;32mexcept\u001b[0m \u001b[0mException\u001b[0m \u001b[1;32mas\u001b[0m \u001b[0me\u001b[0m\u001b[1;33m:\u001b[0m\u001b[1;33m\u001b[0m\u001b[1;33m\u001b[0m\u001b[0m\n",
            "\u001b[1;32mF:\\anaconda3.7\\lib\\site-packages\\xgboost\\sklearn.py\u001b[0m in \u001b[0;36mfit\u001b[1;34m(self, X, y, sample_weight, eval_set, eval_metric, early_stopping_rounds, verbose, xgb_model, sample_weight_eval_set, callbacks)\u001b[0m\n\u001b[0;32m    724\u001b[0m         \u001b[1;32melse\u001b[0m\u001b[1;33m:\u001b[0m\u001b[1;33m\u001b[0m\u001b[1;33m\u001b[0m\u001b[0m\n\u001b[0;32m    725\u001b[0m             train_dmatrix \u003d DMatrix(X, label\u003dtraining_labels,\n\u001b[1;32m--\u003e 726\u001b[1;33m                                     missing\u003dself.missing, nthread\u003dself.n_jobs)\n\u001b[0m\u001b[0;32m    727\u001b[0m \u001b[1;33m\u001b[0m\u001b[0m\n\u001b[0;32m    728\u001b[0m         self._Booster \u003d train(xgb_options, train_dmatrix, self.get_num_boosting_rounds(),\n",
            "\u001b[1;32mF:\\anaconda3.7\\lib\\site-packages\\xgboost\\core.py\u001b[0m in \u001b[0;36m__init__\u001b[1;34m(self, data, label, missing, weight, silent, feature_names, feature_types, nthread)\u001b[0m\n\u001b[0;32m    424\u001b[0m                 \u001b[0mself\u001b[0m\u001b[1;33m.\u001b[0m\u001b[0mset_weight\u001b[0m\u001b[1;33m(\u001b[0m\u001b[0mweight\u001b[0m\u001b[1;33m)\u001b[0m\u001b[1;33m\u001b[0m\u001b[1;33m\u001b[0m\u001b[0m\n\u001b[0;32m    425\u001b[0m \u001b[1;33m\u001b[0m\u001b[0m\n\u001b[1;32m--\u003e 426\u001b[1;33m         \u001b[0mself\u001b[0m\u001b[1;33m.\u001b[0m\u001b[0mfeature_names\u001b[0m \u001b[1;33m\u003d\u001b[0m \u001b[0mfeature_names\u001b[0m\u001b[1;33m\u001b[0m\u001b[1;33m\u001b[0m\u001b[0m\n\u001b[0m\u001b[0;32m    427\u001b[0m         \u001b[0mself\u001b[0m\u001b[1;33m.\u001b[0m\u001b[0mfeature_types\u001b[0m \u001b[1;33m\u003d\u001b[0m \u001b[0mfeature_types\u001b[0m\u001b[1;33m\u001b[0m\u001b[1;33m\u001b[0m\u001b[0m\n\u001b[0;32m    428\u001b[0m \u001b[1;33m\u001b[0m\u001b[0m\n",
            "\u001b[1;32mF:\\anaconda3.7\\lib\\site-packages\\xgboost\\core.py\u001b[0m in \u001b[0;36mfeature_names\u001b[1;34m(self, feature_names)\u001b[0m\n\u001b[0;32m    860\u001b[0m \u001b[1;33m\u001b[0m\u001b[0m\n\u001b[0;32m    861\u001b[0m             \u001b[1;32mif\u001b[0m \u001b[0mlen\u001b[0m\u001b[1;33m(\u001b[0m\u001b[0mfeature_names\u001b[0m\u001b[1;33m)\u001b[0m \u001b[1;33m!\u003d\u001b[0m \u001b[0mlen\u001b[0m\u001b[1;33m(\u001b[0m\u001b[0mset\u001b[0m\u001b[1;33m(\u001b[0m\u001b[0mfeature_names\u001b[0m\u001b[1;33m)\u001b[0m\u001b[1;33m)\u001b[0m\u001b[1;33m:\u001b[0m\u001b[1;33m\u001b[0m\u001b[1;33m\u001b[0m\u001b[0m\n\u001b[1;32m--\u003e 862\u001b[1;33m                 \u001b[1;32mraise\u001b[0m \u001b[0mValueError\u001b[0m\u001b[1;33m(\u001b[0m\u001b[1;34m\u0027feature_names must be unique\u0027\u001b[0m\u001b[1;33m)\u001b[0m\u001b[1;33m\u001b[0m\u001b[1;33m\u001b[0m\u001b[0m\n\u001b[0m\u001b[0;32m    863\u001b[0m             \u001b[1;32mif\u001b[0m \u001b[0mlen\u001b[0m\u001b[1;33m(\u001b[0m\u001b[0mfeature_names\u001b[0m\u001b[1;33m)\u001b[0m \u001b[1;33m!\u003d\u001b[0m \u001b[0mself\u001b[0m\u001b[1;33m.\u001b[0m\u001b[0mnum_col\u001b[0m\u001b[1;33m(\u001b[0m\u001b[1;33m)\u001b[0m\u001b[1;33m:\u001b[0m\u001b[1;33m\u001b[0m\u001b[1;33m\u001b[0m\u001b[0m\n\u001b[0;32m    864\u001b[0m                 \u001b[0mmsg\u001b[0m \u001b[1;33m\u003d\u001b[0m \u001b[1;34m\u0027feature_names must have the same length as data\u0027\u001b[0m\u001b[1;33m\u001b[0m\u001b[1;33m\u001b[0m\u001b[0m\n",
            "\u001b[1;31mValueError\u001b[0m: feature_names must be unique"
          ],
          "ename": "ValueError",
          "evalue": "feature_names must be unique",
          "output_type": "error"
        }
      ],
      "source": "from sklearn.preprocessing import OneHotEncoder, LabelEncoder\nfrom sklearn import feature_selection\nfrom sklearn import model_selection\nfrom sklearn import metrics\n\ncv_split \u003d model_selection.ShuffleSplit(n_splits \u003d 10, test_size \u003d .3, train_size \u003d .6, random_state \u003d 0 ) # run model 10x with 60/30 split intentionally leaving out 10%\n#create table to compare MLA metrics\nMLA_columns \u003d [\u0027MLA Name\u0027, \u0027MLA Parameters\u0027,\u0027MLA Test Accuracy Mean\u0027, \u0027MLA Test Accuracy 3*STD\u0027 ,\u0027MLA Time\u0027]\nMLA_compare \u003d pd.DataFrame(columns \u003d MLA_columns)\n#create table to compare MLA predictions\nMLA_predict \u003d {}\n\n#index through MLA and save performance to table\nrow_index \u003d 0\nfor alg in MLA:\n\n    #set name and parameters\n    MLA_name \u003d alg.__class__.__name__\n    MLA_compare.loc[row_index, \u0027MLA Name\u0027] \u003d MLA_name\n    MLA_compare.loc[row_index, \u0027MLA Parameters\u0027] \u003d str(alg.get_params())\n    \n    #score model with cross validation: http://scikit-learn.org/stable/modules/generated/sklearn.model_selection.cross_validate.html#sklearn.model_selection.cross_validate\n    cv_results \u003d model_selection.cross_validate(alg, train_data_X,train_data_Y, cv  \u003d cv_split)\n\n    MLA_compare.loc[row_index, \u0027MLA Time\u0027] \u003d cv_results[\u0027fit_time\u0027].mean()\n    MLA_compare.loc[row_index, \u0027MLA Test Accuracy Mean\u0027] \u003d cv_results[\u0027test_score\u0027].mean()   \n    #if this is a non-bias random sample, then +/-3 standard deviations (std) from the mean, should statistically capture 99.7% of the subsets\n    MLA_compare.loc[row_index, \u0027MLA Test Accuracy 3*STD\u0027] \u003d cv_results[\u0027test_score\u0027].std()*3   #let\u0027s know the worst that can happen!\n    \n\n    #save MLA predictions - see section 6 for usage\n    alg.fit(train_data_X,train_data_Y)\n    MLA_predict[MLA_name] \u003d alg.predict(test_data_X)\n    \n    row_index+\u003d1",
      "metadata": {
        "pycharm": {
          "metadata": false,
          "name": "#%%\n",
          "is_executing": false
        }
      }
    },
    {
      "cell_type": "code",
      "execution_count": 118,
      "outputs": [
        {
          "data": {
            "text/plain": "                         MLA Name  \\\n8               RidgeClassifierCV   \n6            LogisticRegressionCV   \n3      GradientBoostingClassifier   \n0              AdaBoostClassifier   \n19     LinearDiscriminantAnalysis   \n4          RandomForestClassifier   \n1               BaggingClassifier   \n11                    BernoulliNB   \n2            ExtraTreesClassifier   \n17         DecisionTreeClassifier   \n18            ExtraTreeClassifier   \n16                      LinearSVC   \n13           KNeighborsClassifier   \n14                            SVC   \n15                          NuSVC   \n7     PassiveAggressiveClassifier   \n5       GaussianProcessClassifier   \n9                   SGDClassifier   \n10                     Perceptron   \n20  QuadraticDiscriminantAnalysis   \n12                     GaussianNB   \n21                  XGBClassifier   \n\n                                       MLA Parameters MLA Test Accuracy Mean  \\\n8   {\u0027alphas\u0027: array([ 0.1,  1. , 10. ]), \u0027class_w...               0.827612   \n6   {\u0027Cs\u0027: 10, \u0027class_weight\u0027: None, \u0027cv\u0027: \u0027warn\u0027,...               0.817537   \n3   {\u0027criterion\u0027: \u0027friedman_mse\u0027, \u0027init\u0027: None, \u0027l...               0.813806   \n0   {\u0027algorithm\u0027: \u0027SAMME.R\u0027, \u0027base_estimator\u0027: Non...               0.798134   \n19  {\u0027n_components\u0027: None, \u0027priors\u0027: None, \u0027shrink...               0.797388   \n4   {\u0027bootstrap\u0027: True, \u0027class_weight\u0027: None, \u0027cri...               0.795149   \n1   {\u0027base_estimator\u0027: None, \u0027bootstrap\u0027: True, \u0027b...               0.794776   \n11  {\u0027alpha\u0027: 1.0, \u0027binarize\u0027: 0.0, \u0027class_prior\u0027:...               0.789552   \n2   {\u0027bootstrap\u0027: False, \u0027class_weight\u0027: None, \u0027cr...               0.785821   \n17  {\u0027class_weight\u0027: None, \u0027criterion\u0027: \u0027gini\u0027, \u0027m...               0.749254   \n18  {\u0027class_weight\u0027: None, \u0027criterion\u0027: \u0027gini\u0027, \u0027m...               0.737687   \n16  {\u0027C\u0027: 1.0, \u0027class_weight\u0027: None, \u0027dual\u0027: True,...               0.646642   \n13  {\u0027algorithm\u0027: \u0027auto\u0027, \u0027leaf_size\u0027: 30, \u0027metric...               0.629851   \n14  {\u0027C\u0027: 1.0, \u0027cache_size\u0027: 200, \u0027class_weight\u0027: ...               0.616045   \n15  {\u0027cache_size\u0027: 200, \u0027class_weight\u0027: None, \u0027coe...               0.607836   \n7   {\u0027C\u0027: 1.0, \u0027average\u0027: False, \u0027class_weight\u0027: N...               0.602985   \n5   {\u0027copy_X_train\u0027: True, \u0027kernel\u0027: None, \u0027max_it...               0.598134   \n9   {\u0027alpha\u0027: 0.0001, \u0027average\u0027: False, \u0027class_wei...               0.585448   \n10  {\u0027alpha\u0027: 0.0001, \u0027class_weight\u0027: None, \u0027early...               0.521269   \n20  {\u0027priors\u0027: None, \u0027reg_param\u0027: 0.0, \u0027store_cova...               0.502985   \n12           {\u0027priors\u0027: None, \u0027var_smoothing\u0027: 1e-09}               0.496269   \n21  {\u0027base_score\u0027: 0.5, \u0027booster\u0027: \u0027gbtree\u0027, \u0027cols...                    NaN   \n\n   MLA Test Accuracy 3*STD   MLA Time  \n8                0.0614755  0.0800512  \n6                0.0721038    4.59476  \n3                0.0628164   0.327697  \n0                0.0628164   0.250645  \n19               0.0557571   0.102436  \n4                0.0759958  0.0378773  \n1                0.0543804   0.091343  \n11               0.0801292  0.0172903  \n2                0.0586379  0.0420738  \n17               0.0716418  0.0329794  \n18               0.0699157  0.0124929  \n16                0.398704  0.0990386  \n13               0.0775222  0.0119913  \n14               0.0489091   0.673384  \n15               0.0748327   0.716456  \n7                 0.329082  0.0349792  \n5                0.0987425   0.381464  \n9                 0.271369  0.0538672  \n10                0.332523  0.0248849  \n20               0.0557008  0.0955414  \n12               0.0592332  0.0112938  \n21                     NaN        NaN  ",
            "text/html": "\u003cdiv\u003e\n\u003cstyle scoped\u003e\n    .dataframe tbody tr th:only-of-type {\n        vertical-align: middle;\n    }\n\n    .dataframe tbody tr th {\n        vertical-align: top;\n    }\n\n    .dataframe thead th {\n        text-align: right;\n    }\n\u003c/style\u003e\n\u003ctable border\u003d\"1\" class\u003d\"dataframe\"\u003e\n  \u003cthead\u003e\n    \u003ctr style\u003d\"text-align: right;\"\u003e\n      \u003cth\u003e\u003c/th\u003e\n      \u003cth\u003eMLA Name\u003c/th\u003e\n      \u003cth\u003eMLA Parameters\u003c/th\u003e\n      \u003cth\u003eMLA Test Accuracy Mean\u003c/th\u003e\n      \u003cth\u003eMLA Test Accuracy 3*STD\u003c/th\u003e\n      \u003cth\u003eMLA Time\u003c/th\u003e\n    \u003c/tr\u003e\n  \u003c/thead\u003e\n  \u003ctbody\u003e\n    \u003ctr\u003e\n      \u003cth\u003e8\u003c/th\u003e\n      \u003ctd\u003eRidgeClassifierCV\u003c/td\u003e\n      \u003ctd\u003e{\u0027alphas\u0027: array([ 0.1,  1. , 10. ]), \u0027class_w...\u003c/td\u003e\n      \u003ctd\u003e0.827612\u003c/td\u003e\n      \u003ctd\u003e0.0614755\u003c/td\u003e\n      \u003ctd\u003e0.0800512\u003c/td\u003e\n    \u003c/tr\u003e\n    \u003ctr\u003e\n      \u003cth\u003e6\u003c/th\u003e\n      \u003ctd\u003eLogisticRegressionCV\u003c/td\u003e\n      \u003ctd\u003e{\u0027Cs\u0027: 10, \u0027class_weight\u0027: None, \u0027cv\u0027: \u0027warn\u0027,...\u003c/td\u003e\n      \u003ctd\u003e0.817537\u003c/td\u003e\n      \u003ctd\u003e0.0721038\u003c/td\u003e\n      \u003ctd\u003e4.59476\u003c/td\u003e\n    \u003c/tr\u003e\n    \u003ctr\u003e\n      \u003cth\u003e3\u003c/th\u003e\n      \u003ctd\u003eGradientBoostingClassifier\u003c/td\u003e\n      \u003ctd\u003e{\u0027criterion\u0027: \u0027friedman_mse\u0027, \u0027init\u0027: None, \u0027l...\u003c/td\u003e\n      \u003ctd\u003e0.813806\u003c/td\u003e\n      \u003ctd\u003e0.0628164\u003c/td\u003e\n      \u003ctd\u003e0.327697\u003c/td\u003e\n    \u003c/tr\u003e\n    \u003ctr\u003e\n      \u003cth\u003e0\u003c/th\u003e\n      \u003ctd\u003eAdaBoostClassifier\u003c/td\u003e\n      \u003ctd\u003e{\u0027algorithm\u0027: \u0027SAMME.R\u0027, \u0027base_estimator\u0027: Non...\u003c/td\u003e\n      \u003ctd\u003e0.798134\u003c/td\u003e\n      \u003ctd\u003e0.0628164\u003c/td\u003e\n      \u003ctd\u003e0.250645\u003c/td\u003e\n    \u003c/tr\u003e\n    \u003ctr\u003e\n      \u003cth\u003e19\u003c/th\u003e\n      \u003ctd\u003eLinearDiscriminantAnalysis\u003c/td\u003e\n      \u003ctd\u003e{\u0027n_components\u0027: None, \u0027priors\u0027: None, \u0027shrink...\u003c/td\u003e\n      \u003ctd\u003e0.797388\u003c/td\u003e\n      \u003ctd\u003e0.0557571\u003c/td\u003e\n      \u003ctd\u003e0.102436\u003c/td\u003e\n    \u003c/tr\u003e\n    \u003ctr\u003e\n      \u003cth\u003e4\u003c/th\u003e\n      \u003ctd\u003eRandomForestClassifier\u003c/td\u003e\n      \u003ctd\u003e{\u0027bootstrap\u0027: True, \u0027class_weight\u0027: None, \u0027cri...\u003c/td\u003e\n      \u003ctd\u003e0.795149\u003c/td\u003e\n      \u003ctd\u003e0.0759958\u003c/td\u003e\n      \u003ctd\u003e0.0378773\u003c/td\u003e\n    \u003c/tr\u003e\n    \u003ctr\u003e\n      \u003cth\u003e1\u003c/th\u003e\n      \u003ctd\u003eBaggingClassifier\u003c/td\u003e\n      \u003ctd\u003e{\u0027base_estimator\u0027: None, \u0027bootstrap\u0027: True, \u0027b...\u003c/td\u003e\n      \u003ctd\u003e0.794776\u003c/td\u003e\n      \u003ctd\u003e0.0543804\u003c/td\u003e\n      \u003ctd\u003e0.091343\u003c/td\u003e\n    \u003c/tr\u003e\n    \u003ctr\u003e\n      \u003cth\u003e11\u003c/th\u003e\n      \u003ctd\u003eBernoulliNB\u003c/td\u003e\n      \u003ctd\u003e{\u0027alpha\u0027: 1.0, \u0027binarize\u0027: 0.0, \u0027class_prior\u0027:...\u003c/td\u003e\n      \u003ctd\u003e0.789552\u003c/td\u003e\n      \u003ctd\u003e0.0801292\u003c/td\u003e\n      \u003ctd\u003e0.0172903\u003c/td\u003e\n    \u003c/tr\u003e\n    \u003ctr\u003e\n      \u003cth\u003e2\u003c/th\u003e\n      \u003ctd\u003eExtraTreesClassifier\u003c/td\u003e\n      \u003ctd\u003e{\u0027bootstrap\u0027: False, \u0027class_weight\u0027: None, \u0027cr...\u003c/td\u003e\n      \u003ctd\u003e0.785821\u003c/td\u003e\n      \u003ctd\u003e0.0586379\u003c/td\u003e\n      \u003ctd\u003e0.0420738\u003c/td\u003e\n    \u003c/tr\u003e\n    \u003ctr\u003e\n      \u003cth\u003e17\u003c/th\u003e\n      \u003ctd\u003eDecisionTreeClassifier\u003c/td\u003e\n      \u003ctd\u003e{\u0027class_weight\u0027: None, \u0027criterion\u0027: \u0027gini\u0027, \u0027m...\u003c/td\u003e\n      \u003ctd\u003e0.749254\u003c/td\u003e\n      \u003ctd\u003e0.0716418\u003c/td\u003e\n      \u003ctd\u003e0.0329794\u003c/td\u003e\n    \u003c/tr\u003e\n    \u003ctr\u003e\n      \u003cth\u003e18\u003c/th\u003e\n      \u003ctd\u003eExtraTreeClassifier\u003c/td\u003e\n      \u003ctd\u003e{\u0027class_weight\u0027: None, \u0027criterion\u0027: \u0027gini\u0027, \u0027m...\u003c/td\u003e\n      \u003ctd\u003e0.737687\u003c/td\u003e\n      \u003ctd\u003e0.0699157\u003c/td\u003e\n      \u003ctd\u003e0.0124929\u003c/td\u003e\n    \u003c/tr\u003e\n    \u003ctr\u003e\n      \u003cth\u003e16\u003c/th\u003e\n      \u003ctd\u003eLinearSVC\u003c/td\u003e\n      \u003ctd\u003e{\u0027C\u0027: 1.0, \u0027class_weight\u0027: None, \u0027dual\u0027: True,...\u003c/td\u003e\n      \u003ctd\u003e0.646642\u003c/td\u003e\n      \u003ctd\u003e0.398704\u003c/td\u003e\n      \u003ctd\u003e0.0990386\u003c/td\u003e\n    \u003c/tr\u003e\n    \u003ctr\u003e\n      \u003cth\u003e13\u003c/th\u003e\n      \u003ctd\u003eKNeighborsClassifier\u003c/td\u003e\n      \u003ctd\u003e{\u0027algorithm\u0027: \u0027auto\u0027, \u0027leaf_size\u0027: 30, \u0027metric...\u003c/td\u003e\n      \u003ctd\u003e0.629851\u003c/td\u003e\n      \u003ctd\u003e0.0775222\u003c/td\u003e\n      \u003ctd\u003e0.0119913\u003c/td\u003e\n    \u003c/tr\u003e\n    \u003ctr\u003e\n      \u003cth\u003e14\u003c/th\u003e\n      \u003ctd\u003eSVC\u003c/td\u003e\n      \u003ctd\u003e{\u0027C\u0027: 1.0, \u0027cache_size\u0027: 200, \u0027class_weight\u0027: ...\u003c/td\u003e\n      \u003ctd\u003e0.616045\u003c/td\u003e\n      \u003ctd\u003e0.0489091\u003c/td\u003e\n      \u003ctd\u003e0.673384\u003c/td\u003e\n    \u003c/tr\u003e\n    \u003ctr\u003e\n      \u003cth\u003e15\u003c/th\u003e\n      \u003ctd\u003eNuSVC\u003c/td\u003e\n      \u003ctd\u003e{\u0027cache_size\u0027: 200, \u0027class_weight\u0027: None, \u0027coe...\u003c/td\u003e\n      \u003ctd\u003e0.607836\u003c/td\u003e\n      \u003ctd\u003e0.0748327\u003c/td\u003e\n      \u003ctd\u003e0.716456\u003c/td\u003e\n    \u003c/tr\u003e\n    \u003ctr\u003e\n      \u003cth\u003e7\u003c/th\u003e\n      \u003ctd\u003ePassiveAggressiveClassifier\u003c/td\u003e\n      \u003ctd\u003e{\u0027C\u0027: 1.0, \u0027average\u0027: False, \u0027class_weight\u0027: N...\u003c/td\u003e\n      \u003ctd\u003e0.602985\u003c/td\u003e\n      \u003ctd\u003e0.329082\u003c/td\u003e\n      \u003ctd\u003e0.0349792\u003c/td\u003e\n    \u003c/tr\u003e\n    \u003ctr\u003e\n      \u003cth\u003e5\u003c/th\u003e\n      \u003ctd\u003eGaussianProcessClassifier\u003c/td\u003e\n      \u003ctd\u003e{\u0027copy_X_train\u0027: True, \u0027kernel\u0027: None, \u0027max_it...\u003c/td\u003e\n      \u003ctd\u003e0.598134\u003c/td\u003e\n      \u003ctd\u003e0.0987425\u003c/td\u003e\n      \u003ctd\u003e0.381464\u003c/td\u003e\n    \u003c/tr\u003e\n    \u003ctr\u003e\n      \u003cth\u003e9\u003c/th\u003e\n      \u003ctd\u003eSGDClassifier\u003c/td\u003e\n      \u003ctd\u003e{\u0027alpha\u0027: 0.0001, \u0027average\u0027: False, \u0027class_wei...\u003c/td\u003e\n      \u003ctd\u003e0.585448\u003c/td\u003e\n      \u003ctd\u003e0.271369\u003c/td\u003e\n      \u003ctd\u003e0.0538672\u003c/td\u003e\n    \u003c/tr\u003e\n    \u003ctr\u003e\n      \u003cth\u003e10\u003c/th\u003e\n      \u003ctd\u003ePerceptron\u003c/td\u003e\n      \u003ctd\u003e{\u0027alpha\u0027: 0.0001, \u0027class_weight\u0027: None, \u0027early...\u003c/td\u003e\n      \u003ctd\u003e0.521269\u003c/td\u003e\n      \u003ctd\u003e0.332523\u003c/td\u003e\n      \u003ctd\u003e0.0248849\u003c/td\u003e\n    \u003c/tr\u003e\n    \u003ctr\u003e\n      \u003cth\u003e20\u003c/th\u003e\n      \u003ctd\u003eQuadraticDiscriminantAnalysis\u003c/td\u003e\n      \u003ctd\u003e{\u0027priors\u0027: None, \u0027reg_param\u0027: 0.0, \u0027store_cova...\u003c/td\u003e\n      \u003ctd\u003e0.502985\u003c/td\u003e\n      \u003ctd\u003e0.0557008\u003c/td\u003e\n      \u003ctd\u003e0.0955414\u003c/td\u003e\n    \u003c/tr\u003e\n    \u003ctr\u003e\n      \u003cth\u003e12\u003c/th\u003e\n      \u003ctd\u003eGaussianNB\u003c/td\u003e\n      \u003ctd\u003e{\u0027priors\u0027: None, \u0027var_smoothing\u0027: 1e-09}\u003c/td\u003e\n      \u003ctd\u003e0.496269\u003c/td\u003e\n      \u003ctd\u003e0.0592332\u003c/td\u003e\n      \u003ctd\u003e0.0112938\u003c/td\u003e\n    \u003c/tr\u003e\n    \u003ctr\u003e\n      \u003cth\u003e21\u003c/th\u003e\n      \u003ctd\u003eXGBClassifier\u003c/td\u003e\n      \u003ctd\u003e{\u0027base_score\u0027: 0.5, \u0027booster\u0027: \u0027gbtree\u0027, \u0027cols...\u003c/td\u003e\n      \u003ctd\u003eNaN\u003c/td\u003e\n      \u003ctd\u003eNaN\u003c/td\u003e\n      \u003ctd\u003eNaN\u003c/td\u003e\n    \u003c/tr\u003e\n  \u003c/tbody\u003e\n\u003c/table\u003e\n\u003c/div\u003e"
          },
          "metadata": {},
          "output_type": "execute_result",
          "execution_count": 118
        }
      ],
      "source": "MLA_compare.sort_values(by \u003d [\u0027MLA Test Accuracy Mean\u0027], ascending \u003d False, inplace \u003d True)\nMLA_compare",
      "metadata": {
        "pycharm": {
          "metadata": false,
          "name": "#%%\n",
          "is_executing": false
        }
      }
    },
    {
      "cell_type": "code",
      "execution_count": 115,
      "outputs": [
        {
          "data": {
            "text/plain": "Text(0, 0.5, \u0027Algorithm\u0027)"
          },
          "metadata": {},
          "output_type": "execute_result",
          "execution_count": 115
        },
        {
          "data": {
            "text/plain": "\u003cFigure size 432x288 with 1 Axes\u003e",
            "image/png": "[encoded data removed]"
          },
          "metadata": {
            "needs_background": "light"
          },
          "output_type": "display_data"
        }
      ],
      "source": "#barplot using https://seaborn.pydata.org/generated/seaborn.barplot.html\nsns.barplot(x\u003d\u0027MLA Test Accuracy Mean\u0027, y \u003d \u0027MLA Name\u0027, data \u003d MLA_compare, color \u003d \u0027m\u0027)\n\n#prettify using pyplot: https://matplotlib.org/api/pyplot_api.html\nplt.title(\u0027Machine Learning Algorithm Accuracy Score \\n\u0027)\nplt.xlabel(\u0027Accuracy Score (%)\u0027)\nplt.ylabel(\u0027Algorithm\u0027)",
      "metadata": {
        "pycharm": {
          "metadata": false,
          "name": "#%%\n",
          "is_executing": false
        }
      }
    },
    {
      "cell_type": "code",
      "execution_count": 120,
      "outputs": [
        {
          "data": {
            "text/plain": "       PassengerId        Fare    Pclass_1    Pclass_2    Pclass_3  \\\ncount   891.000000  891.000000  891.000000  891.000000  891.000000   \nmean    446.000000   32.204208    0.242424    0.206510    0.551066   \nstd     257.353842   49.693429    0.428790    0.405028    0.497665   \nmin       1.000000    0.000000    0.000000    0.000000    0.000000   \n25%     223.500000    7.910400    0.000000    0.000000    0.000000   \n50%     446.000000   14.454200    0.000000    0.000000    1.000000   \n75%     668.500000   31.000000    0.000000    0.000000    1.000000   \nmax     891.000000  512.329200    1.000000    1.000000    1.000000   \n\n       Sex_female    Sex_male     SibSp_0     SibSp_1     SibSp_2  \\\ncount  891.000000  891.000000  891.000000  891.000000  891.000000   \nmean     0.352413    0.647587    0.682379    0.234568    0.031425   \nstd      0.477990    0.477990    0.465813    0.423966    0.174562   \nmin      0.000000    0.000000    0.000000    0.000000    0.000000   \n25%      0.000000    0.000000    0.000000    0.000000    0.000000   \n50%      0.000000    1.000000    1.000000    0.000000    0.000000   \n75%      1.000000    1.000000    1.000000    0.000000    0.000000   \nmax      1.000000    1.000000    1.000000    1.000000    1.000000   \n\n           ...        Cabin_nan_A  Cabin_nan_B  Cabin_nan_C  Cabin_nan_D  \\\ncount      ...         891.000000   891.000000   891.000000   891.000000   \nmean       ...           0.016835     0.052750     0.066218     0.037037   \nstd        ...           0.128725     0.223659     0.248802     0.188959   \nmin        ...           0.000000     0.000000     0.000000     0.000000   \n25%        ...           0.000000     0.000000     0.000000     0.000000   \n50%        ...           0.000000     0.000000     0.000000     0.000000   \n75%        ...           0.000000     0.000000     0.000000     0.000000   \nmax        ...           1.000000     1.000000     1.000000     1.000000   \n\n       Cabin_nan_E  Cabin_nan_F  Cabin_nan_G  Cabin_nan_T  Cabin_nan_0.0  \\\ncount   891.000000   891.000000   891.000000   891.000000     891.000000   \nmean      0.035915     0.014590     0.004489     0.001122       0.228956   \nstd       0.186182     0.119973     0.066890     0.033501       0.420397   \nmin       0.000000     0.000000     0.000000     0.000000       0.000000   \n25%       0.000000     0.000000     0.000000     0.000000       0.000000   \n50%       0.000000     0.000000     0.000000     0.000000       0.000000   \n75%       0.000000     0.000000     0.000000     0.000000       0.000000   \nmax       1.000000     1.000000     1.000000     1.000000       1.000000   \n\n       Cabin_nan_1.0  \ncount     891.000000  \nmean        0.771044  \nstd         0.420397  \nmin         0.000000  \n25%         1.000000  \n50%         1.000000  \n75%         1.000000  \nmax         1.000000  \n\n[8 rows x 210 columns]",
            "text/html": "\u003cdiv\u003e\n\u003cstyle scoped\u003e\n    .dataframe tbody tr th:only-of-type {\n        vertical-align: middle;\n    }\n\n    .dataframe tbody tr th {\n        vertical-align: top;\n    }\n\n    .dataframe thead th {\n        text-align: right;\n    }\n\u003c/style\u003e\n\u003ctable border\u003d\"1\" class\u003d\"dataframe\"\u003e\n  \u003cthead\u003e\n    \u003ctr style\u003d\"text-align: right;\"\u003e\n      \u003cth\u003e\u003c/th\u003e\n      \u003cth\u003ePassengerId\u003c/th\u003e\n      \u003cth\u003eFare\u003c/th\u003e\n      \u003cth\u003ePclass_1\u003c/th\u003e\n      \u003cth\u003ePclass_2\u003c/th\u003e\n      \u003cth\u003ePclass_3\u003c/th\u003e\n      \u003cth\u003eSex_female\u003c/th\u003e\n      \u003cth\u003eSex_male\u003c/th\u003e\n      \u003cth\u003eSibSp_0\u003c/th\u003e\n      \u003cth\u003eSibSp_1\u003c/th\u003e\n      \u003cth\u003eSibSp_2\u003c/th\u003e\n      \u003cth\u003e...\u003c/th\u003e\n      \u003cth\u003eCabin_nan_A\u003c/th\u003e\n      \u003cth\u003eCabin_nan_B\u003c/th\u003e\n      \u003cth\u003eCabin_nan_C\u003c/th\u003e\n      \u003cth\u003eCabin_nan_D\u003c/th\u003e\n      \u003cth\u003eCabin_nan_E\u003c/th\u003e\n      \u003cth\u003eCabin_nan_F\u003c/th\u003e\n      \u003cth\u003eCabin_nan_G\u003c/th\u003e\n      \u003cth\u003eCabin_nan_T\u003c/th\u003e\n      \u003cth\u003eCabin_nan_0.0\u003c/th\u003e\n      \u003cth\u003eCabin_nan_1.0\u003c/th\u003e\n    \u003c/tr\u003e\n  \u003c/thead\u003e\n  \u003ctbody\u003e\n    \u003ctr\u003e\n      \u003cth\u003ecount\u003c/th\u003e\n      \u003ctd\u003e891.000000\u003c/td\u003e\n      \u003ctd\u003e891.000000\u003c/td\u003e\n      \u003ctd\u003e891.000000\u003c/td\u003e\n      \u003ctd\u003e891.000000\u003c/td\u003e\n      \u003ctd\u003e891.000000\u003c/td\u003e\n      \u003ctd\u003e891.000000\u003c/td\u003e\n      \u003ctd\u003e891.000000\u003c/td\u003e\n      \u003ctd\u003e891.000000\u003c/td\u003e\n      \u003ctd\u003e891.000000\u003c/td\u003e\n      \u003ctd\u003e891.000000\u003c/td\u003e\n      \u003ctd\u003e...\u003c/td\u003e\n      \u003ctd\u003e891.000000\u003c/td\u003e\n      \u003ctd\u003e891.000000\u003c/td\u003e\n      \u003ctd\u003e891.000000\u003c/td\u003e\n      \u003ctd\u003e891.000000\u003c/td\u003e\n      \u003ctd\u003e891.000000\u003c/td\u003e\n      \u003ctd\u003e891.000000\u003c/td\u003e\n      \u003ctd\u003e891.000000\u003c/td\u003e\n      \u003ctd\u003e891.000000\u003c/td\u003e\n      \u003ctd\u003e891.000000\u003c/td\u003e\n      \u003ctd\u003e891.000000\u003c/td\u003e\n    \u003c/tr\u003e\n    \u003ctr\u003e\n      \u003cth\u003emean\u003c/th\u003e\n      \u003ctd\u003e446.000000\u003c/td\u003e\n      \u003ctd\u003e32.204208\u003c/td\u003e\n      \u003ctd\u003e0.242424\u003c/td\u003e\n      \u003ctd\u003e0.206510\u003c/td\u003e\n      \u003ctd\u003e0.551066\u003c/td\u003e\n      \u003ctd\u003e0.352413\u003c/td\u003e\n      \u003ctd\u003e0.647587\u003c/td\u003e\n      \u003ctd\u003e0.682379\u003c/td\u003e\n      \u003ctd\u003e0.234568\u003c/td\u003e\n      \u003ctd\u003e0.031425\u003c/td\u003e\n      \u003ctd\u003e...\u003c/td\u003e\n      \u003ctd\u003e0.016835\u003c/td\u003e\n      \u003ctd\u003e0.052750\u003c/td\u003e\n      \u003ctd\u003e0.066218\u003c/td\u003e\n      \u003ctd\u003e0.037037\u003c/td\u003e\n      \u003ctd\u003e0.035915\u003c/td\u003e\n      \u003ctd\u003e0.014590\u003c/td\u003e\n      \u003ctd\u003e0.004489\u003c/td\u003e\n      \u003ctd\u003e0.001122\u003c/td\u003e\n      \u003ctd\u003e0.228956\u003c/td\u003e\n      \u003ctd\u003e0.771044\u003c/td\u003e\n    \u003c/tr\u003e\n    \u003ctr\u003e\n      \u003cth\u003estd\u003c/th\u003e\n      \u003ctd\u003e257.353842\u003c/td\u003e\n      \u003ctd\u003e49.693429\u003c/td\u003e\n      \u003ctd\u003e0.428790\u003c/td\u003e\n      \u003ctd\u003e0.405028\u003c/td\u003e\n      \u003ctd\u003e0.497665\u003c/td\u003e\n      \u003ctd\u003e0.477990\u003c/td\u003e\n      \u003ctd\u003e0.477990\u003c/td\u003e\n      \u003ctd\u003e0.465813\u003c/td\u003e\n      \u003ctd\u003e0.423966\u003c/td\u003e\n      \u003ctd\u003e0.174562\u003c/td\u003e\n      \u003ctd\u003e...\u003c/td\u003e\n      \u003ctd\u003e0.128725\u003c/td\u003e\n      \u003ctd\u003e0.223659\u003c/td\u003e\n      \u003ctd\u003e0.248802\u003c/td\u003e\n      \u003ctd\u003e0.188959\u003c/td\u003e\n      \u003ctd\u003e0.186182\u003c/td\u003e\n      \u003ctd\u003e0.119973\u003c/td\u003e\n      \u003ctd\u003e0.066890\u003c/td\u003e\n      \u003ctd\u003e0.033501\u003c/td\u003e\n      \u003ctd\u003e0.420397\u003c/td\u003e\n      \u003ctd\u003e0.420397\u003c/td\u003e\n    \u003c/tr\u003e\n    \u003ctr\u003e\n      \u003cth\u003emin\u003c/th\u003e\n      \u003ctd\u003e1.000000\u003c/td\u003e\n      \u003ctd\u003e0.000000\u003c/td\u003e\n      \u003ctd\u003e0.000000\u003c/td\u003e\n      \u003ctd\u003e0.000000\u003c/td\u003e\n      \u003ctd\u003e0.000000\u003c/td\u003e\n      \u003ctd\u003e0.000000\u003c/td\u003e\n      \u003ctd\u003e0.000000\u003c/td\u003e\n      \u003ctd\u003e0.000000\u003c/td\u003e\n      \u003ctd\u003e0.000000\u003c/td\u003e\n      \u003ctd\u003e0.000000\u003c/td\u003e\n      \u003ctd\u003e...\u003c/td\u003e\n      \u003ctd\u003e0.000000\u003c/td\u003e\n      \u003ctd\u003e0.000000\u003c/td\u003e\n      \u003ctd\u003e0.000000\u003c/td\u003e\n      \u003ctd\u003e0.000000\u003c/td\u003e\n      \u003ctd\u003e0.000000\u003c/td\u003e\n      \u003ctd\u003e0.000000\u003c/td\u003e\n      \u003ctd\u003e0.000000\u003c/td\u003e\n      \u003ctd\u003e0.000000\u003c/td\u003e\n      \u003ctd\u003e0.000000\u003c/td\u003e\n      \u003ctd\u003e0.000000\u003c/td\u003e\n    \u003c/tr\u003e\n    \u003ctr\u003e\n      \u003cth\u003e25%\u003c/th\u003e\n      \u003ctd\u003e223.500000\u003c/td\u003e\n      \u003ctd\u003e7.910400\u003c/td\u003e\n      \u003ctd\u003e0.000000\u003c/td\u003e\n      \u003ctd\u003e0.000000\u003c/td\u003e\n      \u003ctd\u003e0.000000\u003c/td\u003e\n      \u003ctd\u003e0.000000\u003c/td\u003e\n      \u003ctd\u003e0.000000\u003c/td\u003e\n      \u003ctd\u003e0.000000\u003c/td\u003e\n      \u003ctd\u003e0.000000\u003c/td\u003e\n      \u003ctd\u003e0.000000\u003c/td\u003e\n      \u003ctd\u003e...\u003c/td\u003e\n      \u003ctd\u003e0.000000\u003c/td\u003e\n      \u003ctd\u003e0.000000\u003c/td\u003e\n      \u003ctd\u003e0.000000\u003c/td\u003e\n      \u003ctd\u003e0.000000\u003c/td\u003e\n      \u003ctd\u003e0.000000\u003c/td\u003e\n      \u003ctd\u003e0.000000\u003c/td\u003e\n      \u003ctd\u003e0.000000\u003c/td\u003e\n      \u003ctd\u003e0.000000\u003c/td\u003e\n      \u003ctd\u003e0.000000\u003c/td\u003e\n      \u003ctd\u003e1.000000\u003c/td\u003e\n    \u003c/tr\u003e\n    \u003ctr\u003e\n      \u003cth\u003e50%\u003c/th\u003e\n      \u003ctd\u003e446.000000\u003c/td\u003e\n      \u003ctd\u003e14.454200\u003c/td\u003e\n      \u003ctd\u003e0.000000\u003c/td\u003e\n      \u003ctd\u003e0.000000\u003c/td\u003e\n      \u003ctd\u003e1.000000\u003c/td\u003e\n      \u003ctd\u003e0.000000\u003c/td\u003e\n      \u003ctd\u003e1.000000\u003c/td\u003e\n      \u003ctd\u003e1.000000\u003c/td\u003e\n      \u003ctd\u003e0.000000\u003c/td\u003e\n      \u003ctd\u003e0.000000\u003c/td\u003e\n      \u003ctd\u003e...\u003c/td\u003e\n      \u003ctd\u003e0.000000\u003c/td\u003e\n      \u003ctd\u003e0.000000\u003c/td\u003e\n      \u003ctd\u003e0.000000\u003c/td\u003e\n      \u003ctd\u003e0.000000\u003c/td\u003e\n      \u003ctd\u003e0.000000\u003c/td\u003e\n      \u003ctd\u003e0.000000\u003c/td\u003e\n      \u003ctd\u003e0.000000\u003c/td\u003e\n      \u003ctd\u003e0.000000\u003c/td\u003e\n      \u003ctd\u003e0.000000\u003c/td\u003e\n      \u003ctd\u003e1.000000\u003c/td\u003e\n    \u003c/tr\u003e\n    \u003ctr\u003e\n      \u003cth\u003e75%\u003c/th\u003e\n      \u003ctd\u003e668.500000\u003c/td\u003e\n      \u003ctd\u003e31.000000\u003c/td\u003e\n      \u003ctd\u003e0.000000\u003c/td\u003e\n      \u003ctd\u003e0.000000\u003c/td\u003e\n      \u003ctd\u003e1.000000\u003c/td\u003e\n      \u003ctd\u003e1.000000\u003c/td\u003e\n      \u003ctd\u003e1.000000\u003c/td\u003e\n      \u003ctd\u003e1.000000\u003c/td\u003e\n      \u003ctd\u003e0.000000\u003c/td\u003e\n      \u003ctd\u003e0.000000\u003c/td\u003e\n      \u003ctd\u003e...\u003c/td\u003e\n      \u003ctd\u003e0.000000\u003c/td\u003e\n      \u003ctd\u003e0.000000\u003c/td\u003e\n      \u003ctd\u003e0.000000\u003c/td\u003e\n      \u003ctd\u003e0.000000\u003c/td\u003e\n      \u003ctd\u003e0.000000\u003c/td\u003e\n      \u003ctd\u003e0.000000\u003c/td\u003e\n      \u003ctd\u003e0.000000\u003c/td\u003e\n      \u003ctd\u003e0.000000\u003c/td\u003e\n      \u003ctd\u003e0.000000\u003c/td\u003e\n      \u003ctd\u003e1.000000\u003c/td\u003e\n    \u003c/tr\u003e\n    \u003ctr\u003e\n      \u003cth\u003emax\u003c/th\u003e\n      \u003ctd\u003e891.000000\u003c/td\u003e\n      \u003ctd\u003e512.329200\u003c/td\u003e\n      \u003ctd\u003e1.000000\u003c/td\u003e\n      \u003ctd\u003e1.000000\u003c/td\u003e\n      \u003ctd\u003e1.000000\u003c/td\u003e\n      \u003ctd\u003e1.000000\u003c/td\u003e\n      \u003ctd\u003e1.000000\u003c/td\u003e\n      \u003ctd\u003e1.000000\u003c/td\u003e\n      \u003ctd\u003e1.000000\u003c/td\u003e\n      \u003ctd\u003e1.000000\u003c/td\u003e\n      \u003ctd\u003e...\u003c/td\u003e\n      \u003ctd\u003e1.000000\u003c/td\u003e\n      \u003ctd\u003e1.000000\u003c/td\u003e\n      \u003ctd\u003e1.000000\u003c/td\u003e\n      \u003ctd\u003e1.000000\u003c/td\u003e\n      \u003ctd\u003e1.000000\u003c/td\u003e\n      \u003ctd\u003e1.000000\u003c/td\u003e\n      \u003ctd\u003e1.000000\u003c/td\u003e\n      \u003ctd\u003e1.000000\u003c/td\u003e\n      \u003ctd\u003e1.000000\u003c/td\u003e\n      \u003ctd\u003e1.000000\u003c/td\u003e\n    \u003c/tr\u003e\n  \u003c/tbody\u003e\n\u003c/table\u003e\n\u003cp\u003e8 rows × 210 columns\u003c/p\u003e\n\u003c/div\u003e"
          },
          "metadata": {},
          "output_type": "execute_result",
          "execution_count": 120
        }
      ],
      "source": "train_data_X.describe()\n",
      "metadata": {
        "pycharm": {
          "metadata": false,
          "name": "#%%\n",
          "is_executing": false
        }
      }
    }
  ],
  "metadata": {
    "language_info": {
      "codemirror_mode": {
        "name": "ipython",
        "version": 2
      },
      "file_extension": ".py",
      "mimetype": "text/x-python",
      "name": "python",
      "nbconvert_exporter": "python",
      "pygments_lexer": "ipython2",
      "version": "2.7.6"
    },
    "kernelspec": {
      "name": "python3",
      "language": "python",
      "display_name": "Python 3"
    },
    "stem_cell": {
      "cell_type": "raw",
      "source": "",
      "metadata": {
        "pycharm": {
          "metadata": false
        }
      }
    }
  },
  "nbformat": 4,
  "nbformat_minor": 0
}